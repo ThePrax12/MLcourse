{
  "nbformat": 4,
  "nbformat_minor": 0,
  "metadata": {
    "colab": {
      "provenance": [],
      "collapsed_sections": [
        "d2RWL217JK-1",
        "fsY6ZxtaJIrA",
        "txvPqg_XJLrx",
        "oQ-GwYiF2I8R",
        "MunZLNsn2fcl",
        "ooVG-Urf2s8E",
        "mCtSuPp82klC",
        "uRm3oT1n2ln4",
        "6EZSXKM72n6e"
      ],
      "authorship_tag": "ABX9TyOR1GVmkhD+nfvYcKUweqLG",
      "include_colab_link": true
    },
    "kernelspec": {
      "name": "python3",
      "display_name": "Python 3"
    },
    "language_info": {
      "name": "python"
    }
  },
  "cells": [
    {
      "cell_type": "markdown",
      "metadata": {
        "id": "view-in-github",
        "colab_type": "text"
      },
      "source": [
        "<a href=\"https://colab.research.google.com/github/ThePrax12/MLcourse/blob/main/%D0%97%D0%B0%D0%BD%D1%8F%D1%82%D0%B8%D0%B52.ipynb\" target=\"_parent\"><img src=\"https://colab.research.google.com/assets/colab-badge.svg\" alt=\"Open In Colab\"/></a>"
      ]
    },
    {
      "cell_type": "markdown",
      "source": [
        "#Коллекции в Python."
      ],
      "metadata": {
        "id": "ZKMpC0HIL3wu"
      }
    },
    {
      "cell_type": "markdown",
      "source": [
        "Коллекции - это специальные структуры данных, которые позволяют хранить множество элементов одного или разных типов. Они очень полезны для организации и обработки данных."
      ],
      "metadata": {
        "id": "PteXgxJIMvAi"
      }
    },
    {
      "cell_type": "markdown",
      "source": [
        "##Списки list()"
      ],
      "metadata": {
        "id": "kNzZLaXgMx3-"
      }
    },
    {
      "cell_type": "markdown",
      "source": [
        "Lists в Python являются одним из наиболее универсальных и широко используемых типов коллекций. Они представляют собой упорядоченные изменяемые коллекции элементов."
      ],
      "metadata": {
        "id": "0ZycM0nmM-pc"
      }
    },
    {
      "cell_type": "markdown",
      "source": [
        "Создание списка"
      ],
      "metadata": {
        "id": "Z_35ZKFcNWgw"
      }
    },
    {
      "cell_type": "code",
      "execution_count": null,
      "metadata": {
        "colab": {
          "base_uri": "https://localhost:8080/"
        },
        "id": "jeS1vEOZInm-",
        "outputId": "7021894b-8a8c-4b39-e9ed-96f67b849e64"
      },
      "outputs": [
        {
          "output_type": "stream",
          "name": "stdout",
          "text": [
            "[1, 2, 3.25, 'a', 'qwerty', [1, 2, 3], 1, '1 2 3'] <class 'list'>\n",
            "Длинна этого списка 8\n"
          ]
        }
      ],
      "source": [
        "arr = [1, 2, 3.25, 'a', 'qwerty', [1,2,3] ]\n",
        "# добавляем число\n",
        "arr.append(1) #метод привязан к объекту и чтото с ним совершает\n",
        "# добавляем строку\n",
        "arr.append('1 2 3')\n",
        "# смотрим что хранится\n",
        "print(arr, type(arr))\n",
        "print(\"Длинна этого списка\", len(arr))"
      ]
    },
    {
      "cell_type": "code",
      "source": [
        "#создаём список из строки через команду list(), он автоматически разделится на элементы списка\n",
        "arr1 = list('123467')\n",
        "print('1:', arr1)\n",
        "\n",
        "arr2 = list()\n",
        "print('2:', arr2)\n",
        "\n",
        "arr3 = []\n",
        "print('3:', arr3)"
      ],
      "metadata": {
        "colab": {
          "base_uri": "https://localhost:8080/"
        },
        "id": "AzLFuEv0N9ub",
        "outputId": "84d63bb4-d087-4700-e524-01093af4f936"
      },
      "execution_count": null,
      "outputs": [
        {
          "output_type": "stream",
          "name": "stdout",
          "text": [
            "1: ['1', '2', '3', '4', '6', '7']\n",
            "2: []\n",
            "3: []\n"
          ]
        }
      ]
    },
    {
      "cell_type": "markdown",
      "source": [
        "Операции со списками совершаются аналогично строкам:"
      ],
      "metadata": {
        "id": "LNswvUWsT1Sa"
      }
    },
    {
      "cell_type": "code",
      "source": [
        "lst1 = [1,2,3]\n",
        "lst2 = [4,5,6]\n",
        "\n",
        "print(lst1 + lst2)\n",
        "print(lst1 * 2)\n",
        "print(2 in lst1)\n",
        "print([1,2] in lst1)"
      ],
      "metadata": {
        "colab": {
          "base_uri": "https://localhost:8080/"
        },
        "id": "bFJN1PWVT7Iu",
        "outputId": "c7ae4557-b1f5-4e72-9e57-b95e56fdd7ba"
      },
      "execution_count": null,
      "outputs": [
        {
          "output_type": "stream",
          "name": "stdout",
          "text": [
            "[1, 2, 3, 4, 5, 6]\n",
            "[1, 2, 3, 1, 2, 3]\n",
            "True\n",
            "False\n"
          ]
        }
      ]
    },
    {
      "cell_type": "markdown",
      "source": [
        "### Индексация и срезы"
      ],
      "metadata": {
        "id": "xY5XERXfPedK"
      }
    },
    {
      "cell_type": "markdown",
      "source": [
        "Индексация и срезы работают также как и со строками."
      ],
      "metadata": {
        "id": "j45axZ7PPjq2"
      }
    },
    {
      "cell_type": "code",
      "source": [
        "#   -8 -7 -6 -5 -4 -3 -2 -1\n",
        "#    0  1  2  3  4  5  6  7\n",
        "A = [1, 2, 3, 4, 5, 6, 7, 8]"
      ],
      "metadata": {
        "id": "ohjsXJrjPtlo"
      },
      "execution_count": null,
      "outputs": []
    },
    {
      "cell_type": "markdown",
      "source": [
        "\n",
        "Срезу для списка `A` берётся следующим образом:\n",
        "```\n",
        "A[начало:конец-1:шаг]\n",
        "```"
      ],
      "metadata": {
        "id": "E_xiYsiXPwyB"
      }
    },
    {
      "cell_type": "code",
      "source": [
        "print('От начала до (3-1=)2 элемента:', A[:3]) # 1, 2, 3\n",
        "print('От шестого элемента до конца:', A[6:]) # 7,9\n",
        "print('От 3-го элемента до 5-ого с шагом 1:', A[3:6:1]) # 3, 4, 5\n",
        "print('От первого элемента до 6-ого с шагом 2:', A[1:7:2]) # 2, 4,  6\n",
        "print('От конца до 4-го элемента с шагом 1:', A[-1:4]) # none\n",
        "print('Ничего не вывелось, так как шаг положительный, а движение должно быть отрицательным')\n",
        "print('От конца до 4-го элемента с шагом -1:', A[-1:4:-1]) # 8, 7, 6\n",
        "print('От конца до -4 элемента с шагом -1:', A[-1:-4:1]) # none\n",
        "print('Последний элемент в списке:', A[-1]) # 8\n",
        "print('От -7 элементам до конца:', A[-7:]) # 2, 3, 4, 5, 6, 7, 8"
      ],
      "metadata": {
        "colab": {
          "base_uri": "https://localhost:8080/"
        },
        "id": "sRe1vwFuP08m",
        "outputId": "37e5b5f7-da8f-4bdb-9204-dc4396c5b711"
      },
      "execution_count": null,
      "outputs": [
        {
          "output_type": "stream",
          "name": "stdout",
          "text": [
            "От начала до (3-1=)2 элемента: [1, 2, 3]\n",
            "От шестого элемента до конца: [7, 8]\n",
            "От 3-го элемента до 5-ого с шагом 1: [4, 5, 6]\n",
            "От первого элемента до 6-ого с шагом 2: [2, 4, 6]\n",
            "От конца до 4-го элемента с шагом 1: []\n",
            "Ничего не вывелось, так как шаг положительный, а движение должно быть отрицательным\n",
            "От конца до 4-го элемента с шагом -1: [8, 7, 6]\n",
            "От конца до -4 элемента с шагом -1: []\n",
            "Последний элемент в списке: 8\n",
            "От -7 элементам до конца: [2, 3, 4, 5, 6, 7, 8]\n"
          ]
        }
      ]
    },
    {
      "cell_type": "markdown",
      "source": [
        "Списки изменяемые!!!!"
      ],
      "metadata": {
        "id": "a06gwS5HP8-a"
      }
    },
    {
      "cell_type": "code",
      "source": [
        "A = [1, 2, 3, 4, 5, 6, 7, 8]\n",
        "\n",
        "A[0] = 'Hello'\n",
        "A[-1] = 'World'\n",
        "A"
      ],
      "metadata": {
        "colab": {
          "base_uri": "https://localhost:8080/"
        },
        "id": "rUVP90UtQPWF",
        "outputId": "11a93d36-269c-4f27-ac44-25915e96455f"
      },
      "execution_count": null,
      "outputs": [
        {
          "output_type": "execute_result",
          "data": {
            "text/plain": [
              "['Hello', 2, 3, 4, 5, 6, 7, 'World']"
            ]
          },
          "metadata": {},
          "execution_count": 12
        }
      ]
    },
    {
      "cell_type": "code",
      "source": [
        "lst = [1, 2, 3, 4]\n",
        "lst[0:2] = ['A','B','C']\n",
        "print(lst)"
      ],
      "metadata": {
        "colab": {
          "base_uri": "https://localhost:8080/"
        },
        "id": "IgJA8d8dQehX",
        "outputId": "17ffd90d-dddd-4967-a662-a5a7b1a68660"
      },
      "execution_count": null,
      "outputs": [
        {
          "output_type": "stream",
          "name": "stdout",
          "text": [
            "['A', 'B', 'C', 3, 4]\n"
          ]
        }
      ]
    },
    {
      "cell_type": "markdown",
      "source": [
        "Двумерный массив - список списков"
      ],
      "metadata": {
        "id": "WC7d39YFSo1R"
      }
    },
    {
      "cell_type": "code",
      "source": [
        "lst2d =   [[1,2,3],\n",
        "          [4,5,6],\n",
        "          [7,8,9]]\n",
        "\n",
        "print(lst2d[0])\n",
        "print(lst2d[1][2])"
      ],
      "metadata": {
        "colab": {
          "base_uri": "https://localhost:8080/"
        },
        "id": "6kPfyxAxSrVN",
        "outputId": "dcd4bf2f-8de7-470b-d1eb-dd646cfb646a"
      },
      "execution_count": null,
      "outputs": [
        {
          "output_type": "stream",
          "name": "stdout",
          "text": [
            "[1, 2, 3]\n",
            "6\n"
          ]
        }
      ]
    },
    {
      "cell_type": "markdown",
      "source": [
        "### Функции и методы списков"
      ],
      "metadata": {
        "id": "ZRNHQHY0Shq9"
      }
    },
    {
      "cell_type": "markdown",
      "source": [
        "len(), min(), max(), sum()"
      ],
      "metadata": {
        "id": "iwJXNh6XZaz5"
      }
    },
    {
      "cell_type": "code",
      "source": [
        "my_list = [5, 2, 8, 1, 9, 3, 6]\n",
        "\n",
        "# Функция len() возвращает количество элементов в списке\n",
        "length = len(my_list)\n",
        "print(\"Длина списка:\", length)\n",
        "\n",
        "# Функция min() возвращает наименьший элемент в списке\n",
        "minimum = min(my_list)\n",
        "print(\"Минимальный элемент:\", minimum)\n",
        "\n",
        "# Функция max() возвращает наибольший элемент в списке\n",
        "maximum = max(my_list)\n",
        "print(\"Максимальный элемент:\", maximum)\n",
        "\n",
        "# Функция sum() возвращает сумму всех элементов в списке (если они числовые)\n",
        "total_sum = sum(my_list)\n",
        "print(\"Сумма всех элементов:\", total_sum)"
      ],
      "metadata": {
        "colab": {
          "base_uri": "https://localhost:8080/"
        },
        "id": "v6zO-OCTZclf",
        "outputId": "79f5a8b8-7e0c-406f-8410-92426a5db443"
      },
      "execution_count": null,
      "outputs": [
        {
          "output_type": "stream",
          "name": "stdout",
          "text": [
            "Длина списка: 7\n",
            "Минимальный элемент: 1\n",
            "Максимальный элемент: 9\n",
            "Сумма всех элементов: 34\n"
          ]
        }
      ]
    },
    {
      "cell_type": "markdown",
      "source": [
        "extend():\n",
        "Расширяет список, добавляя элементы из другого списка."
      ],
      "metadata": {
        "id": "fIthEXA_Uyw3"
      }
    },
    {
      "cell_type": "code",
      "source": [
        "my_list = [1, 2, 3]\n",
        "another_list = [4, 5, 6]\n",
        "my_list.extend(another_list)\n",
        "print(my_list)"
      ],
      "metadata": {
        "colab": {
          "base_uri": "https://localhost:8080/"
        },
        "id": "ZKZR8XI-UypX",
        "outputId": "13371415-9fe5-48c8-cd14-7aaac958158b"
      },
      "execution_count": null,
      "outputs": [
        {
          "output_type": "stream",
          "name": "stdout",
          "text": [
            "[1, 2, 3, 4, 5, 6]\n"
          ]
        }
      ]
    },
    {
      "cell_type": "markdown",
      "source": [
        "insert():\n",
        "Вставляет элемент в указанную позицию."
      ],
      "metadata": {
        "id": "Zg-bQBLPU4H9"
      }
    },
    {
      "cell_type": "code",
      "source": [
        "my_list = [1, 2, 3]\n",
        "my_list.insert(1, 4)  # Вставляем 4 на позицию 1\n",
        "print(my_list)"
      ],
      "metadata": {
        "colab": {
          "base_uri": "https://localhost:8080/"
        },
        "id": "FcKwhsP7U37R",
        "outputId": "6fc382c0-7397-4146-a284-091666c5edc1"
      },
      "execution_count": null,
      "outputs": [
        {
          "output_type": "stream",
          "name": "stdout",
          "text": [
            "[1, 4, 2, 3]\n"
          ]
        }
      ]
    },
    {
      "cell_type": "markdown",
      "source": [
        "remove():\n",
        "Удаляет первое вхождение указанного элемента из списка."
      ],
      "metadata": {
        "id": "QlQT5BZ8VA3C"
      }
    },
    {
      "cell_type": "code",
      "source": [
        "my_list = [1, 2, 3, 2]\n",
        "my_list.remove(2)\n",
        "print(my_list)"
      ],
      "metadata": {
        "colab": {
          "base_uri": "https://localhost:8080/"
        },
        "id": "xH3PXPSHVBTB",
        "outputId": "57529807-68c5-4e32-ba62-5ee3ef80ee64"
      },
      "execution_count": null,
      "outputs": [
        {
          "output_type": "stream",
          "name": "stdout",
          "text": [
            "[1, 3, 2]\n"
          ]
        }
      ]
    },
    {
      "cell_type": "markdown",
      "source": [
        "pop():\n",
        "Удаляет элемент по индексу и возвращает его значение. Если индекс не указан, удаляется последний элемент."
      ],
      "metadata": {
        "id": "uTdN2M-FVvwh"
      }
    },
    {
      "cell_type": "code",
      "source": [
        "my_list = [1, 2, 3]\n",
        "popped_element = my_list.pop(1)  # Удаляем элемент с индексом 1 (т.е. 2)\n",
        "print(popped_element)\n",
        "print(my_list)\n"
      ],
      "metadata": {
        "colab": {
          "base_uri": "https://localhost:8080/"
        },
        "id": "RE2EXpcBVw5V",
        "outputId": "042e590c-4865-4d5c-f28f-a5c2321e8aaa"
      },
      "execution_count": null,
      "outputs": [
        {
          "output_type": "stream",
          "name": "stdout",
          "text": [
            "2\n",
            "[1, 3]\n"
          ]
        }
      ]
    },
    {
      "cell_type": "markdown",
      "source": [
        "sort():\n",
        "Сортирует список."
      ],
      "metadata": {
        "id": "E02wojVUV7q0"
      }
    },
    {
      "cell_type": "code",
      "source": [
        "my_list = [3, 1, 2]\n",
        "my_list.sort()\n",
        "print(my_list)\n",
        "\n",
        "my_list.sort(reverse=True)\n",
        "print(my_list)"
      ],
      "metadata": {
        "colab": {
          "base_uri": "https://localhost:8080/"
        },
        "id": "QYrW_4vEV9dB",
        "outputId": "855e470d-6d90-4833-d9c6-08bcf8b2b3a4"
      },
      "execution_count": null,
      "outputs": [
        {
          "output_type": "stream",
          "name": "stdout",
          "text": [
            "[1, 2, 3]\n",
            "[3, 2, 1]\n"
          ]
        }
      ]
    },
    {
      "cell_type": "markdown",
      "source": [
        "reverse():\n",
        "Обращает порядок элементов в списке."
      ],
      "metadata": {
        "id": "mnVta-T0WAfN"
      }
    },
    {
      "cell_type": "code",
      "source": [
        "my_list = [1, 2, 3]\n",
        "my_list.reverse()\n",
        "print(my_list)"
      ],
      "metadata": {
        "colab": {
          "base_uri": "https://localhost:8080/"
        },
        "id": "7fTDWsBLWDXK",
        "outputId": "4a4465a5-111c-4e16-e42d-dfeb2cee196c"
      },
      "execution_count": null,
      "outputs": [
        {
          "output_type": "stream",
          "name": "stdout",
          "text": [
            "[3, 2, 1]\n"
          ]
        }
      ]
    },
    {
      "cell_type": "markdown",
      "source": [
        "my_list[::-1] создаёт копию, my_list.reverse() переворачивает сам список."
      ],
      "metadata": {
        "id": "KCIJDx9OX78_"
      }
    },
    {
      "cell_type": "markdown",
      "source": [
        "copy():\n",
        "Создает копию списка."
      ],
      "metadata": {
        "id": "W2MSbMn5WGZ6"
      }
    },
    {
      "cell_type": "code",
      "source": [
        "list1 = [1, 2, 3]\n",
        "list2 = list1.copy()\n",
        "print(list2)"
      ],
      "metadata": {
        "colab": {
          "base_uri": "https://localhost:8080/"
        },
        "id": "FN4w-1qgWGO3",
        "outputId": "7e59b06c-64f6-4af4-b3af-61dd732abfeb"
      },
      "execution_count": null,
      "outputs": [
        {
          "output_type": "stream",
          "name": "stdout",
          "text": [
            "[1, 2, 3]\n"
          ]
        }
      ]
    },
    {
      "cell_type": "markdown",
      "source": [
        "Зачем copy() ?\n",
        "\n",
        "Списки в Python являются изменяемыми объектами, поэтому когда вы делаете присваивание списку другой переменной, обе переменные начинают ссылаться на один и тот же объект в памяти. Поэтому изменение списка через одну переменную отразится на другой переменной, поскольку они обе ссылается на один и тот же изменяемый объект."
      ],
      "metadata": {
        "id": "vCOfKQ4DW6dq"
      }
    },
    {
      "cell_type": "code",
      "source": [
        "lst1 = [1,2,3]\n",
        "lst2 = lst1 # Неверно!!!!\n",
        "lst1.append(\"TEST\")\n",
        "print(lst2)"
      ],
      "metadata": {
        "colab": {
          "base_uri": "https://localhost:8080/"
        },
        "id": "cRPlq7m7XA41",
        "outputId": "a45e5ef1-4c0b-478e-f393-3555c0b899b9"
      },
      "execution_count": null,
      "outputs": [
        {
          "output_type": "stream",
          "name": "stdout",
          "text": [
            "[1, 2, 3, 'TEST']\n"
          ]
        }
      ]
    },
    {
      "cell_type": "code",
      "source": [
        "lst1 = [1,2,3]\n",
        "lst2 = lst1.copy() # Неверно!!!!\n",
        "lst1.append(\"TEST\")\n",
        "print(lst2)"
      ],
      "metadata": {
        "colab": {
          "base_uri": "https://localhost:8080/"
        },
        "id": "OZ_5xon5XM-_",
        "outputId": "d8c06d83-677b-4f3b-8d0b-abe372a2afcf"
      },
      "execution_count": null,
      "outputs": [
        {
          "output_type": "stream",
          "name": "stdout",
          "text": [
            "[1, 2, 3]\n"
          ]
        }
      ]
    },
    {
      "cell_type": "markdown",
      "source": [
        "split():\n",
        "Метод split() разбивает строку на подстроки с помощью разделителя (по умолчанию пробел) и возвращает список подстрок."
      ],
      "metadata": {
        "id": "qNucxyN2Y8pu"
      }
    },
    {
      "cell_type": "code",
      "source": [
        "my_string = \"1 2 3 4 5 6\"\n",
        "my_list = my_string.split()\n",
        "print(my_list)"
      ],
      "metadata": {
        "colab": {
          "base_uri": "https://localhost:8080/"
        },
        "id": "rUHt60RWZ-RF",
        "outputId": "b67a43a7-6c3e-43e5-9157-dfef8a3cd2d7"
      },
      "execution_count": null,
      "outputs": [
        {
          "output_type": "stream",
          "name": "stdout",
          "text": [
            "['1', '2', '3', '4', '5', '6']\n"
          ]
        }
      ]
    },
    {
      "cell_type": "code",
      "source": [
        "my_string = \"apple,banana,orange\"\n",
        "fruits_list = my_string.split(',')\n",
        "print(fruits_list)"
      ],
      "metadata": {
        "colab": {
          "base_uri": "https://localhost:8080/"
        },
        "id": "ncJaIk3aY8aC",
        "outputId": "d0302c3b-5395-44d4-c8fe-7e5a7f6f1d37"
      },
      "execution_count": null,
      "outputs": [
        {
          "output_type": "stream",
          "name": "stdout",
          "text": [
            "['apple', 'banana', 'orange']\n"
          ]
        }
      ]
    },
    {
      "cell_type": "markdown",
      "source": [
        "join() используется для объединения списка строк в одну строку, вставляя указанный разделитель между каждой строкой списка. Этот метод обратный по своей сути методу split()."
      ],
      "metadata": {
        "id": "oR8wQHlZaGwV"
      }
    },
    {
      "cell_type": "code",
      "source": [
        "fruits_list = ['apple', 'banana', 'orange']\n",
        "my_string = '; '.join(fruits_list)\n",
        "print(my_string)"
      ],
      "metadata": {
        "colab": {
          "base_uri": "https://localhost:8080/"
        },
        "id": "wtNMAvOVaMJm",
        "outputId": "5c3e361b-dde5-4f0e-ceae-6dc8abf0e00e"
      },
      "execution_count": null,
      "outputs": [
        {
          "output_type": "stream",
          "name": "stdout",
          "text": [
            "apple; banana; orange\n"
          ]
        }
      ]
    },
    {
      "cell_type": "markdown",
      "source": [
        "##Словари dict()"
      ],
      "metadata": {
        "id": "rp3UpG5SaXk_"
      }
    },
    {
      "cell_type": "markdown",
      "source": [
        "Словарь используется для хранение пары объектов вида:\n",
        "\n",
        "```\n",
        "<ключи>:<значение>\n",
        "```\n",
        "Это очень удобная форма хранения данных, называемая \"ассоцированный массив\"."
      ],
      "metadata": {
        "id": "45MTN5fWaadM"
      }
    },
    {
      "cell_type": "markdown",
      "source": [
        "Словарь - это структура данных, которая позволяет хранить пары ключей и их соответствующих значений. Ключи в словаре должны быть уникальными и неизменяемыми, а значения могут быть любого типа данных: числа, строки, списки, другие словари и т.д."
      ],
      "metadata": {
        "id": "dIHOPOSrbmxG"
      }
    },
    {
      "cell_type": "code",
      "source": [
        "# Создадим пустой словать Capitals\n",
        "Capitals = dict() #Capitals = {}\n",
        "\n",
        "# Заполним его несколькими значениями\n",
        "Capitals['Russia'] = 'Moscow'\n",
        "Capitals['Ukraine'] = 'Kiev'\n",
        "Capitals['USA'] = 'Washington'\n",
        "\n",
        "Capitals"
      ],
      "metadata": {
        "colab": {
          "base_uri": "https://localhost:8080/"
        },
        "id": "NotEywTZa5KI",
        "outputId": "c8f129d3-c81d-4adc-ebe0-c27231eba988"
      },
      "execution_count": null,
      "outputs": [
        {
          "output_type": "execute_result",
          "data": {
            "text/plain": [
              "{'Russia': 'Moscow', 'Ukraine': 'Kiev', 'USA': 'Washington'}"
            ]
          },
          "metadata": {},
          "execution_count": 53
        }
      ]
    },
    {
      "cell_type": "code",
      "source": [
        "# Считаем название страны\n",
        "print('Введите текст, в какой стране вы живете?')\n",
        "country = input()"
      ],
      "metadata": {
        "colab": {
          "base_uri": "https://localhost:8080/"
        },
        "id": "EL1MR9Wqa5w2",
        "outputId": "fe4e1d00-e9f4-4618-ac14-17116f1d364b"
      },
      "execution_count": null,
      "outputs": [
        {
          "name": "stdout",
          "output_type": "stream",
          "text": [
            "Введите текст, в какой стране вы живете?\n",
            "Russia\n"
          ]
        }
      ]
    },
    {
      "cell_type": "code",
      "source": [
        "# Проверим, есть ли такая страна в словаре Capitals\n",
        "if country in Capitals:\n",
        "    # Если есть - выведем ее столицу\n",
        "    print('Столица вашей страны', Capitals[country])\n",
        "else:\n",
        "    # Запросим название столицы и добавив его в словарь\n",
        "    print('Мы не нашли такую страну. Введите текст, как называется столица вашей страны?')\n",
        "    city = input()\n",
        "    Capitals[country] = city"
      ],
      "metadata": {
        "colab": {
          "base_uri": "https://localhost:8080/"
        },
        "id": "9FJxNvl-bFUJ",
        "outputId": "6cc56244-ddc7-4594-c72b-94eacd40b5a1"
      },
      "execution_count": null,
      "outputs": [
        {
          "output_type": "stream",
          "name": "stdout",
          "text": [
            "Столица вашей страны Moscow\n"
          ]
        }
      ]
    },
    {
      "cell_type": "code",
      "source": [
        "print(Capitals.keys(), \"- Этот метод возвращает представление ключей в заданном словаре\", '\\n')\n",
        "\n",
        "print(Capitals.values(), \"- Этот метод возвращает представление значений в заданном словаре\", '\\n')\n",
        "\n",
        "print(Capitals.items(), \"- Этот метод возвращает представление пар (кортежей) ключ-значение в заданном словаре\", '\\n')"
      ],
      "metadata": {
        "colab": {
          "base_uri": "https://localhost:8080/"
        },
        "id": "3GW19_nabUPX",
        "outputId": "3d35e091-179d-4ef7-a1b5-35aca15009d3"
      },
      "execution_count": null,
      "outputs": [
        {
          "output_type": "stream",
          "name": "stdout",
          "text": [
            "dict_keys(['Russia', 'Ukraine', 'USA']) - Этот метод возвращает представление ключей в заданном словаре \n",
            "\n",
            "dict_values(['SPB', 'Kiev', 'Washington']) - Этот метод возвращает представление значений в заданном словаре \n",
            "\n",
            "dict_items([('Russia', 'SPB'), ('Ukraine', 'Kiev'), ('USA', 'Washington')]) - Этот метод возвращает представление пар (кортежей) ключ-значение в заданном словаре \n",
            "\n"
          ]
        }
      ]
    },
    {
      "cell_type": "markdown",
      "source": [
        "Словари изменяемые! для копирования используем .copy()"
      ],
      "metadata": {
        "id": "WdUrfHUfcUXr"
      }
    },
    {
      "cell_type": "code",
      "source": [
        " Capitals['Russia'] = 'SPB'\n",
        " Capitals"
      ],
      "metadata": {
        "colab": {
          "base_uri": "https://localhost:8080/"
        },
        "id": "aShPEwp_cWg3",
        "outputId": "4a4a9844-c559-41b1-a068-ce81044107c8"
      },
      "execution_count": null,
      "outputs": [
        {
          "output_type": "execute_result",
          "data": {
            "text/plain": [
              "{'USA': 'Washington', 'Russia': 'SPB'}"
            ]
          },
          "metadata": {},
          "execution_count": 60
        }
      ]
    },
    {
      "cell_type": "markdown",
      "source": [
        "Удаление элементов"
      ],
      "metadata": {
        "id": "Z9617oN2cx0y"
      }
    },
    {
      "cell_type": "code",
      "source": [
        "# Удаление элемента по ключу\n",
        "del Capitals['Russia']\n",
        "\n",
        "# Удаление элемента и возврат его значения\n",
        "value = Capitals.pop('Ukraine')\n",
        "print(value)\n",
        "print(Capitals)\n"
      ],
      "metadata": {
        "colab": {
          "base_uri": "https://localhost:8080/"
        },
        "id": "OaJiPY0Lczyz",
        "outputId": "ac05d1bb-247a-4d1a-e5ba-de6206035175"
      },
      "execution_count": null,
      "outputs": [
        {
          "output_type": "stream",
          "name": "stdout",
          "text": [
            "Kiev\n",
            "{'USA': 'Washington'}\n"
          ]
        }
      ]
    },
    {
      "cell_type": "markdown",
      "source": [
        "get(key): Возвращает значение, связанное с указанным ключом. Если ключ отсутствует, возвращает None."
      ],
      "metadata": {
        "id": "g2vIgTtBdmh6"
      }
    },
    {
      "cell_type": "code",
      "source": [
        "my_dict = {'apple': 5, 'banana': 7, 'orange': 3}\n",
        "\n",
        "# Проверка наличия ключа в словаре\n",
        "print('apple' in my_dict)\n",
        "\n",
        "# Получение значения по ключу с использованием get()\n",
        "print(my_dict.get('banana'))\n",
        "\n",
        "print(my_dict.get('kiwi'))\n",
        "\n",
        "print(my_dict.get('kiwi', 123)) # необязательный параметр - что выводить, если не нашли такого ключа в словаре.\n"
      ],
      "metadata": {
        "colab": {
          "base_uri": "https://localhost:8080/"
        },
        "id": "pzkQkxUzdu-W",
        "outputId": "c3e8ce97-2804-46c0-a8af-facbabd963d8"
      },
      "execution_count": null,
      "outputs": [
        {
          "output_type": "stream",
          "name": "stdout",
          "text": [
            "True\n",
            "7\n",
            "None\n",
            "123\n"
          ]
        }
      ]
    },
    {
      "cell_type": "markdown",
      "source": [
        "P.S. Словари могут быть достаточно сложными:"
      ],
      "metadata": {
        "id": "kxFcQcrvfzDQ"
      }
    },
    {
      "cell_type": "code",
      "source": [
        "mixed_dict = {'name': 'John', 42: 'forty-two', (1, 2): 'tuple'}\n",
        "\n",
        "# Добавление словаря в качестве значения\n",
        "mixed_dict['student'] = {'age': 15, 'grade': '9th'}\n"
      ],
      "metadata": {
        "id": "zu3WFgHBf2Ca"
      },
      "execution_count": null,
      "outputs": []
    },
    {
      "cell_type": "markdown",
      "source": [
        "## Кортежи tuple()\n",
        "\n",
        "Кортежи в Python очень похожи на списки, но с одним основным отличием: они неизменяемы. По факту они как строки, но могут хранить любые элементы. Кортежи работают быстрее списков."
      ],
      "metadata": {
        "id": "X1ffF2jIgLwl"
      }
    },
    {
      "cell_type": "code",
      "source": [
        "tup = (1, 2, 3, 'Привет!', [1,2,3])\n",
        "print(tup, type(tup))"
      ],
      "metadata": {
        "colab": {
          "base_uri": "https://localhost:8080/"
        },
        "id": "IGsvcUKJgXrT",
        "outputId": "af48ddc9-0c99-4f1d-be92-389df0231eec"
      },
      "execution_count": null,
      "outputs": [
        {
          "output_type": "stream",
          "name": "stdout",
          "text": [
            "(1, 2, 3, 'Привет!', [1, 2, 3]) <class 'tuple'>\n"
          ]
        }
      ]
    },
    {
      "cell_type": "code",
      "source": [
        "tup[-1]"
      ],
      "metadata": {
        "colab": {
          "base_uri": "https://localhost:8080/"
        },
        "id": "5COvB3dIghqH",
        "outputId": "03d920d2-8e2f-4fe0-a1d7-e20f75836f6f"
      },
      "execution_count": null,
      "outputs": [
        {
          "output_type": "execute_result",
          "data": {
            "text/plain": [
              "[1, 2, 3]"
            ]
          },
          "metadata": {},
          "execution_count": 66
        }
      ]
    },
    {
      "cell_type": "code",
      "source": [
        "tup[-1] = 123"
      ],
      "metadata": {
        "colab": {
          "base_uri": "https://localhost:8080/",
          "height": 141
        },
        "id": "6QpcYS_HgzIB",
        "outputId": "00546027-f2f6-4826-a7ee-cd32ec751931"
      },
      "execution_count": null,
      "outputs": [
        {
          "output_type": "error",
          "ename": "TypeError",
          "evalue": "'tuple' object does not support item assignment",
          "traceback": [
            "\u001b[0;31m---------------------------------------------------------------------------\u001b[0m",
            "\u001b[0;31mTypeError\u001b[0m                                 Traceback (most recent call last)",
            "\u001b[0;32m<ipython-input-67-53b2aab07a77>\u001b[0m in \u001b[0;36m<cell line: 1>\u001b[0;34m()\u001b[0m\n\u001b[0;32m----> 1\u001b[0;31m \u001b[0mtup\u001b[0m\u001b[0;34m[\u001b[0m\u001b[0;34m-\u001b[0m\u001b[0;36m1\u001b[0m\u001b[0;34m]\u001b[0m \u001b[0;34m=\u001b[0m \u001b[0;36m123\u001b[0m\u001b[0;34m\u001b[0m\u001b[0;34m\u001b[0m\u001b[0m\n\u001b[0m",
            "\u001b[0;31mTypeError\u001b[0m: 'tuple' object does not support item assignment"
          ]
        }
      ]
    },
    {
      "cell_type": "markdown",
      "source": [
        "## Множества set()\n",
        "\n",
        "Множество в Python - это неупорядоченная коллекция уникальных элементов. Это означает, что в множестве каждый элемент уникален, и его порядок не гарантирован."
      ],
      "metadata": {
        "id": "KfXISS7Qg9i4"
      }
    },
    {
      "cell_type": "code",
      "source": [
        "A = {1, 2, 3}\n",
        "print(A)\n",
        "#ЗАПОМНИТЕ нельзя написать A = {} для создания множества, интерпритатор поймёт это как пустой словарь\n",
        "\n",
        "A = set()\n",
        "print(A)"
      ],
      "metadata": {
        "colab": {
          "base_uri": "https://localhost:8080/"
        },
        "id": "Tqb39PF-hj0e",
        "outputId": "ba2b37f9-e2da-4b7e-b710-e4db1431bbe2"
      },
      "execution_count": null,
      "outputs": [
        {
          "output_type": "stream",
          "name": "stdout",
          "text": [
            "{1, 2, 3}\n",
            "set()\n"
          ]
        }
      ]
    },
    {
      "cell_type": "code",
      "source": [
        "A = [1,2,3,1,2,3,1,2,3]\n",
        "set_A = set(A)\n",
        "print(set_A)"
      ],
      "metadata": {
        "colab": {
          "base_uri": "https://localhost:8080/"
        },
        "id": "wiu-FkttiH-H",
        "outputId": "63be83ad-3925-4cd6-dc17-43d96735c109"
      },
      "execution_count": null,
      "outputs": [
        {
          "output_type": "stream",
          "name": "stdout",
          "text": [
            "{1, 2, 3}\n"
          ]
        }
      ]
    },
    {
      "cell_type": "code",
      "source": [
        "print(set_A[0])"
      ],
      "metadata": {
        "colab": {
          "base_uri": "https://localhost:8080/",
          "height": 141
        },
        "id": "08nWpSdviThG",
        "outputId": "be367b2e-7198-4c10-9228-2c2cdf1bbe0b"
      },
      "execution_count": null,
      "outputs": [
        {
          "output_type": "error",
          "ename": "TypeError",
          "evalue": "'set' object is not subscriptable",
          "traceback": [
            "\u001b[0;31m---------------------------------------------------------------------------\u001b[0m",
            "\u001b[0;31mTypeError\u001b[0m                                 Traceback (most recent call last)",
            "\u001b[0;32m<ipython-input-74-4cdc4ea3fd54>\u001b[0m in \u001b[0;36m<cell line: 1>\u001b[0;34m()\u001b[0m\n\u001b[0;32m----> 1\u001b[0;31m \u001b[0mprint\u001b[0m\u001b[0;34m(\u001b[0m\u001b[0mset_A\u001b[0m\u001b[0;34m[\u001b[0m\u001b[0;36m0\u001b[0m\u001b[0;34m]\u001b[0m\u001b[0;34m)\u001b[0m\u001b[0;34m\u001b[0m\u001b[0;34m\u001b[0m\u001b[0m\n\u001b[0m",
            "\u001b[0;31mTypeError\u001b[0m: 'set' object is not subscriptable"
          ]
        }
      ]
    },
    {
      "cell_type": "markdown",
      "source": [
        "###Функции и методы"
      ],
      "metadata": {
        "id": "xAyaQ6gDilx1"
      }
    },
    {
      "cell_type": "markdown",
      "source": [
        "add(): Добавляет элемент в множество."
      ],
      "metadata": {
        "id": "1RNFRj5fioAQ"
      }
    },
    {
      "cell_type": "code",
      "source": [
        "my_set = {1, 2, 3}\n",
        "my_set.add(4)\n",
        "print(my_set)"
      ],
      "metadata": {
        "colab": {
          "base_uri": "https://localhost:8080/"
        },
        "id": "LqfS5kniiqES",
        "outputId": "2de5fcd5-b151-4ffb-a6a9-442d1be122d3"
      },
      "execution_count": null,
      "outputs": [
        {
          "output_type": "stream",
          "name": "stdout",
          "text": [
            "{1, 2, 3, 4}\n"
          ]
        }
      ]
    },
    {
      "cell_type": "markdown",
      "source": [
        "remove(): Удаляет указанный элемент из множества. Если элемент не найден, возникает ошибка."
      ],
      "metadata": {
        "id": "kfDSBLSSiuk1"
      }
    },
    {
      "cell_type": "code",
      "source": [
        "my_set = {1, 2, 3}\n",
        "my_set.remove(2)\n",
        "print(my_set)"
      ],
      "metadata": {
        "colab": {
          "base_uri": "https://localhost:8080/"
        },
        "id": "qi2LSw2OityB",
        "outputId": "abd7dc45-4be6-4f99-fa3c-6e674640222c"
      },
      "execution_count": null,
      "outputs": [
        {
          "output_type": "stream",
          "name": "stdout",
          "text": [
            "{1, 3}\n"
          ]
        }
      ]
    },
    {
      "cell_type": "markdown",
      "source": [
        "discard(): Удаляет указанный элемент из множества. Если элемент не найден, ничего не происходит (не возникает ошибка)."
      ],
      "metadata": {
        "id": "J0QqgIkWiw9W"
      }
    },
    {
      "cell_type": "markdown",
      "source": [
        "pop(): \"достаёт\" первый элемент из множества"
      ],
      "metadata": {
        "id": "MuD8URhdi58z"
      }
    },
    {
      "cell_type": "code",
      "source": [
        "my_set = set(list('Hello'))\n",
        "x = my_set.pop()\n",
        "print(x)\n",
        "print(my_set)\n"
      ],
      "metadata": {
        "colab": {
          "base_uri": "https://localhost:8080/"
        },
        "id": "8nOLO4mgi6qV",
        "outputId": "0bfdf021-a6b7-49a6-fd54-317795604063"
      },
      "execution_count": null,
      "outputs": [
        {
          "output_type": "stream",
          "name": "stdout",
          "text": [
            "H\n",
            "{'l', 'e', 'o'}\n"
          ]
        }
      ]
    },
    {
      "cell_type": "markdown",
      "source": [
        "## Задачи"
      ],
      "metadata": {
        "id": "ORr9eTWhkH2g"
      }
    },
    {
      "cell_type": "markdown",
      "source": [
        "###№1 На вход подаётся 3 строки из маленьких английских букв. Нужно вывести один список, в котором есть все значения из всех трёх строк без повторений. Отсортируйте результирующий список в алфавитном порядке."
      ],
      "metadata": {
        "id": "P4F_hzMOkMts"
      }
    },
    {
      "cell_type": "markdown",
      "source": [
        "###Пример решения"
      ],
      "metadata": {
        "id": "uMT4BLG_kRR0"
      }
    },
    {
      "cell_type": "code",
      "source": [
        "lst1 = list(input())\n",
        "lst2 = list(input())\n",
        "lst3 = list(input())\n",
        "\n",
        "lst = lst1 + lst2 + lst3\n",
        "lst = list(set(lst))\n",
        "lst.sort()\n",
        "print(lst)\n"
      ],
      "metadata": {
        "colab": {
          "base_uri": "https://localhost:8080/"
        },
        "id": "K6DwFRcmkUU4",
        "outputId": "19835d04-c7ca-4bfa-8562-ac3ccea71e05"
      },
      "execution_count": null,
      "outputs": [
        {
          "output_type": "stream",
          "name": "stdout",
          "text": [
            "abcde\n",
            "e\n",
            "abcdqwe\n",
            "['a', 'b', 'c', 'd', 'e', 'q', 'w']\n"
          ]
        }
      ]
    },
    {
      "cell_type": "markdown",
      "source": [
        "###№2 На вход подаются буквы через пробел. Выведите эти буквы в обратном порядке (строкой). Между буквами вместо пробела должно быть двоеточие."
      ],
      "metadata": {
        "id": "4x0gpFl6kV19"
      }
    },
    {
      "cell_type": "markdown",
      "source": [
        "###Пример решения"
      ],
      "metadata": {
        "id": "7Z_8q7dakdvS"
      }
    },
    {
      "cell_type": "code",
      "source": [
        "lst1 = input().split()\n",
        "lst2 = lst1.reverse()\n",
        "print(':'.join(lst1))"
      ],
      "metadata": {
        "colab": {
          "base_uri": "https://localhost:8080/"
        },
        "id": "GPLO-lzIkdvX",
        "outputId": "84241c85-59d4-4005-8142-b34c2ca45d44"
      },
      "execution_count": null,
      "outputs": [
        {
          "output_type": "stream",
          "name": "stdout",
          "text": [
            "q w e r t y\n",
            "y:t:r:e:w:q\n"
          ]
        }
      ]
    },
    {
      "cell_type": "markdown",
      "source": [
        "###№3 Задан словарь с оценками студентов:\n",
        "``` results = {\n",
        "    \"Alice\": 75,\n",
        "    \"Bob\": 92,\n",
        "    \"Charlie\": 88,\n",
        "    \"David\": 65,\n",
        "    \"Emma\": 80\n",
        "} ```\n",
        "Выведите максимальный, минимальный и средний балл учеников.(каждый на новой строке). Если средний балл больше 80, удалите студента с самым высоким баллом. Если балл меньше или равен 80, удалите студента с самым низким баллом. Выведите полученный словарь на новой строке."
      ],
      "metadata": {
        "id": "l5TQou4UkWT6"
      }
    },
    {
      "cell_type": "markdown",
      "source": [
        "###Пример решения"
      ],
      "metadata": {
        "id": "YpZO5VELkeJ1"
      }
    },
    {
      "cell_type": "code",
      "source": [
        "results = {\n",
        "    \"Alice\": 75,\n",
        "    \"Bob\": 92,\n",
        "    \"Charlie\": 88,\n",
        "    \"David\": 65,\n",
        "    \"Emma\": 80\n",
        "}\n",
        "\n",
        "max_score = max(results.values())\n",
        "min_score = min(results.values())\n",
        "\n",
        "average_score = sum(results.values()) / len(results)\n",
        "\n",
        "print( max_score)\n",
        "print( min_score)\n",
        "print(average_score)\n",
        "\n",
        "del results['David']\n",
        "print(results)"
      ],
      "metadata": {
        "colab": {
          "base_uri": "https://localhost:8080/"
        },
        "id": "r1e2_mIckeJ1",
        "outputId": "2466ba7a-c55a-4319-c965-ce05214f693f"
      },
      "execution_count": null,
      "outputs": [
        {
          "output_type": "stream",
          "name": "stdout",
          "text": [
            "92\n",
            "65\n",
            "80.0\n",
            "{'Alice': 75, 'Bob': 92, 'Charlie': 88, 'Emma': 80}\n"
          ]
        }
      ]
    },
    {
      "cell_type": "markdown",
      "source": [
        "#Циклы for и while"
      ],
      "metadata": {
        "id": "-QkpEYbxqgJZ"
      }
    },
    {
      "cell_type": "markdown",
      "source": [
        "Циклы python — for и while представляют собой операторы языка программирования, то есть операторы итерации, которые позволяют повторять код определенное количество раз."
      ],
      "metadata": {
        "id": "R66PjudQqm2q"
      }
    },
    {
      "cell_type": "markdown",
      "source": [
        "##for:\n"
      ],
      "metadata": {
        "id": "K7dd9_tXqspr"
      }
    },
    {
      "cell_type": "markdown",
      "source": [
        "Как уже упоминалось ранее, цикл for в Python является итератором, основанным на цикле. Он проходит по элементам list и tuple, строкам, ключам словаря и другим итерируемым объектам.\n",
        "\n",
        "В Python цикл начинается с ключевого слова for, за которым следует произвольное имя переменной, которое будет хранить значения следующего объекта последовательности. Общий синтаксис for...in в python выглядит следующим образом:\n",
        "\n",
        "```\n",
        "for <переменная> in <последовательность>:\n",
        "    <действие>\n",
        "else:\n",
        "    <действие>\n",
        "```\n",
        "\n",
        "Элементы «последовательности» перебираются один за другим «переменной» цикла; если быть точным, переменная указывает на элементы. Для каждого элемента выполняется «действие»."
      ],
      "metadata": {
        "id": "4P9IHcfzzkJB"
      }
    },
    {
      "cell_type": "markdown",
      "source": [
        "Пример простого цикла"
      ],
      "metadata": {
        "id": "kpbdPKFYu0EA"
      }
    },
    {
      "cell_type": "code",
      "source": [
        "for i in range(5):\n",
        "    print(i)"
      ],
      "metadata": {
        "id": "jkRhuw1Zuzhc"
      },
      "execution_count": null,
      "outputs": []
    },
    {
      "cell_type": "markdown",
      "source": [
        "Этот цикл выводит числа от 0 до 4. Давайте разберем, что здесь происходит:\n",
        "\n",
        "range(5) создает последовательность чисел от 0 до 4 (включительно).\n",
        "\n",
        "\n",
        "for i in range(5): говорит Python, что мы хотим выполнить следующий блок кода для каждого значения i в диапазоне от 0 до 4.\n",
        "\n",
        "\n",
        "print(i) выводит текущее значение i."
      ],
      "metadata": {
        "id": "p2sbKjsnu4NG"
      }
    },
    {
      "cell_type": "markdown",
      "source": [
        "Часто в циклах используется range().\n",
        "\n",
        "Функция range() в Python создает последовательность чисел в определенном диапазоне. Синтаксис : ```range(start, stop, step)```"
      ],
      "metadata": {
        "id": "RKph1RQtu_cs"
      }
    },
    {
      "cell_type": "code",
      "source": [
        "print(range(1,10,2))"
      ],
      "metadata": {
        "colab": {
          "base_uri": "https://localhost:8080/"
        },
        "id": "ditWnYtWvYGc",
        "outputId": "e023f0d4-eca3-4fa2-d909-308fbb5a23e2"
      },
      "execution_count": null,
      "outputs": [
        {
          "output_type": "stream",
          "name": "stdout",
          "text": [
            "range(1, 10, 2)\n"
          ]
        }
      ]
    },
    {
      "cell_type": "code",
      "source": [
        "print(list(range(1,10,2)))"
      ],
      "metadata": {
        "colab": {
          "base_uri": "https://localhost:8080/"
        },
        "id": "v_qRBmPwvcmw",
        "outputId": "d4205079-2ab2-4683-cf2d-7b5550b87880"
      },
      "execution_count": null,
      "outputs": [
        {
          "output_type": "stream",
          "name": "stdout",
          "text": [
            "[1, 3, 5, 7, 9]\n"
          ]
        }
      ]
    },
    {
      "cell_type": "code",
      "source": [
        "print(list(range(1,10,-1))) #неверно"
      ],
      "metadata": {
        "colab": {
          "base_uri": "https://localhost:8080/"
        },
        "id": "YjfaqVMrvg9c",
        "outputId": "68b6aa80-063b-45b8-9489-6268a0d4e5ce"
      },
      "execution_count": null,
      "outputs": [
        {
          "output_type": "stream",
          "name": "stdout",
          "text": [
            "[]\n"
          ]
        }
      ]
    },
    {
      "cell_type": "code",
      "source": [
        "print(list(range(10,1))) #неверно"
      ],
      "metadata": {
        "colab": {
          "base_uri": "https://localhost:8080/"
        },
        "id": "JdZ-Ovvyvn9R",
        "outputId": "84dfe4aa-8094-4ace-b992-8e6ccee22536"
      },
      "execution_count": null,
      "outputs": [
        {
          "output_type": "stream",
          "name": "stdout",
          "text": [
            "[]\n"
          ]
        }
      ]
    },
    {
      "cell_type": "code",
      "source": [
        "print(list(range(10,1,-1)))"
      ],
      "metadata": {
        "colab": {
          "base_uri": "https://localhost:8080/"
        },
        "id": "sXCDSv6tv0ip",
        "outputId": "0d3b0edc-ac44-4df5-a691-08de3afa986e"
      },
      "execution_count": null,
      "outputs": [
        {
          "output_type": "stream",
          "name": "stdout",
          "text": [
            "[10, 9, 8, 7, 6, 5, 4, 3, 2]\n"
          ]
        }
      ]
    },
    {
      "cell_type": "code",
      "source": [
        "sum = 0\n",
        "for i in range(1,11):\n",
        "   sum+=i\n",
        "print(sum)"
      ],
      "metadata": {
        "colab": {
          "base_uri": "https://localhost:8080/"
        },
        "id": "RxMNpgCdv8q6",
        "outputId": "be92827b-379b-42ea-8169-6e5aedb6acaa"
      },
      "execution_count": null,
      "outputs": [
        {
          "output_type": "stream",
          "name": "stdout",
          "text": [
            "55\n"
          ]
        }
      ]
    },
    {
      "cell_type": "markdown",
      "source": [
        "Перебираем непосредственно элементы коллекции: (список, строка, словарь)"
      ],
      "metadata": {
        "id": "UeVnLKBdwYJe"
      }
    },
    {
      "cell_type": "code",
      "source": [
        "fruits = [\"apple\", \"banana\", \"cherry\"]\n",
        "for fruit in fruits:\n",
        "    print(\"I like\", fruit)"
      ],
      "metadata": {
        "colab": {
          "base_uri": "https://localhost:8080/"
        },
        "id": "dEdEcc6TwbNg",
        "outputId": "bb2b76aa-b4ca-44e0-9340-230b2a393b57"
      },
      "execution_count": null,
      "outputs": [
        {
          "output_type": "stream",
          "name": "stdout",
          "text": [
            "I like apple\n",
            "I like banana\n",
            "I like cherry\n"
          ]
        }
      ]
    },
    {
      "cell_type": "code",
      "source": [
        "word = \"Python\"\n",
        "for letter in word:\n",
        "    print(letter)"
      ],
      "metadata": {
        "colab": {
          "base_uri": "https://localhost:8080/"
        },
        "id": "kY-qUU02whJV",
        "outputId": "c8cb6edd-2dad-477f-f92d-899528af8a93"
      },
      "execution_count": null,
      "outputs": [
        {
          "output_type": "stream",
          "name": "stdout",
          "text": [
            "P\n",
            "y\n",
            "t\n",
            "h\n",
            "o\n",
            "n\n"
          ]
        }
      ]
    },
    {
      "cell_type": "code",
      "source": [
        "person = {\"name\": \"John\", \"age\": 30, \"city\": \"New York\"}\n",
        "\n",
        "for key, value in person.items():\n",
        "    print(key + \":\", value)\n",
        "\n",
        "print()\n",
        "\n",
        "for key in person.keys():\n",
        "    print(key)\n",
        "\n",
        "print()\n",
        "\n",
        "for value in person.values():\n",
        "    print(value)"
      ],
      "metadata": {
        "colab": {
          "base_uri": "https://localhost:8080/"
        },
        "id": "k_QzwrcNwvxq",
        "outputId": "023f051e-35a3-4881-95fa-b86dcdb0974c"
      },
      "execution_count": null,
      "outputs": [
        {
          "output_type": "stream",
          "name": "stdout",
          "text": [
            "name: John\n",
            "age: 30\n",
            "city: New York\n",
            "\n",
            "name\n",
            "age\n",
            "city\n",
            "\n",
            "John\n",
            "30\n",
            "New York\n"
          ]
        }
      ]
    },
    {
      "cell_type": "markdown",
      "source": [
        "### break, continue"
      ],
      "metadata": {
        "id": "swhjF8mGxxFK"
      }
    },
    {
      "cell_type": "markdown",
      "source": [
        "\n",
        "Ключевое слово break используется для прерывания выполнения цикла.\n",
        "Когда Python встречает оператор break внутри цикла, выполнение цикла немедленно прекращается, и управление передается на первую строку кода после цикла.\n",
        "Это может быть полезно, когда требуется выйти из цикла, как только достигнуто определенное условие. else срабатывает, если break не было."
      ],
      "metadata": {
        "id": "gLtqU8sWyD0K"
      }
    },
    {
      "cell_type": "code",
      "source": [
        "names = [\"Петр\", \"Иван\", \"Максим\", \"Мария\"]\n",
        "\n",
        "# Цикл по очередно перебирает имена в списке\n",
        "# Как только мы нашли имя Максим, цикл необходимо преравать и не просматривать следующие элементы\n",
        "for name in names:\n",
        "    if name == \"Максим\":\n",
        "        print(\"Меня зовут Максим!\")\n",
        "        break\n",
        "    print(\"Другие имена\", name)\n",
        "else:\n",
        "    print(\"Спасибо, теперь я знаю все имена\")"
      ],
      "metadata": {
        "colab": {
          "base_uri": "https://localhost:8080/"
        },
        "id": "_9NMfTu8yFuy",
        "outputId": "fcebcd9e-bb25-4f11-c9ff-b870ffcd3098"
      },
      "execution_count": null,
      "outputs": [
        {
          "output_type": "stream",
          "name": "stdout",
          "text": [
            "Другие имена Петр\n",
            "Другие имена Иван\n",
            "Меня зовут Максим!\n"
          ]
        }
      ]
    },
    {
      "cell_type": "code",
      "source": [
        "names = [\"Петр\", \"Иван\", \"Мария\"] # нет максима\n",
        "\n",
        "\n",
        "for name in names:\n",
        "    if name == \"Максим\":\n",
        "        print(\"Меня зовут Максим!\")\n",
        "        break\n",
        "    print(\"Другие имена\", name)\n",
        "else:\n",
        "    print(\"Спасибо, теперь я знаю все имена\")"
      ],
      "metadata": {
        "colab": {
          "base_uri": "https://localhost:8080/"
        },
        "id": "uvpOvBwGyZTZ",
        "outputId": "7b785814-4f6c-4b50-803e-dd531020721f"
      },
      "execution_count": null,
      "outputs": [
        {
          "output_type": "stream",
          "name": "stdout",
          "text": [
            "Другие имена Петр\n",
            "Другие имена Иван\n",
            "Другие имена Мария\n",
            "Спасибо, теперь я знаю все имена\n"
          ]
        }
      ]
    },
    {
      "cell_type": "markdown",
      "source": [
        "\n",
        "Ключевое слово continue используется для пропуска текущей итерации цикла и перехода к следующей итерации.\n",
        "Когда Python встречает оператор continue внутри цикла, выполнение текущей итерации прекращается, и управление передается на следующую итерацию цикла.\n",
        "Это может быть полезно, когда нужно пропустить определенные элементы или выполнить дополнительные действия перед началом следующей итерации."
      ],
      "metadata": {
        "id": "oyusiy6Iyi-K"
      }
    },
    {
      "cell_type": "code",
      "source": [
        "names = [\"Петр\", \"Иван\", \"Максим\", \"Мария\"]\n",
        "\n",
        "for name in names:\n",
        "    if name == \"Максим\":\n",
        "        continue\n",
        "        print(\"ТЕКСТ\")\n",
        "    print(\"Другие имена\", name)"
      ],
      "metadata": {
        "colab": {
          "base_uri": "https://localhost:8080/"
        },
        "id": "LYlVKLjVyuqF",
        "outputId": "89c160ec-c33b-4b8e-be99-f18310d6b28b"
      },
      "execution_count": null,
      "outputs": [
        {
          "output_type": "stream",
          "name": "stdout",
          "text": [
            "Другие имена Петр\n",
            "Другие имена Иван\n",
            "Другие имена Мария\n"
          ]
        }
      ]
    },
    {
      "cell_type": "markdown",
      "source": [
        "##while()"
      ],
      "metadata": {
        "id": "IDZjLh8wzUfW"
      }
    },
    {
      "cell_type": "markdown",
      "source": [
        "\n",
        "```\n",
        "while <условие (булевское выражение)>:\n",
        "    <code>\n",
        "```\n",
        "\n",
        "Здесь код, написанный вместо `code` будет выполняться каждую итерацию цикла, пока условие после `while` будет выполняться."
      ],
      "metadata": {
        "id": "7tYEwnK8zX-T"
      }
    },
    {
      "cell_type": "code",
      "source": [
        "x = 0\n",
        "while x < 5:\n",
        "    print(x)\n",
        "    x += 1\n"
      ],
      "metadata": {
        "id": "T_IhHjDqz4vp"
      },
      "execution_count": null,
      "outputs": []
    },
    {
      "cell_type": "markdown",
      "source": [
        "Аккуратнее с зацикливанием!"
      ],
      "metadata": {
        "id": "WVUrd1Pl0Ig_"
      }
    },
    {
      "cell_type": "code",
      "source": [
        "x = 1\n",
        "while x > 0: #Всегда True !!!!!\n",
        "    print(x)\n",
        "    x += 1"
      ],
      "metadata": {
        "id": "2Lfh_43N0H1O"
      },
      "execution_count": null,
      "outputs": []
    },
    {
      "cell_type": "code",
      "source": [
        "x = 1\n",
        "\n",
        "while x < 10:\n",
        "    if x == 3:\n",
        "        x += 1\n",
        "        continue\n",
        "\n",
        "    print(x)\n",
        "    if x == 5:\n",
        "        break\n",
        "\n",
        "    x += 1"
      ],
      "metadata": {
        "colab": {
          "base_uri": "https://localhost:8080/"
        },
        "id": "CH7AuTWe0V1E",
        "outputId": "ef1707e6-e390-4aa6-f4cd-7b20ad335bff"
      },
      "execution_count": null,
      "outputs": [
        {
          "output_type": "stream",
          "name": "stdout",
          "text": [
            "1\n",
            "2\n",
            "4\n",
            "5\n"
          ]
        }
      ]
    },
    {
      "cell_type": "code",
      "source": [
        "letter = 'x'\n",
        "my_letter = 'a'\n",
        "\n",
        "while my_letter != letter:\n",
        "  if my_letter in 'bcdef':\n",
        "    my_letter = chr(ord(my_letter) + 1)\n",
        "    continue\n",
        "  print(my_letter)\n",
        "  my_letter = chr(ord(my_letter) + 1)"
      ],
      "metadata": {
        "colab": {
          "base_uri": "https://localhost:8080/"
        },
        "id": "cjy2vCGj1To4",
        "outputId": "1a106e91-60fe-4ae0-da65-483c278a67ee"
      },
      "execution_count": null,
      "outputs": [
        {
          "output_type": "stream",
          "name": "stdout",
          "text": [
            "a\n",
            "g\n",
            "h\n",
            "i\n",
            "j\n",
            "k\n",
            "l\n",
            "m\n",
            "n\n",
            "o\n",
            "p\n",
            "q\n",
            "r\n",
            "s\n",
            "t\n",
            "u\n",
            "v\n",
            "w\n"
          ]
        }
      ]
    },
    {
      "cell_type": "markdown",
      "source": [
        "##Генераторы списков и словарей\n"
      ],
      "metadata": {
        "id": "AvDiqnm-G9m5"
      }
    },
    {
      "cell_type": "markdown",
      "source": [
        "Генераторы списков и словарей в Python - это компактный и эффективный способ создания списков и словарей с помощью выражений в одной строке кода. Они позволяют избежать использования циклов и условных операторов, делая код более читаемым и кратким."
      ],
      "metadata": {
        "id": "weAUJIzVHRgp"
      }
    },
    {
      "cell_type": "code",
      "source": [
        "# Пример генератора списка для создания списка квадратов чисел от 0 до 9\n",
        "squares = [x ** 2 for x in range(10)]\n",
        "print(squares)\n",
        "\n",
        "# Пример генератора списка для фильтрации только четных чисел от 0 до 9\n",
        "even_numbers = [x for x in range(10) if x % 2 == 0]\n",
        "print(even_numbers)\n"
      ],
      "metadata": {
        "colab": {
          "base_uri": "https://localhost:8080/"
        },
        "id": "coNHS1BiIGE7",
        "outputId": "bb39675e-4a98-4f08-e315-fa545cfeed42"
      },
      "execution_count": null,
      "outputs": [
        {
          "output_type": "stream",
          "name": "stdout",
          "text": [
            "[0, 1, 4, 9, 16, 25, 36, 49, 64, 81]\n",
            "[0, 2, 4, 6, 8]\n"
          ]
        }
      ]
    },
    {
      "cell_type": "code",
      "source": [
        "ex = [1, 2, 3, 4, 5, 6, 7]\n",
        "arr = [True if i % 2 == 0 else False for i in ex]\n",
        "print(arr)"
      ],
      "metadata": {
        "colab": {
          "base_uri": "https://localhost:8080/"
        },
        "id": "46Id8_5fIivz",
        "outputId": "37ee10ef-f43c-414c-d80e-1c751ebe3a9b"
      },
      "execution_count": null,
      "outputs": [
        {
          "output_type": "stream",
          "name": "stdout",
          "text": [
            "[False, True, False, True, False, True, False]\n"
          ]
        }
      ]
    },
    {
      "cell_type": "markdown",
      "source": [
        "Генераторы словарей позволяют создавать новый словарь на основе уже существующего словаря или другой итерируемой структуры данных."
      ],
      "metadata": {
        "id": "GcXRDJbhIvrK"
      }
    },
    {
      "cell_type": "code",
      "source": [
        "# Пример генератора словаря для создания словаря, где ключами являются числа от 0 до 4, а значениями - их квадраты\n",
        "square_dict = {x: x ** 2 for x in range(5)}\n",
        "print(square_dict)\n",
        "\n",
        "# Пример генератора словаря для обмена ключей и значений в словаре\n",
        "my_dict = {'a': 1, 'b': 2, 'c': 3}\n",
        "flipped_dict = {value: key for key, value in my_dict.items()}\n",
        "print(flipped_dict)\n"
      ],
      "metadata": {
        "colab": {
          "base_uri": "https://localhost:8080/"
        },
        "id": "4vc0nUinIxGZ",
        "outputId": "6f3570f6-ac56-49c4-abea-668f774b2fd1"
      },
      "execution_count": null,
      "outputs": [
        {
          "output_type": "stream",
          "name": "stdout",
          "text": [
            "{0: 0, 1: 1, 2: 4, 3: 9, 4: 16}\n",
            "{1: 'a', 2: 'b', 3: 'c'}\n"
          ]
        }
      ]
    },
    {
      "cell_type": "markdown",
      "source": [
        "##Решение задач"
      ],
      "metadata": {
        "id": "2XPZ1DIy194S"
      }
    },
    {
      "cell_type": "markdown",
      "source": [
        "###№1 на вход подаётся список чисел через пробел. Необходимо создать новый список, содержащий только положительные числа из исходного списка."
      ],
      "metadata": {
        "id": "krzrwoRH2ANZ"
      }
    },
    {
      "cell_type": "markdown",
      "source": [
        "###Пример решения"
      ],
      "metadata": {
        "id": "d2RWL217JK-1"
      }
    },
    {
      "cell_type": "code",
      "source": [
        "\n",
        "numbers = [int(c) for c in input().split()]\n",
        "\n",
        "\n",
        "positive_numbers = [x for x in numbers if x > 0]\n",
        "\n",
        "print(positive_numbers)\n"
      ],
      "metadata": {
        "colab": {
          "base_uri": "https://localhost:8080/"
        },
        "outputId": "e76aa432-4988-4c53-f427-f0ba94f40bbc",
        "id": "ANFxzT1eJK-6"
      },
      "execution_count": null,
      "outputs": [
        {
          "output_type": "stream",
          "name": "stdout",
          "text": [
            "-1 2 -3 3 3 -45\n",
            "[2, 3, 3]\n"
          ]
        }
      ]
    },
    {
      "cell_type": "markdown",
      "source": [
        "###№2 Создать список списков, представляющий таблицу умножения от 1 до 10."
      ],
      "metadata": {
        "id": "Wog2NtPaI89n"
      }
    },
    {
      "cell_type": "markdown",
      "source": [
        "###Пример решения"
      ],
      "metadata": {
        "id": "fsY6ZxtaJIrA"
      }
    },
    {
      "cell_type": "code",
      "source": [
        "\n",
        "multiplication_table = [[x * y for y in range(1, 11)] for x in range(1, 11)]\n",
        "\n",
        "\n",
        "for row in multiplication_table:\n",
        "    print(row)\n"
      ],
      "metadata": {
        "colab": {
          "base_uri": "https://localhost:8080/"
        },
        "outputId": "e7ce714e-28af-4df4-9103-490a9f88e8ae",
        "id": "bMDsYqugJIrL"
      },
      "execution_count": null,
      "outputs": [
        {
          "output_type": "stream",
          "name": "stdout",
          "text": [
            "[1, 2, 3, 4, 5, 6, 7, 8, 9, 10]\n",
            "[2, 4, 6, 8, 10, 12, 14, 16, 18, 20]\n",
            "[3, 6, 9, 12, 15, 18, 21, 24, 27, 30]\n",
            "[4, 8, 12, 16, 20, 24, 28, 32, 36, 40]\n",
            "[5, 10, 15, 20, 25, 30, 35, 40, 45, 50]\n",
            "[6, 12, 18, 24, 30, 36, 42, 48, 54, 60]\n",
            "[7, 14, 21, 28, 35, 42, 49, 56, 63, 70]\n",
            "[8, 16, 24, 32, 40, 48, 56, 64, 72, 80]\n",
            "[9, 18, 27, 36, 45, 54, 63, 72, 81, 90]\n",
            "[10, 20, 30, 40, 50, 60, 70, 80, 90, 100]\n"
          ]
        }
      ]
    },
    {
      "cell_type": "markdown",
      "source": [
        "###№3 на вход подаётся строка. Необходимо создать словарь, в котором ключами будут буквы, а значениями - количество их появлений в строке.\n",
        "Для решения используйте метод строки count, котоырый возвращает количество повторений заданного символа в строке\n",
        " ```string.count(letter)```"
      ],
      "metadata": {
        "id": "gQgd6YVHI9Z_"
      }
    },
    {
      "cell_type": "markdown",
      "source": [
        "###Пример решения"
      ],
      "metadata": {
        "id": "txvPqg_XJLrx"
      }
    },
    {
      "cell_type": "code",
      "source": [
        "string = input()\n",
        "\n",
        "# Генератор словаря для подсчета букв в строке\n",
        "letter_counts = {letter: string.count(letter) for letter in string if letter != ' '}\n",
        "\n",
        "print(letter_counts)\n"
      ],
      "metadata": {
        "colab": {
          "base_uri": "https://localhost:8080/"
        },
        "outputId": "914e9159-0aa8-4601-fd19-a7097bd07247",
        "id": "csr2BizYJLrx"
      },
      "execution_count": null,
      "outputs": [
        {
          "output_type": "stream",
          "name": "stdout",
          "text": [
            "lol keke \n",
            "{'l': 2, 'o': 1, 'k': 2, 'e': 2}\n"
          ]
        }
      ]
    },
    {
      "cell_type": "markdown",
      "source": [
        "###№4 Вывеите числа от 1 до 1000, которые делятся на 7 и не делятся на 13. Также на конце у них долна находится единица. Выводите числа через пробел."
      ],
      "metadata": {
        "id": "vrwxUd3ZI9qb"
      }
    },
    {
      "cell_type": "markdown",
      "source": [
        "###Пример решения"
      ],
      "metadata": {
        "id": "oQ-GwYiF2I8R"
      }
    },
    {
      "cell_type": "code",
      "source": [
        "number = 1\n",
        "\n",
        "while number <= 1000:\n",
        "    if number % 7 == 0 and number % 13 != 0 and number % 10 == 1:\n",
        "        print(number, end=\" \")\n",
        "    number += 1"
      ],
      "metadata": {
        "colab": {
          "base_uri": "https://localhost:8080/"
        },
        "id": "UsVNamwx2OFZ",
        "outputId": "e4266eb7-c7bb-4e4d-a5bd-9f7853b1cc9b"
      },
      "execution_count": null,
      "outputs": [
        {
          "output_type": "stream",
          "name": "stdout",
          "text": [
            "49 119 189 259 329 399 469 539 609 679 749 889 959 "
          ]
        }
      ]
    },
    {
      "cell_type": "markdown",
      "source": [
        "###№5 Посчитайте сумму квадратных корней нечётных чисел от 3 до 93. Ответ округлите с помощью int()."
      ],
      "metadata": {
        "id": "jbQCW2Td2SvO"
      }
    },
    {
      "cell_type": "markdown",
      "source": [
        "###Пример решения"
      ],
      "metadata": {
        "id": "MunZLNsn2fcl"
      }
    },
    {
      "cell_type": "code",
      "source": [
        "sum_of_sqrt = 0\n",
        "for number in range(3, 94, 2):\n",
        "    sum_of_sqrt += number ** 0.5\n",
        "\n",
        "rounded_sum = int(sum_of_sqrt)\n",
        "\n",
        "print(rounded_sum)"
      ],
      "metadata": {
        "colab": {
          "base_uri": "https://localhost:8080/"
        },
        "id": "czx8YkTH2fcr",
        "outputId": "a427c78e-0200-4f2c-99f2-047fac13faee"
      },
      "execution_count": null,
      "outputs": [
        {
          "output_type": "stream",
          "name": "stdout",
          "text": [
            "302\n"
          ]
        }
      ]
    },
    {
      "cell_type": "markdown",
      "source": [
        "###№6 Напишите код, который все элементы массива x с нечетными индексами переставит в обратном порядке. ( на вход подаётся число n - поличество элементов в массиве и потом каждый раз на новой строке элементы по очереди)\n",
        "\n",
        "Т.е. если x = [0, 1, 2, 3, 4, 5, 6, 7, 8, 9], то код должен получать [0, 9, 2, 7, 4, 5, 6, 3, 8, 1]"
      ],
      "metadata": {
        "id": "ZZl3_aAO2TFq"
      }
    },
    {
      "cell_type": "markdown",
      "source": [
        "###Пример решения"
      ],
      "metadata": {
        "id": "ooVG-Urf2s8E"
      }
    },
    {
      "cell_type": "code",
      "source": [
        "n = int(input())\n",
        "x = []\n",
        "for i in range(n):\n",
        "  x.append(int(input()))\n",
        "\n",
        "ans = []\n",
        "for i in range(len(x)):\n",
        "  if i%2 == 0:\n",
        "    ans.append(x[i])\n",
        "  else:\n",
        "    ans.append(x[-i])\n",
        "\n",
        "print(ans)"
      ],
      "metadata": {
        "colab": {
          "base_uri": "https://localhost:8080/"
        },
        "id": "Pj4Pcmro2s8J",
        "outputId": "9c21e93d-423e-4ce8-cd62-39acd6cf1856"
      },
      "execution_count": null,
      "outputs": [
        {
          "output_type": "stream",
          "name": "stdout",
          "text": [
            "10\n",
            "0\n",
            "1\n",
            "2\n",
            "3\n",
            "4\n",
            "5\n",
            "6\n",
            "7\n",
            "8\n",
            "9\n",
            "[0, 9, 2, 7, 4, 5, 6, 3, 8, 1]\n"
          ]
        }
      ]
    },
    {
      "cell_type": "markdown",
      "source": [
        "###№7 Предсказание популяции:\n",
        "На вход программе подается три натуральных числа m,p,n:\n",
        "m: стартовое количество организмов;\n",
        "p: среднесуточное увеличение в %;\n",
        "n: количество дней для размножения.\n",
        "Напишите программу, которая предсказывает размер популяции организмов. Программа должна выводить размер популяции в каждый день, начиная с\n",
        "1 и заканчивая n-м днем. (каждое число на новой строке)."
      ],
      "metadata": {
        "id": "vkl5rqsu2TYK"
      }
    },
    {
      "cell_type": "markdown",
      "source": [
        "###Пример решения"
      ],
      "metadata": {
        "id": "mCtSuPp82klC"
      }
    },
    {
      "cell_type": "code",
      "source": [
        "m, p, n = int(input()), int(input()), int(input())\n",
        "for i in range(n):\n",
        "    print(i + 1, float(m))\n",
        "    m = m * (1 + p / 100)"
      ],
      "metadata": {
        "colab": {
          "base_uri": "https://localhost:8080/"
        },
        "id": "PUZzxXFq2klH",
        "outputId": "225a1b21-af33-4b62-ff38-c8a17a5f2cc3"
      },
      "execution_count": null,
      "outputs": [
        {
          "output_type": "stream",
          "name": "stdout",
          "text": [
            "5\n",
            "12\n",
            "35\n",
            "1 5.0\n",
            "2 5.6000000000000005\n",
            "3 6.272000000000001\n",
            "4 7.0246400000000015\n",
            "5 7.867596800000002\n",
            "6 8.811708416000004\n",
            "7 9.869113425920006\n",
            "8 11.053407037030407\n",
            "9 12.379815881474057\n",
            "10 13.865393787250945\n",
            "11 15.52924104172106\n",
            "12 17.39274996672759\n",
            "13 19.479879962734902\n",
            "14 21.81746555826309\n",
            "15 24.435561425254665\n",
            "16 27.367828796285227\n",
            "17 30.651968251839456\n",
            "18 34.33020444206019\n",
            "19 38.44982897510742\n",
            "20 43.06380845212032\n",
            "21 48.231465466374765\n",
            "22 54.01924132233974\n",
            "23 60.50155028102051\n",
            "24 67.76173631474298\n",
            "25 75.89314467251214\n",
            "26 85.0003220332136\n",
            "27 95.20036067719924\n",
            "28 106.62440395846316\n",
            "29 119.41933243347876\n",
            "30 133.7496523254962\n",
            "31 149.79961060455577\n",
            "32 167.77556387710248\n",
            "33 187.9086315423548\n",
            "34 210.4576673274374\n",
            "35 235.7125874067299\n"
          ]
        }
      ]
    },
    {
      "cell_type": "markdown",
      "source": [
        "###№8 На вход подаётся последовательность : ```<число> <операция> <число> <операция> <число> ...```\n",
        "\n",
        "Из операций есть + и -. Посчитайте заданное выражаение."
      ],
      "metadata": {
        "id": "fMq9ZyVf2TeD"
      }
    },
    {
      "cell_type": "markdown",
      "source": [
        "###Пример решения"
      ],
      "metadata": {
        "id": "uRm3oT1n2ln4"
      }
    },
    {
      "cell_type": "code",
      "source": [
        "arr = input().split()\n",
        "sum = int(arr[0])\n",
        "for i in range(1,len(arr)):\n",
        "  if arr[i] == '+':\n",
        "    sum += int(arr[i+1])\n",
        "  elif arr[i] == '-':\n",
        "    sum -= int(arr[i+1])\n",
        "print(sum)"
      ],
      "metadata": {
        "colab": {
          "base_uri": "https://localhost:8080/"
        },
        "id": "1ic16t_w2ln4",
        "outputId": "9de9a316-0afe-47ca-a3fd-0763a63454d7"
      },
      "execution_count": null,
      "outputs": [
        {
          "output_type": "stream",
          "name": "stdout",
          "text": [
            "1 + 3 - 5 + 1 + 1 - 3 - 1\n",
            "-3\n"
          ]
        }
      ]
    },
    {
      "cell_type": "markdown",
      "source": [
        "###№9 У нас есть список студентов и их оценки по предметам. Необходимо посчитать средний балл каждого студента и вывести его в формате словаря, где ключом будет имя студента, а значением - его средний балл.\n",
        "```students = {\n",
        "    'Анна': [4, 5, 3, 4],\n",
        "    'Петр': [3, 3, 4, 5],\n",
        "    'Мария': [5, 5, 5, 4],\n",
        "    'Иван': [4, 4, 4, 4]\n",
        "}\n",
        "```\n",
        "\n",
        "Ожидаемый результат:\n",
        "\n",
        "```\n",
        "average_grades = {\n",
        "    'Анна': 4.0,\n",
        "    'Петр': 3.75,\n",
        "    'Мария': 4.75,\n",
        "    'Иван': 4.0\n",
        "}\n",
        "```"
      ],
      "metadata": {
        "id": "YVBjkI4n2Uaz"
      }
    },
    {
      "cell_type": "markdown",
      "source": [
        "###Пример решения"
      ],
      "metadata": {
        "id": "6EZSXKM72n6e"
      }
    },
    {
      "cell_type": "code",
      "source": [
        "students = {\n",
        "    'Anna': [4, 5, 3, 4],\n",
        "    'Peter': [3, 3, 4, 5],\n",
        "    'Maria': [5, 5, 5, 4],\n",
        "    'John': [4, 4, 4, 4]\n",
        "}\n",
        "\n",
        "average_grades = {}\n",
        "\n",
        "for student, grades in students.items():\n",
        "    average_grade = sum(grades) / len(grades)\n",
        "    average_grades[student] = average_grade\n",
        "\n",
        "print(average_grades)"
      ],
      "metadata": {
        "colab": {
          "base_uri": "https://localhost:8080/"
        },
        "id": "rkcX0DEYGvj7",
        "outputId": "75302081-ee87-4d71-c233-9ef121f0ecd2"
      },
      "execution_count": null,
      "outputs": [
        {
          "output_type": "stream",
          "name": "stdout",
          "text": [
            "{'Anna': 4.0, 'Peter': 3.75, 'Maria': 4.75, 'John': 4.0}\n"
          ]
        }
      ]
    }
  ]
}