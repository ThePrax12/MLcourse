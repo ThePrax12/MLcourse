{
  "nbformat": 4,
  "nbformat_minor": 0,
  "metadata": {
    "colab": {
      "provenance": [],
      "authorship_tag": "ABX9TyNm0cMXid4eHAViJnpgfmuY",
      "include_colab_link": true
    },
    "kernelspec": {
      "name": "python3",
      "display_name": "Python 3"
    },
    "language_info": {
      "name": "python"
    }
  },
  "cells": [
    {
      "cell_type": "markdown",
      "metadata": {
        "id": "view-in-github",
        "colab_type": "text"
      },
      "source": [
        "<a href=\"https://colab.research.google.com/github/ThePrax12/MLcourse/blob/main/NumPy/%D0%97%D0%B0%D0%BD%D1%8F%D1%82%D0%B8%D0%B55.ipynb\" target=\"_parent\"><img src=\"https://colab.research.google.com/assets/colab-badge.svg\" alt=\"Open In Colab\"/></a>"
      ]
    },
    {
      "cell_type": "markdown",
      "source": [
        "#NumPy"
      ],
      "metadata": {
        "id": "cbovJw08Wqyo"
      }
    },
    {
      "cell_type": "markdown",
      "source": [
        "\n",
        "[NumPy](https://numpy.org/) (Numerical Python) - это основная библиотека для выполнения вычислений с использованием многомерных массивов и матриц в Python. Она предоставляет обширный набор функций и операций для работы с массивами, что делает ее незаменимой для научных вычислений и анализа данных.\n",
        "\n",
        "Основан NumPy на библиотеке LAPAC, которая написана на Fortran. Поэтому NumPy обеспечивает эффективные и быстрые операции над многомерными массивами, такие как сложение, умножение, транспонирование, вычисление статистических параметров и многое другое."
      ],
      "metadata": {
        "id": "Gs5q22AtWtxS"
      }
    },
    {
      "cell_type": "markdown",
      "source": [
        "## Установка и подключение\n",
        "\n",
        "Если вы используете Google Colab, то numpy уже установлен на виртуальном сервере и вы можете им пользоваться.\n",
        "\n",
        "Если вы открыли собственный ноутбук, то можете воспользоваться командой установки, записанной через восклицательный знак\n",
        "\n",
        "\n",
        "```\n",
        "!comand\n",
        "```\n",
        "Так запущенная команда в среде ipy вызывает системную команду pip, которая сама установит данный модуль в вашу виртуальную среду.\n",
        "\n",
        "Обратите внимание, что каждый ноутбк имеет свой набор используемых библиотек и системных установок.\n"
      ],
      "metadata": {
        "id": "TqMd6H8OYg5q"
      }
    },
    {
      "cell_type": "code",
      "source": [
        "!pip install numpy"
      ],
      "metadata": {
        "colab": {
          "base_uri": "https://localhost:8080/"
        },
        "id": "OJ4JrHl6YqgQ",
        "outputId": "e736e472-8793-4270-e2d5-e0b876ecfbe3"
      },
      "execution_count": null,
      "outputs": [
        {
          "output_type": "stream",
          "name": "stdout",
          "text": [
            "Requirement already satisfied: numpy in /usr/local/lib/python3.10/dist-packages (1.25.2)\n"
          ]
        }
      ]
    },
    {
      "cell_type": "markdown",
      "source": [
        "Для подключения модулей в Python используется команда `import` или её вариации. В случае с numpy есть традиционная и привычная всем команда импорта с использованием алиаса (as) np\n",
        "\n",
        "Алиас - это встроенная команда интерпретатора для сокращения команд и их последовательностей."
      ],
      "metadata": {
        "id": "Xjb3ZEf_Yw3b"
      }
    },
    {
      "cell_type": "code",
      "source": [
        "# классический вариант\n",
        "import numpy\n",
        "\n",
        "# numpy.func"
      ],
      "metadata": {
        "id": "UN-N0FrKY7u-"
      },
      "execution_count": null,
      "outputs": []
    },
    {
      "cell_type": "code",
      "source": [
        "# традиционный вариант\n",
        "import numpy as np\n",
        "\n",
        "# np.func"
      ],
      "metadata": {
        "id": "Qj5cKw7EY76l"
      },
      "execution_count": null,
      "outputs": []
    },
    {
      "cell_type": "markdown",
      "source": [
        "Есть другой вариант, в котором можно использовать только команду без указания модуля. Но так как в разных модулях могут быть одинаковые функции, использовать такой вариант не рекомендуется."
      ],
      "metadata": {
        "id": "Yl6FgYYCZISt"
      }
    },
    {
      "cell_type": "code",
      "source": [
        "from numpy import *\n",
        "from math import *\n",
        "# sqrt(9)\n",
        "# sqrt(9)"
      ],
      "metadata": {
        "id": "qNCHx3fkZLhs"
      },
      "execution_count": null,
      "outputs": []
    },
    {
      "cell_type": "markdown",
      "source": [
        "##Особые константы"
      ],
      "metadata": {
        "id": "I_m1UCf5aq52"
      }
    },
    {
      "cell_type": "code",
      "source": [
        "import numpy as np\n",
        "\n",
        "# Математические константы\n",
        "print(\"Число Пи:\", np.pi)\n",
        "print(\"Число e:\", np.e)\n",
        "\n",
        "# Специальные значения\n",
        "print(\"Положительная бесконечность:\", np.inf)\n",
        "print(\"NaN (не число):\", np.nan)\n"
      ],
      "metadata": {
        "colab": {
          "base_uri": "https://localhost:8080/"
        },
        "id": "3mljnBvOauZI",
        "outputId": "d72bf626-88b1-497f-f098-b9be65fb017c"
      },
      "execution_count": null,
      "outputs": [
        {
          "output_type": "stream",
          "name": "stdout",
          "text": [
            "Число Пи: 3.141592653589793\n",
            "Число e: 2.718281828459045\n",
            "Положительная бесконечность: inf\n",
            "NaN (не число): nan\n"
          ]
        }
      ]
    },
    {
      "cell_type": "markdown",
      "source": [
        "##Массивы NumPy\n"
      ],
      "metadata": {
        "id": "P2K08rSRbIMI"
      }
    },
    {
      "cell_type": "markdown",
      "source": [
        "Массивы в NumPy (numpy.array) представляют собой основную структуру данных в библиотеке NumPy. Они предоставляют мощные средства для хранения и манипуляций с многомерными данными.\n",
        "\n",
        "Все элементы массива NumPy имеют одинаковый тип данных, что повышает производительность и упрощает вычисления.\n",
        "\n",
        "Массивы NumPy реализованы на низкоуровневых языках программирования (C и Fortran), что обеспечивает высокую производительность и эффективность при выполнении операций над массивами"
      ],
      "metadata": {
        "id": "xXaLpPpMbqhj"
      }
    },
    {
      "cell_type": "markdown",
      "source": [
        "###Создание"
      ],
      "metadata": {
        "id": "yvSoWDPWeun0"
      }
    },
    {
      "cell_type": "markdown",
      "source": [
        "Пример создания одномерного массива (из списка)"
      ],
      "metadata": {
        "id": "Up_62yVscfzb"
      }
    },
    {
      "cell_type": "code",
      "source": [
        "a = np.array([1, 9, 3, 4], float)\n",
        "print('Array:', a)\n",
        "print('Тип: ',type(a))\n",
        "# обратное преобразование\n",
        "print(a.tolist())"
      ],
      "metadata": {
        "colab": {
          "base_uri": "https://localhost:8080/"
        },
        "id": "dykyIUOqb3p0",
        "outputId": "fabd95e8-d116-42aa-95e6-7b4f7c5a39a1"
      },
      "execution_count": null,
      "outputs": [
        {
          "output_type": "stream",
          "name": "stdout",
          "text": [
            "Array: [1. 9. 3. 4.]\n",
            "Тип:  <class 'numpy.ndarray'>\n",
            "[1.0, 9.0, 3.0, 4.0]\n"
          ]
        }
      ]
    },
    {
      "cell_type": "markdown",
      "source": [
        "Многомерные массивы более разнообразны и исползуются повсеместно."
      ],
      "metadata": {
        "id": "EwQLCEPBd76h"
      }
    },
    {
      "cell_type": "code",
      "source": [
        "lst = [[1, 2, 3], [4, 5, 6], [7,8,9]]\n",
        "\n",
        "a = np.array(lst, int)\n",
        "\n",
        "print(lst, end = '\\n\\n')\n",
        "print(a, end = '\\n\\n')"
      ],
      "metadata": {
        "colab": {
          "base_uri": "https://localhost:8080/"
        },
        "id": "7Q_tZtkeeCHI",
        "outputId": "a74e8675-e7ec-46ac-adf4-72388248bdd9"
      },
      "execution_count": null,
      "outputs": [
        {
          "output_type": "stream",
          "name": "stdout",
          "text": [
            "[[1, 2, 3], [4, 5, 6], [7, 8, 9]]\n",
            "\n",
            "[[1 2 3]\n",
            " [4 5 6]\n",
            " [7 8 9]]\n",
            "\n"
          ]
        }
      ]
    },
    {
      "cell_type": "markdown",
      "source": [
        "Копирование массивов"
      ],
      "metadata": {
        "id": "latRDHHagTOF"
      }
    },
    {
      "cell_type": "code",
      "source": [
        "lst = [[1, 2, 3], [4, 5, 6], [7,8,9]]\n",
        "\n",
        "a = np.array(lst, int)\n",
        "\n",
        "b = a # неверно\n",
        "\n",
        "a[0,0] = 123\n",
        "print(b[0,0])"
      ],
      "metadata": {
        "colab": {
          "base_uri": "https://localhost:8080/"
        },
        "id": "i57x6DQagWZA",
        "outputId": "b45499ea-61cd-4314-b85b-31c875d66b4b"
      },
      "execution_count": null,
      "outputs": [
        {
          "output_type": "stream",
          "name": "stdout",
          "text": [
            "123\n"
          ]
        }
      ]
    },
    {
      "cell_type": "code",
      "source": [
        "lst = [[1, 2, 3], [4, 5, 6], [7,8,9]]\n",
        "\n",
        "a = np.array(lst, int)\n",
        "\n",
        "b = a.copy() # верно\n",
        "\n",
        "a[0,0] = 123\n",
        "print(b[0,0])"
      ],
      "metadata": {
        "colab": {
          "base_uri": "https://localhost:8080/"
        },
        "id": "AsUgB0WvgwhJ",
        "outputId": "fee2ab3c-38f0-470c-bd7e-ea4e075d6759"
      },
      "execution_count": null,
      "outputs": [
        {
          "output_type": "stream",
          "name": "stdout",
          "text": [
            "1\n"
          ]
        }
      ]
    },
    {
      "cell_type": "markdown",
      "source": [
        "Специальные функции для создания массивов"
      ],
      "metadata": {
        "id": "jjKinMilg-CF"
      }
    },
    {
      "cell_type": "code",
      "source": [
        "import numpy as np\n",
        "\n",
        "# Создание массива нулей размером 2x3\n",
        "zeros_array = np.zeros((2, 3))\n",
        "\n",
        "# Создание массива единиц размером 3x2\n",
        "ones_array = np.ones((3, 2))\n",
        "\n",
        "# Создание массива последовательных чисел от 0 до 9 с шагом 2\n",
        "range_array = np.arange(0, 10, 2)\n",
        "\n",
        "# Создание единичной матрицы размером 3x3 (единицы на главной диагонали)\n",
        "eye_matrix = np.eye(3)\n",
        "\n",
        "# k - номер диагонали, заполненный единицами\n",
        "eye_matrix_2 = np.eye(5,4, k=2)\n",
        "\n",
        "eye_matrix_3 = np.eye(5,4, k=-2)\n",
        "\n",
        "print(zeros_array,end = '\\n\\n')\n",
        "print(ones_array,end = '\\n\\n')\n",
        "print(range_array,end = '\\n\\n')\n",
        "print(eye_matrix,end = '\\n\\n')\n",
        "print(eye_matrix_2,end = '\\n\\n')\n",
        "print(eye_matrix_3,end = '\\n\\n')\n"
      ],
      "metadata": {
        "colab": {
          "base_uri": "https://localhost:8080/"
        },
        "id": "uMJBNkGDhbdc",
        "outputId": "08b1ba41-b92b-4379-c524-d2587fa75dd0"
      },
      "execution_count": null,
      "outputs": [
        {
          "output_type": "stream",
          "name": "stdout",
          "text": [
            "[[0. 0. 0.]\n",
            " [0. 0. 0.]]\n",
            "\n",
            "[[1. 1.]\n",
            " [1. 1.]\n",
            " [1. 1.]]\n",
            "\n",
            "[0 2 4 6 8]\n",
            "\n",
            "[[1. 0. 0.]\n",
            " [0. 1. 0.]\n",
            " [0. 0. 1.]]\n",
            "\n",
            "[[0. 0. 1. 0.]\n",
            " [0. 0. 0. 1.]\n",
            " [0. 0. 0. 0.]\n",
            " [0. 0. 0. 0.]\n",
            " [0. 0. 0. 0.]]\n",
            "\n",
            "[[0. 0. 0. 0.]\n",
            " [0. 0. 0. 0.]\n",
            " [1. 0. 0. 0.]\n",
            " [0. 1. 0. 0.]\n",
            " [0. 0. 1. 0.]]\n",
            "\n"
          ]
        }
      ]
    },
    {
      "cell_type": "markdown",
      "source": [
        "Заполнение с помощью генераторов случайных чисел: NumPy предоставляет функции для создания массивов со случайными значениями, такие как numpy.random.rand(), numpy.random.randint() и другие."
      ],
      "metadata": {
        "id": "5HHoXykMicox"
      }
    },
    {
      "cell_type": "code",
      "source": [
        "import numpy as np\n",
        "\n",
        "# Создание массива размером 2x3 со случайными значениями от 0 до 1\n",
        "random_array = np.random.rand(3,3)\n",
        "\n",
        "# Создание массива размером 2x3 со случайными целыми значениями от 0 до 9\n",
        "random_int_array = np.random.randint(0, 10, (3, 3))\n",
        "\n",
        "print(random_array,end = '\\n\\n')\n",
        "\n",
        "print(random_int_array,end = '\\n\\n')\n"
      ],
      "metadata": {
        "colab": {
          "base_uri": "https://localhost:8080/"
        },
        "id": "j9f6JJk_ijyB",
        "outputId": "3debef5b-3bb4-43aa-8701-ddc7f543f43e"
      },
      "execution_count": null,
      "outputs": [
        {
          "output_type": "stream",
          "name": "stdout",
          "text": [
            "[[0.19728782 0.80441597 0.6857936 ]\n",
            " [0.50750282 0.75384703 0.36725912]\n",
            " [0.92638666 0.82229297 0.75181375]]\n",
            "\n",
            "[[5 0 7]\n",
            " [0 5 6]\n",
            " [0 0 2]]\n",
            "\n"
          ]
        }
      ]
    },
    {
      "cell_type": "markdown",
      "source": [
        "### Изменение размеров массива"
      ],
      "metadata": {
        "id": "PHiUY1txpNaM"
      }
    },
    {
      "cell_type": "markdown",
      "source": [
        "Если что-то не устраивает, мы всегда можем видоизменить массив."
      ],
      "metadata": {
        "id": "gRve7Qp1pSnf"
      }
    },
    {
      "cell_type": "markdown",
      "source": [
        "**reshape()** позволяет изменить форму (shape) массива без изменения его данных.\n",
        "Новая форма должна содержать ту же общую длину (количество элементов) массива."
      ],
      "metadata": {
        "id": "ItZWKSmmpypb"
      }
    },
    {
      "cell_type": "code",
      "source": [
        "arr = np.array([[1, 2, 3],\n",
        "                [4, 5, 6]])\n",
        "\n",
        "reshaped_arr = np.reshape(arr, (3, 2))  # Изменяем форму на (3, 2)\n",
        "print(reshaped_arr)"
      ],
      "metadata": {
        "colab": {
          "base_uri": "https://localhost:8080/"
        },
        "id": "sictslZvphLz",
        "outputId": "486d31a3-0f4e-41f4-93dc-62b21feb8476"
      },
      "execution_count": null,
      "outputs": [
        {
          "output_type": "stream",
          "name": "stdout",
          "text": [
            "[[1 2]\n",
            " [3 4]\n",
            " [5 6]]\n"
          ]
        }
      ]
    },
    {
      "cell_type": "code",
      "source": [
        "a = a.reshape(3,2)\n",
        "print(a)"
      ],
      "metadata": {
        "colab": {
          "base_uri": "https://localhost:8080/"
        },
        "id": "ZI4BMySspmBz",
        "outputId": "8cdf89a2-309b-4c54-fd5c-39c230b98b4d"
      },
      "execution_count": null,
      "outputs": [
        {
          "output_type": "stream",
          "name": "stdout",
          "text": [
            "[[1. 2.]\n",
            " [3. 4.]\n",
            " [5. 6.]]\n"
          ]
        }
      ]
    },
    {
      "cell_type": "markdown",
      "source": [
        "Метод **resize()** изменяет форму массива, добавляя или удаляя элементы при необходимости."
      ],
      "metadata": {
        "id": "UrwfUD8cp-pC"
      }
    },
    {
      "cell_type": "code",
      "source": [
        "arr = np.array([[1, 2],\n",
        "                [3, 4]])\n",
        "\n",
        "# Изменяем форму массива на (3, 3) с заполнением нулями\n",
        "arr.resize((3, 3))\n",
        "print(arr, end = '\\n\\n')\n",
        "\n",
        "# Изменяем форму массива на (2, 2) с обрезкой\n",
        "arr.resize((2, 2))\n",
        "print(arr)"
      ],
      "metadata": {
        "colab": {
          "base_uri": "https://localhost:8080/"
        },
        "id": "KHD8n2A4qJSr",
        "outputId": "7ead843e-44b1-48fd-9f03-d6040e28014b"
      },
      "execution_count": null,
      "outputs": [
        {
          "output_type": "stream",
          "name": "stdout",
          "text": [
            "[[1 2 3]\n",
            " [4 0 0]\n",
            " [0 0 0]]\n",
            "\n",
            "[[1 2]\n",
            " [3 4]]\n"
          ]
        }
      ]
    },
    {
      "cell_type": "code",
      "source": [
        "a = np.array([[1, 2],\n",
        "                [3, 4]])\n",
        "# с помощью этой команды можно вытянуть массив в одномерную \"строку\"\n",
        "a.flatten()"
      ],
      "metadata": {
        "colab": {
          "base_uri": "https://localhost:8080/"
        },
        "id": "ZfXaMgkoqhAU",
        "outputId": "51600241-aa7b-46d2-fa29-27595f243509"
      },
      "execution_count": null,
      "outputs": [
        {
          "output_type": "execute_result",
          "data": {
            "text/plain": [
              "array([1, 2, 3, 4])"
            ]
          },
          "metadata": {},
          "execution_count": 63
        }
      ]
    },
    {
      "cell_type": "markdown",
      "source": [
        "###Срезы и индексация"
      ],
      "metadata": {
        "id": "-HSFMtnbjMAC"
      }
    },
    {
      "cell_type": "markdown",
      "source": [
        "Для одномерных массивов срезы и индексация работают также как и с list()."
      ],
      "metadata": {
        "id": "_XbE7hkNjTIn"
      }
    },
    {
      "cell_type": "code",
      "source": [
        "a = np.array([1, 9, 3, 4, 5, 8, 90])\n",
        "\n",
        "print(a[0])\n",
        "print( a[3])\n",
        "print( a[-1])\n",
        "a[0] = '5'\n",
        "print('new: ', a[0])\n",
        "\n",
        "print(a[1:3])\n",
        "print( a[3::2])\n",
        "print( a[::-1])"
      ],
      "metadata": {
        "colab": {
          "base_uri": "https://localhost:8080/"
        },
        "id": "Ig-NzBHGcucn",
        "outputId": "6a047104-db39-45f9-972e-5ba18a5dc553"
      },
      "execution_count": null,
      "outputs": [
        {
          "output_type": "stream",
          "name": "stdout",
          "text": [
            "1\n",
            "4\n",
            "90\n",
            "new:  5\n",
            "[9 3]\n",
            "[4 8]\n",
            "[90  8  5  4  3  9  5]\n"
          ]
        }
      ]
    },
    {
      "cell_type": "markdown",
      "source": [
        "Многомерные немного отличаются от list()"
      ],
      "metadata": {
        "id": "q7XL99x9kUFD"
      }
    },
    {
      "cell_type": "code",
      "source": [
        "lst = [[1, 2, 3], [4, 5, 6], [7 , 8, 9]]\n",
        "\n",
        "a = np.array(lst, int)\n",
        "\n",
        "print(lst[0][0], a[0,0], sep = ' : ', end = '\\n\\n')\n",
        "print(lst[1][2], a[1,2], sep = ' : ', end = '\\n\\n')\n",
        "print(lst[-1][-2], a[-1,-2], sep = ' : ', end = '\\n\\n')"
      ],
      "metadata": {
        "colab": {
          "base_uri": "https://localhost:8080/"
        },
        "id": "2ft5VP8wkWhg",
        "outputId": "abdd4dc5-08c4-46d9-a02a-0e2ce79c07b3"
      },
      "execution_count": null,
      "outputs": [
        {
          "output_type": "stream",
          "name": "stdout",
          "text": [
            "1 : 1\n",
            "\n",
            "6 : 6\n",
            "\n",
            "8 : 8\n",
            "\n"
          ]
        }
      ]
    },
    {
      "cell_type": "code",
      "source": [
        "lst = [[1, 2, 3], [4, 5, 6], [7 , 8, 9]]\n",
        "\n",
        "a = np.array(lst, int)\n",
        "print(a,end = '\\n\\n')\n",
        "\n",
        "print( a[ 1 , : ] ,end = '\\n\\n') # 4,5,6\n",
        "print(a[ : , 2 ],end = '\\n\\n') # 3,6,9\n",
        "print(a[-1 : , -2 : ],end = '\\n\\n') # 8,9\n",
        "\n",
        "print(type(a))\n",
        "print(type(a[-1 : , -2 : ]) )"
      ],
      "metadata": {
        "colab": {
          "base_uri": "https://localhost:8080/"
        },
        "id": "Ce2R45kfffsi",
        "outputId": "9001b463-fb95-44d4-b527-a4716ba4f29c"
      },
      "execution_count": null,
      "outputs": [
        {
          "output_type": "stream",
          "name": "stdout",
          "text": [
            "[[1 2 3]\n",
            " [4 5 6]\n",
            " [7 8 9]]\n",
            "\n",
            "[4 5 6]\n",
            "\n",
            "[3 6 9]\n",
            "\n",
            "[[8 9]]\n",
            "\n",
            "<class 'numpy.ndarray'>\n",
            "<class 'numpy.ndarray'>\n"
          ]
        }
      ]
    },
    {
      "cell_type": "markdown",
      "source": [
        "Срезы с шагом"
      ],
      "metadata": {
        "id": "-0jyNg_vl70H"
      }
    },
    {
      "cell_type": "code",
      "source": [
        "lst = [[1, 2, 3], [4, 5, 6], [7 , 8, 9]]\n",
        "\n",
        "a = np.array(lst, int)\n",
        "print(a,end = '\\n\\n')\n",
        "print(a[::2 , ::2 ])"
      ],
      "metadata": {
        "colab": {
          "base_uri": "https://localhost:8080/"
        },
        "id": "bpyJ-vr5l9iN",
        "outputId": "74831724-8515-4d5d-cc3e-2193ee13f527"
      },
      "execution_count": null,
      "outputs": [
        {
          "output_type": "stream",
          "name": "stdout",
          "text": [
            "[[1 2 3]\n",
            " [4 5 6]\n",
            " [7 8 9]]\n",
            "\n",
            "[[1 3]\n",
            " [7 9]]\n"
          ]
        }
      ]
    },
    {
      "cell_type": "markdown",
      "source": [
        "Можно использовать не одиночные индексы, а списки индексов вдоль каждой оси:"
      ],
      "metadata": {
        "id": "msdppUtwla5i"
      }
    },
    {
      "cell_type": "code",
      "source": [
        "A = np.arange(5)\n",
        "print(A)\n",
        "\n",
        "index_list = [0, 1, -1]\n",
        "A[index_list]\n"
      ],
      "metadata": {
        "colab": {
          "base_uri": "https://localhost:8080/"
        },
        "id": "fVQfSXhblbZj",
        "outputId": "88e574d8-6153-44cb-b7e3-be710304a411"
      },
      "execution_count": null,
      "outputs": [
        {
          "output_type": "stream",
          "name": "stdout",
          "text": [
            "[0 1 2 3 4]\n"
          ]
        },
        {
          "output_type": "execute_result",
          "data": {
            "text/plain": [
              "array([0, 1, 4])"
            ]
          },
          "metadata": {},
          "execution_count": 46
        }
      ]
    },
    {
      "cell_type": "markdown",
      "source": [
        "В NumPy также реализована возможность доступа ко множеству элементов массива через булев индексный массив. Индексный массив должен совпадать по форме с индексируемым.\n",
        "\n"
      ],
      "metadata": {
        "id": "dTbanFXNmXzc"
      }
    },
    {
      "cell_type": "code",
      "source": [
        "A = np.array([[1, 2, 3], [4, 5, 6]])\n",
        "I = np.array([[False, False, True], [ True, False, True]])\n",
        "print(A[I])"
      ],
      "metadata": {
        "colab": {
          "base_uri": "https://localhost:8080/"
        },
        "id": "ocw2qMLmmepR",
        "outputId": "3aec54ab-435f-4f05-9ba6-5a7d8f3bf894"
      },
      "execution_count": null,
      "outputs": [
        {
          "output_type": "stream",
          "name": "stdout",
          "text": [
            "[3 4 6]\n"
          ]
        }
      ]
    },
    {
      "cell_type": "markdown",
      "source": [
        "###Характеристики массивов"
      ],
      "metadata": {
        "id": "X6P_CP4dn5ll"
      }
    },
    {
      "cell_type": "code",
      "source": [
        "\n",
        "a = np.array([[1, 2, 3], [4, 5, 6]], float)\n",
        "a"
      ],
      "metadata": {
        "colab": {
          "base_uri": "https://localhost:8080/"
        },
        "id": "qovRW-Jln8HP",
        "outputId": "7bf469c1-0823-4319-a42c-b311e1fc0aae"
      },
      "execution_count": null,
      "outputs": [
        {
          "output_type": "execute_result",
          "data": {
            "text/plain": [
              "array([[1., 2., 3.],\n",
              "       [4., 5., 6.]])"
            ]
          },
          "metadata": {},
          "execution_count": 3
        }
      ]
    },
    {
      "cell_type": "code",
      "source": [
        "print(a.shape) # Размерность массива\n",
        "print(a.shape[0])"
      ],
      "metadata": {
        "colab": {
          "base_uri": "https://localhost:8080/"
        },
        "id": "B-J5aR9HoG5E",
        "outputId": "2540d248-7ce6-4b35-8516-fca1cff072df"
      },
      "execution_count": null,
      "outputs": [
        {
          "output_type": "stream",
          "name": "stdout",
          "text": [
            "(2, 3)\n",
            "2\n"
          ]
        }
      ]
    },
    {
      "cell_type": "code",
      "source": [
        "a.dtype # тип данных в массиве"
      ],
      "metadata": {
        "colab": {
          "base_uri": "https://localhost:8080/"
        },
        "id": "lZjbbnz9oUpu",
        "outputId": "9f07baa9-f947-4c47-dbc8-05a7a48feede"
      },
      "execution_count": null,
      "outputs": [
        {
          "output_type": "execute_result",
          "data": {
            "text/plain": [
              "dtype('float64')"
            ]
          },
          "metadata": {},
          "execution_count": 54
        }
      ]
    },
    {
      "cell_type": "code",
      "source": [
        "a.size # общее количество элементов"
      ],
      "metadata": {
        "colab": {
          "base_uri": "https://localhost:8080/"
        },
        "id": "hGj5iqyWofxn",
        "outputId": "b4abe31f-b6d8-48d5-acfc-3840725dca64"
      },
      "execution_count": null,
      "outputs": [
        {
          "output_type": "execute_result",
          "data": {
            "text/plain": [
              "6"
            ]
          },
          "metadata": {},
          "execution_count": 55
        }
      ]
    },
    {
      "cell_type": "code",
      "source": [
        "a.ndim # размерность массива"
      ],
      "metadata": {
        "colab": {
          "base_uri": "https://localhost:8080/"
        },
        "id": "wwVDOUK39emD",
        "outputId": "943904e4-b689-4ce4-bff2-2b3e26eac682"
      },
      "execution_count": null,
      "outputs": [
        {
          "output_type": "execute_result",
          "data": {
            "text/plain": [
              "2"
            ]
          },
          "metadata": {},
          "execution_count": 4
        }
      ]
    },
    {
      "cell_type": "markdown",
      "source": [
        "###Математические операции над массивами"
      ],
      "metadata": {
        "id": "78pw2pOH-reZ"
      }
    },
    {
      "cell_type": "markdown",
      "source": [
        "В NumPy мы можем произодить различные математические операции над массивами. Эти операции будут производиться поэлементно.\n",
        "\n",
        "**Стандартные математические операции применимы только к массивам одинаковых размеров.**"
      ],
      "metadata": {
        "id": "3Y0g1oCb-1ve"
      }
    },
    {
      "cell_type": "code",
      "source": [
        "a = np.array([1, 2, 3], dtype=float)\n",
        "b = np.array([5, 7, 8], dtype=float)\n",
        "print('a: ', a)\n",
        "print('b: ', b)"
      ],
      "metadata": {
        "colab": {
          "base_uri": "https://localhost:8080/"
        },
        "id": "SiwB20Oo-1aM",
        "outputId": "2a2c58df-b98b-45f5-d8f9-b0139a452f4e"
      },
      "execution_count": null,
      "outputs": [
        {
          "output_type": "stream",
          "name": "stdout",
          "text": [
            "a:  [1. 2. 3.]\n",
            "b:  [5. 7. 8.]\n"
          ]
        }
      ]
    },
    {
      "cell_type": "code",
      "source": [
        "b + 10"
      ],
      "metadata": {
        "colab": {
          "base_uri": "https://localhost:8080/"
        },
        "id": "Mr3YrR6O_qz_",
        "outputId": "1c7fe832-bded-4535-c6df-a1e5340e4277"
      },
      "execution_count": null,
      "outputs": [
        {
          "output_type": "execute_result",
          "data": {
            "text/plain": [
              "array([15., 17., 18.])"
            ]
          },
          "metadata": {},
          "execution_count": 9
        }
      ]
    },
    {
      "cell_type": "code",
      "source": [
        "b * 3"
      ],
      "metadata": {
        "colab": {
          "base_uri": "https://localhost:8080/"
        },
        "id": "Z4sb2jGKAt8u",
        "outputId": "66ae02d5-3c58-4766-f80b-9ae7e26225c8"
      },
      "execution_count": null,
      "outputs": [
        {
          "output_type": "execute_result",
          "data": {
            "text/plain": [
              "array([15., 21., 24.])"
            ]
          },
          "metadata": {},
          "execution_count": 16
        }
      ]
    },
    {
      "cell_type": "code",
      "source": [
        "a + b # Одинаковая размерность!"
      ],
      "metadata": {
        "colab": {
          "base_uri": "https://localhost:8080/"
        },
        "id": "ib8PSwHiAPr5",
        "outputId": "edd65485-3563-4714-c8b5-d6597de37352"
      },
      "execution_count": null,
      "outputs": [
        {
          "output_type": "execute_result",
          "data": {
            "text/plain": [
              "array([ 6.,  9., 11.])"
            ]
          },
          "metadata": {},
          "execution_count": 10
        }
      ]
    },
    {
      "cell_type": "code",
      "source": [
        "a - b"
      ],
      "metadata": {
        "colab": {
          "base_uri": "https://localhost:8080/"
        },
        "id": "-dYBhjP7ATZU",
        "outputId": "efe95293-a515-4f7d-c54e-dcb32e9cffdd"
      },
      "execution_count": null,
      "outputs": [
        {
          "output_type": "execute_result",
          "data": {
            "text/plain": [
              "array([-4., -5., -5.])"
            ]
          },
          "metadata": {},
          "execution_count": 11
        }
      ]
    },
    {
      "cell_type": "code",
      "source": [
        "a * b"
      ],
      "metadata": {
        "colab": {
          "base_uri": "https://localhost:8080/"
        },
        "id": "bqmuk945AYFB",
        "outputId": "82fb34bc-3a18-4fb2-d445-e463a7634e50"
      },
      "execution_count": null,
      "outputs": [
        {
          "output_type": "execute_result",
          "data": {
            "text/plain": [
              "array([ 5., 14., 24.])"
            ]
          },
          "metadata": {},
          "execution_count": 12
        }
      ]
    },
    {
      "cell_type": "code",
      "source": [
        "a / b"
      ],
      "metadata": {
        "colab": {
          "base_uri": "https://localhost:8080/"
        },
        "id": "D9Rez5VeAaam",
        "outputId": "646ba9f8-7247-4d3a-f875-44dfeb008751"
      },
      "execution_count": null,
      "outputs": [
        {
          "output_type": "execute_result",
          "data": {
            "text/plain": [
              "array([0.2       , 0.28571429, 0.375     ])"
            ]
          },
          "metadata": {},
          "execution_count": 13
        }
      ]
    },
    {
      "cell_type": "code",
      "source": [
        "a % b"
      ],
      "metadata": {
        "colab": {
          "base_uri": "https://localhost:8080/"
        },
        "id": "8cfZbSEmAcDH",
        "outputId": "5ed28109-295f-4be1-af4d-100e106c81b3"
      },
      "execution_count": null,
      "outputs": [
        {
          "output_type": "execute_result",
          "data": {
            "text/plain": [
              "array([1., 2., 3.])"
            ]
          },
          "metadata": {},
          "execution_count": 14
        }
      ]
    },
    {
      "cell_type": "code",
      "source": [
        "b ** a"
      ],
      "metadata": {
        "colab": {
          "base_uri": "https://localhost:8080/"
        },
        "id": "3aPAwPnnAeeB",
        "outputId": "422d5e7f-6989-4e4f-a681-48104c11cd9d"
      },
      "execution_count": null,
      "outputs": [
        {
          "output_type": "execute_result",
          "data": {
            "text/plain": [
              "array([  5.,  49., 512.])"
            ]
          },
          "metadata": {},
          "execution_count": 15
        }
      ]
    },
    {
      "cell_type": "code",
      "source": [
        "a[1:] + b # Размерности не совпадают!"
      ],
      "metadata": {
        "colab": {
          "base_uri": "https://localhost:8080/",
          "height": 141
        },
        "id": "ABw5gBl2AzI3",
        "outputId": "df8133ec-19e7-4887-9981-37b4a221df97"
      },
      "execution_count": null,
      "outputs": [
        {
          "output_type": "error",
          "ename": "ValueError",
          "evalue": "operands could not be broadcast together with shapes (2,) (3,) ",
          "traceback": [
            "\u001b[0;31m---------------------------------------------------------------------------\u001b[0m",
            "\u001b[0;31mValueError\u001b[0m                                Traceback (most recent call last)",
            "\u001b[0;32m<ipython-input-18-eaf7ed832436>\u001b[0m in \u001b[0;36m<cell line: 1>\u001b[0;34m()\u001b[0m\n\u001b[0;32m----> 1\u001b[0;31m \u001b[0ma\u001b[0m\u001b[0;34m[\u001b[0m\u001b[0;36m1\u001b[0m\u001b[0;34m:\u001b[0m\u001b[0;34m]\u001b[0m \u001b[0;34m+\u001b[0m \u001b[0mb\u001b[0m\u001b[0;34m\u001b[0m\u001b[0;34m\u001b[0m\u001b[0m\n\u001b[0m",
            "\u001b[0;31mValueError\u001b[0m: operands could not be broadcast together with shapes (2,) (3,) "
          ]
        }
      ]
    },
    {
      "cell_type": "markdown",
      "source": [
        "Также можем использовать различные унарные операции:"
      ],
      "metadata": {
        "id": "qIYJbYJABTzX"
      }
    },
    {
      "cell_type": "code",
      "source": [
        "import numpy as np\n",
        "\n",
        "arr = np.array([[1, -2],\n",
        "                [3, -4]])\n",
        "\n",
        "print(\"Отрицание:\")\n",
        "print(-arr,end = '\\n\\n')\n",
        "\n",
        "print(\"Абсолютное значение:\")\n",
        "print(np.abs(arr),end = '\\n\\n')\n",
        "\n",
        "print(\"Возведение в степень:\")\n",
        "print(np.power(arr, 2),end = '\\n\\n')\n",
        "\n",
        "print(\"Квадратный корень:\")\n",
        "print(np.sqrt(np.abs(arr)))\n"
      ],
      "metadata": {
        "colab": {
          "base_uri": "https://localhost:8080/"
        },
        "id": "PdtDs0y8BYSh",
        "outputId": "2e156d7a-3afc-4d45-b32c-6ee7393c1b8c"
      },
      "execution_count": null,
      "outputs": [
        {
          "output_type": "stream",
          "name": "stdout",
          "text": [
            "Отрицание:\n",
            "[[-1  2]\n",
            " [-3  4]]\n",
            "\n",
            "Абсолютное значение:\n",
            "[[1 2]\n",
            " [3 4]]\n",
            "\n",
            "Возведение в степень:\n",
            "[[ 1  4]\n",
            " [ 9 16]]\n",
            "\n",
            "Квадратный корень:\n",
            "[[1.         1.41421356]\n",
            " [1.73205081 2.        ]]\n",
            "Округление по правилам математики\n",
            "[1. 2. 3.]\n",
            "\n"
          ]
        }
      ]
    },
    {
      "cell_type": "markdown",
      "source": [
        "### Простые операции над массивами"
      ],
      "metadata": {
        "id": "By1urELSCfvS"
      }
    },
    {
      "cell_type": "markdown",
      "source": [
        "Для любой размерности операции проводятся по всем элементам"
      ],
      "metadata": {
        "id": "M71XsNR1HoW0"
      }
    },
    {
      "cell_type": "code",
      "source": [
        "import numpy as np\n",
        "\n",
        "arr = np.array([[1, 2, 3],\n",
        "                [4, 5, 6]])\n",
        "\n",
        "print(\"Сумма всех элементов:\")\n",
        "print(arr.sum())\n",
        "\n",
        "print('Перемножение:')\n",
        "print(arr.prod())\n",
        "\n",
        "print(\"Среднее значение:\")\n",
        "print(arr.mean())\n",
        "\n",
        "print(\"Минимальное значение:\")\n",
        "print(arr.min())\n",
        "\n",
        "print(\"Максимальное значение:\")\n",
        "print(arr.max())\n"
      ],
      "metadata": {
        "colab": {
          "base_uri": "https://localhost:8080/"
        },
        "id": "QwlFdzc8Dx5J",
        "outputId": "67829319-9070-4a60-994e-14dc7792b3bd"
      },
      "execution_count": null,
      "outputs": [
        {
          "output_type": "stream",
          "name": "stdout",
          "text": [
            "Сумма всех элементов:\n",
            "21\n",
            "Перемножение:\n",
            "720\n",
            "Среднее значение:\n",
            "3.5\n",
            "Минимальное значение:\n",
            "1\n",
            "Максимальное значение:\n",
            "6\n",
            "Максимальное значение:\n",
            "[1 2 3 4 5 6]\n"
          ]
        }
      ]
    },
    {
      "cell_type": "markdown",
      "source": [
        "Аналогично можно делать с одномерными массивами."
      ],
      "metadata": {
        "id": "K3pvYHS5GVdp"
      }
    },
    {
      "cell_type": "code",
      "source": [
        "a = np.array([1, 2, 2, 3, 3, 3, 4, 4, 4, 4])\n",
        "\n",
        "print('массив уникальных значений ',np.unique(a)) # уникальные значчения. При воздействии на многомерный массив вернёт всё ещё одномерный.\n",
        "print('Индекс минимального значения ',a.argmin()) #  Если массив имеет несколько измерений, метод вернет индекс минимального элемента в \"сплющенном\" (flatten) массиве\n",
        "print('Индекс максимльного значения ',a.argmax())"
      ],
      "metadata": {
        "colab": {
          "base_uri": "https://localhost:8080/"
        },
        "id": "8Rf-31sMGwSO",
        "outputId": "818edb08-1d1f-49e3-87f9-4bcad8b11227"
      },
      "execution_count": null,
      "outputs": [
        {
          "output_type": "stream",
          "name": "stdout",
          "text": [
            "массив уникальных значений  [1 2 3 4]\n",
            "массив уникальных значений  0\n",
            "массив уникальных значений  6\n"
          ]
        }
      ]
    },
    {
      "cell_type": "code",
      "source": [
        "a = np.array([1,1, 2, 3, 3, 3, 4, 4, 4, 4])\n",
        "unique_elements, counts = np.unique(a, return_counts=True)\n",
        "\n",
        "print(counts) # количество повторений каждого элемента"
      ],
      "metadata": {
        "colab": {
          "base_uri": "https://localhost:8080/"
        },
        "id": "VChjAUFFrdEo",
        "outputId": "92dbe1ff-b99b-407c-e27e-da87e41922a3"
      },
      "execution_count": 100,
      "outputs": [
        {
          "output_type": "stream",
          "name": "stdout",
          "text": [
            "[2 1 3 4]\n"
          ]
        }
      ]
    },
    {
      "cell_type": "markdown",
      "source": [
        "А если мы хотим в многомерном массиве проводить операции построчно ( или по столбцам)???"
      ],
      "metadata": {
        "id": "XR-uOO56GaUn"
      }
    },
    {
      "cell_type": "code",
      "source": [
        "\n",
        "arr = np.array([[1, 2, 3],\n",
        "                [4, 5, 6]])\n",
        "\n",
        "print('Сумма элементов по столбцам (ось 0):',arr.sum(axis=0))\n",
        "\n",
        "print('Сумма элементов по строкам (ось 1):',arr.sum(axis=1))\n",
        "\n",
        "\n",
        "print('Минимальные значения по столбцам (ось 0):',arr.min(axis=0))\n",
        "\n",
        "print('Максимальные значения по строкам (ось 1):',arr.max(axis=1))\n"
      ],
      "metadata": {
        "colab": {
          "base_uri": "https://localhost:8080/"
        },
        "id": "JuF7E-cqH3HH",
        "outputId": "1c3526b0-663d-4903-a647-56093bf8aeb1"
      },
      "execution_count": null,
      "outputs": [
        {
          "output_type": "stream",
          "name": "stdout",
          "text": [
            "Сумма элементов по столбцам (ось 0): [5 7 9]\n",
            "Сумма элементов по строкам (ось 1): [ 6 15]\n",
            "Минимальные значения по столбцам (ось 0): [1 2 3]\n",
            "Максимальные значения по строкам (ось 1): [3 6]\n"
          ]
        }
      ]
    },
    {
      "cell_type": "markdown",
      "source": [
        "Также мы можем производить различные округления"
      ],
      "metadata": {
        "id": "kyNT0CzFJ-Ok"
      }
    },
    {
      "cell_type": "code",
      "source": [
        "a = np.array([1.1, 1.5, 1.9], float)\n",
        "\n",
        "# округление вниз\n",
        "print(np.floor(a))\n",
        "\n",
        "# округление вврех\n",
        "print(np.ceil(a))\n",
        "\n",
        "# округление по правилам математики\n",
        "print(np.rint(a))"
      ],
      "metadata": {
        "colab": {
          "base_uri": "https://localhost:8080/"
        },
        "id": "pD9IgV4yJ89t",
        "outputId": "d7495fff-2086-4568-bd4e-972ef9956b9c"
      },
      "execution_count": null,
      "outputs": [
        {
          "output_type": "stream",
          "name": "stdout",
          "text": [
            "[1. 1. 1.]\n",
            "[2. 2. 2.]\n",
            "[1. 2. 2.]\n"
          ]
        }
      ]
    },
    {
      "cell_type": "markdown",
      "source": [
        "###Логические операции над массивами"
      ],
      "metadata": {
        "id": "p1mQl6RlNnlI"
      }
    },
    {
      "cell_type": "markdown",
      "source": [
        "Мы можем поэлемантно выполнять:\n",
        "\n",
        "Операции сравнения: Эти операции сравнивают каждый элемент массива с заданным значением ( или элементом другого массива) и возвращают массив булевых значений (True/False) в соответствии с выполнением условия.\n",
        "\n",
        "Логические операции: Эти операции позволяют комбинировать результаты других логических операций для создания более сложных условий."
      ],
      "metadata": {
        "id": "rRGndmZXOZ-4"
      }
    },
    {
      "cell_type": "code",
      "source": [
        "arr = np.array([1, 2, 3, 4, 5])\n",
        "\n",
        "# Операция сравнения: Возвращает массив булевых значений, указывающих,\n",
        "# является ли каждый элемент массива arr больше 2\n",
        "print(arr > 2)\n",
        "\n",
        "# Использование результата операции сравнения для индексации массива:\n",
        "# Выводит элементы массива, которые удовлетворяют условию arr > 2\n",
        "print(arr[arr > 2])"
      ],
      "metadata": {
        "colab": {
          "base_uri": "https://localhost:8080/"
        },
        "id": "oyTKpQskOjB4",
        "outputId": "8fbfc805-bc9a-41ef-a644-29191e039c18"
      },
      "execution_count": null,
      "outputs": [
        {
          "output_type": "stream",
          "name": "stdout",
          "text": [
            "[False False  True  True  True]\n",
            "[3 4 5]\n"
          ]
        }
      ]
    },
    {
      "cell_type": "code",
      "source": [
        "a = np.array([1, 3, 0, 5])\n",
        "b = np.array([0, 3, 2, 5])\n",
        "\n",
        "print(a > b, type(a>b))"
      ],
      "metadata": {
        "colab": {
          "base_uri": "https://localhost:8080/"
        },
        "id": "_OiU0jJpOpsm",
        "outputId": "7384b658-886f-4930-88ac-5430ca48c607"
      },
      "execution_count": null,
      "outputs": [
        {
          "output_type": "stream",
          "name": "stdout",
          "text": [
            "[ True False False False] <class 'numpy.ndarray'>\n"
          ]
        }
      ]
    },
    {
      "cell_type": "code",
      "source": [
        "c = a > b\n",
        "c"
      ],
      "metadata": {
        "colab": {
          "base_uri": "https://localhost:8080/"
        },
        "id": "eWHanMxQPERW",
        "outputId": "220a2a97-5998-4da0-b680-1ace5cb778ea"
      },
      "execution_count": null,
      "outputs": [
        {
          "output_type": "execute_result",
          "data": {
            "text/plain": [
              "array([ True, False, False, False])"
            ]
          },
          "metadata": {},
          "execution_count": 42
        }
      ]
    },
    {
      "cell_type": "code",
      "source": [
        "a[c] # a[a>b]"
      ],
      "metadata": {
        "colab": {
          "base_uri": "https://localhost:8080/"
        },
        "id": "IpFXYL46PH9R",
        "outputId": "54a99739-695d-4d17-a202-56a60e2ada59"
      },
      "execution_count": null,
      "outputs": [
        {
          "output_type": "execute_result",
          "data": {
            "text/plain": [
              "array([1])"
            ]
          },
          "metadata": {},
          "execution_count": 43
        }
      ]
    },
    {
      "cell_type": "code",
      "source": [
        "c = b > a\n",
        "print(b[c]) # b[b>a]"
      ],
      "metadata": {
        "colab": {
          "base_uri": "https://localhost:8080/"
        },
        "id": "vIOMRuZoPL71",
        "outputId": "4777ed9b-cbde-4439-90d2-a48e53f5e073"
      },
      "execution_count": null,
      "outputs": [
        {
          "output_type": "stream",
          "name": "stdout",
          "text": [
            "[2]\n"
          ]
        }
      ]
    },
    {
      "cell_type": "code",
      "source": [
        "b[ b == a]"
      ],
      "metadata": {
        "colab": {
          "base_uri": "https://localhost:8080/"
        },
        "id": "CWH8kSFTPWRo",
        "outputId": "a2d9411a-e6d7-4ee2-aa9a-facd18501e52"
      },
      "execution_count": null,
      "outputs": [
        {
          "output_type": "execute_result",
          "data": {
            "text/plain": [
              "array([3, 5])"
            ]
          },
          "metadata": {},
          "execution_count": 47
        }
      ]
    },
    {
      "cell_type": "code",
      "source": [
        "c = b == a\n",
        "\n",
        "print(c)\n",
        "print(sum(c)) # сколько всего True\n",
        "print(any(c)) # есть ли хоть один True\n",
        "print(all(c)) # все ли True"
      ],
      "metadata": {
        "colab": {
          "base_uri": "https://localhost:8080/"
        },
        "id": "Ul7-WgmiPfhB",
        "outputId": "29fb381a-973e-443a-e843-fc5ecc18551c"
      },
      "execution_count": null,
      "outputs": [
        {
          "output_type": "stream",
          "name": "stdout",
          "text": [
            "[False  True False  True]\n",
            "2\n",
            "True\n",
            "False\n"
          ]
        }
      ]
    },
    {
      "cell_type": "markdown",
      "source": [
        "Если мы хотим поэлементно произвести операции ИЛИ / И / НЕ, то нам понадобятся специальные функции"
      ],
      "metadata": {
        "id": "UByGoxLLQysc"
      }
    },
    {
      "cell_type": "code",
      "source": [
        "bool_arr1 = np.array([True, True, False, False])\n",
        "bool_arr2 = np.array([True, False, True, False])\n",
        "\n",
        "# Операция AND (логическое И): Возвращает массив, где элементы будут True\n",
        "# только в случае, если оба соответствующих элемента в bool_arr1 и bool_arr2 являются True\n",
        "print('И: ',np.logical_and(bool_arr1, bool_arr2))\n",
        "\n",
        "# Операция OR (логическое ИЛИ): Возвращает массив, где элементы будут True\n",
        "# если хотя бы один из соответствующих элементов в bool_arr1 или bool_arr2 является True\n",
        "print('ИЛИ: ',np.logical_or(bool_arr1, bool_arr2))\n",
        "\n",
        "print('НЕ: ',np.logical_not(bool_arr1))"
      ],
      "metadata": {
        "colab": {
          "base_uri": "https://localhost:8080/"
        },
        "id": "mDkH-jE9REQd",
        "outputId": "85e3ae2c-d3d5-4933-e0c8-0711fbcdec68"
      },
      "execution_count": null,
      "outputs": [
        {
          "output_type": "stream",
          "name": "stdout",
          "text": [
            "И:  [ True False False False]\n",
            "ИЛИ:  [ True  True  True False]\n",
            "НЕ:  [False False  True  True]\n"
          ]
        }
      ]
    },
    {
      "cell_type": "code",
      "source": [
        "bool_arr1 = np.array([True, True, False, False])\n",
        "bool_arr2 = np.array([True, False, True, False])\n",
        "\n",
        "print(bool_arr1 and bool_arr2) # не получится"
      ],
      "metadata": {
        "colab": {
          "base_uri": "https://localhost:8080/",
          "height": 176
        },
        "id": "V2cnEmqhRge7",
        "outputId": "b34de4b4-f14f-4970-a7bb-3469145e8a32"
      },
      "execution_count": null,
      "outputs": [
        {
          "output_type": "error",
          "ename": "ValueError",
          "evalue": "The truth value of an array with more than one element is ambiguous. Use a.any() or a.all()",
          "traceback": [
            "\u001b[0;31m---------------------------------------------------------------------------\u001b[0m",
            "\u001b[0;31mValueError\u001b[0m                                Traceback (most recent call last)",
            "\u001b[0;32m<ipython-input-55-d20a73a7b018>\u001b[0m in \u001b[0;36m<cell line: 4>\u001b[0;34m()\u001b[0m\n\u001b[1;32m      2\u001b[0m \u001b[0mbool_arr2\u001b[0m \u001b[0;34m=\u001b[0m \u001b[0mnp\u001b[0m\u001b[0;34m.\u001b[0m\u001b[0marray\u001b[0m\u001b[0;34m(\u001b[0m\u001b[0;34m[\u001b[0m\u001b[0;32mTrue\u001b[0m\u001b[0;34m,\u001b[0m \u001b[0;32mFalse\u001b[0m\u001b[0;34m,\u001b[0m \u001b[0;32mTrue\u001b[0m\u001b[0;34m,\u001b[0m \u001b[0;32mFalse\u001b[0m\u001b[0;34m]\u001b[0m\u001b[0;34m)\u001b[0m\u001b[0;34m\u001b[0m\u001b[0;34m\u001b[0m\u001b[0m\n\u001b[1;32m      3\u001b[0m \u001b[0;34m\u001b[0m\u001b[0m\n\u001b[0;32m----> 4\u001b[0;31m \u001b[0mprint\u001b[0m\u001b[0;34m(\u001b[0m\u001b[0mbool_arr1\u001b[0m \u001b[0;32mand\u001b[0m \u001b[0mbool_arr2\u001b[0m\u001b[0;34m)\u001b[0m \u001b[0;31m# не получится\u001b[0m\u001b[0;34m\u001b[0m\u001b[0;34m\u001b[0m\u001b[0m\n\u001b[0m",
            "\u001b[0;31mValueError\u001b[0m: The truth value of an array with more than one element is ambiguous. Use a.any() or a.all()"
          ]
        }
      ]
    },
    {
      "cell_type": "markdown",
      "source": [
        "Мы можем использовать */+  вместо np.logical_and() / np.logical_or(), но это будет плохо читаемо."
      ],
      "metadata": {
        "id": "EKGPV8aXSQEm"
      }
    },
    {
      "cell_type": "code",
      "source": [
        "bool_arr1 = np.array([True, True, False, False])\n",
        "bool_arr2 = np.array([True, False, True, False])\n",
        "\n",
        "# Использование оператора * для выполнения элементарного умножения (логического И)\n",
        "print(bool_arr1 * bool_arr2)\n",
        "\n"
      ],
      "metadata": {
        "colab": {
          "base_uri": "https://localhost:8080/"
        },
        "id": "JVz1waUYSEjN",
        "outputId": "63c2faae-3b00-4f60-c5ce-4ec6ef2640ff"
      },
      "execution_count": null,
      "outputs": [
        {
          "output_type": "stream",
          "name": "stdout",
          "text": [
            "[ True False False False]\n"
          ]
        }
      ]
    },
    {
      "cell_type": "markdown",
      "source": [
        "Можно проверять элементы массива на наличие NaN и бесконечностей."
      ],
      "metadata": {
        "id": "iQl60cbOS4xz"
      }
    },
    {
      "cell_type": "code",
      "source": [
        "a = np.array([1, np.NaN, np.Inf], float)\n",
        "a"
      ],
      "metadata": {
        "colab": {
          "base_uri": "https://localhost:8080/"
        },
        "id": "GrBmFtLTS5ay",
        "outputId": "e520b5e9-8871-428b-9576-2018005593b5"
      },
      "execution_count": null,
      "outputs": [
        {
          "output_type": "execute_result",
          "data": {
            "text/plain": [
              "array([ 1., nan, inf])"
            ]
          },
          "metadata": {},
          "execution_count": 59
        }
      ]
    },
    {
      "cell_type": "code",
      "source": [
        "np.isnan(a) # Является ли элемент массива nan"
      ],
      "metadata": {
        "colab": {
          "base_uri": "https://localhost:8080/"
        },
        "id": "qX9yYqGDS7oP",
        "outputId": "e1ae2a74-fca7-494b-a6f8-dcdca0f45a30"
      },
      "execution_count": null,
      "outputs": [
        {
          "output_type": "execute_result",
          "data": {
            "text/plain": [
              "array([False,  True, False])"
            ]
          },
          "metadata": {},
          "execution_count": 60
        }
      ]
    },
    {
      "cell_type": "code",
      "source": [
        "np.isfinite(a) # является ли элемент массива конечным числом"
      ],
      "metadata": {
        "colab": {
          "base_uri": "https://localhost:8080/"
        },
        "id": "l3isllHZTMvI",
        "outputId": "b9dedfdb-6357-429b-bf6b-0c24fa9e92ac"
      },
      "execution_count": null,
      "outputs": [
        {
          "output_type": "execute_result",
          "data": {
            "text/plain": [
              "array([ True, False, False])"
            ]
          },
          "metadata": {},
          "execution_count": 62
        }
      ]
    },
    {
      "cell_type": "markdown",
      "source": [
        "## Задания на пройденный материал"
      ],
      "metadata": {
        "id": "x8N6AzzVTYqH"
      }
    },
    {
      "cell_type": "markdown",
      "source": [
        "###№1 Создание 1\n",
        "Создайте массив arr, который содержит числа от 1 до 23 включительно с шагом 2 и преобразуйте его в двумерный массив размером 4x2."
      ],
      "metadata": {
        "id": "1CoFE0RkTi9M"
      }
    },
    {
      "cell_type": "markdown",
      "source": [
        "###Пример решения"
      ],
      "metadata": {
        "id": "th0es46hTlws"
      }
    },
    {
      "cell_type": "code",
      "source": [
        "import numpy as np\n",
        "\n",
        "arr = np.arange(1, 24, 2)\n",
        "\n",
        "arr = arr.reshape(4, 3)\n",
        "print(arr)"
      ],
      "metadata": {
        "colab": {
          "base_uri": "https://localhost:8080/"
        },
        "id": "LCV2_M1JTni3",
        "outputId": "7753fbe0-05f3-4365-f1db-f6e0267045be"
      },
      "execution_count": null,
      "outputs": [
        {
          "output_type": "stream",
          "name": "stdout",
          "text": [
            "[[ 1  3  5]\n",
            " [ 7  9 11]\n",
            " [13 15 17]\n",
            " [19 21 23]]\n"
          ]
        }
      ]
    },
    {
      "cell_type": "markdown",
      "source": [
        "###№2 Создание 2\n",
        "Создать матрицу размером `10х10` с 0 внутри, и 1 на границах. Например для `3х3`.\n",
        "\n",
        "```\n",
        "1 1 1\n",
        "1 0 1\n",
        "1 1 1\n",
        "```\n",
        "Не следует явно прописывать данную матрицу."
      ],
      "metadata": {
        "id": "7fToBALpTo8N"
      }
    },
    {
      "cell_type": "markdown",
      "source": [
        "###Пример решения"
      ],
      "metadata": {
        "id": "PbxWQ7mtTs6U"
      }
    },
    {
      "cell_type": "code",
      "source": [
        "matrix = np.zeros((10, 10))\n",
        "\n",
        "matrix[[0, -1], :] = 1\n",
        "matrix[:, [0, -1]] = 1\n",
        "\n",
        "print(matrix)\n"
      ],
      "metadata": {
        "colab": {
          "base_uri": "https://localhost:8080/"
        },
        "id": "8Pm-MXgITs6d",
        "outputId": "818ecd00-d323-4f9c-cd26-39c1adaf91b1"
      },
      "execution_count": null,
      "outputs": [
        {
          "output_type": "stream",
          "name": "stdout",
          "text": [
            "[[1. 1. 1. 1. 1. 1. 1. 1. 1. 1.]\n",
            " [1. 0. 0. 0. 0. 0. 0. 0. 0. 1.]\n",
            " [1. 0. 0. 0. 0. 0. 0. 0. 0. 1.]\n",
            " [1. 0. 0. 0. 0. 0. 0. 0. 0. 1.]\n",
            " [1. 0. 0. 0. 0. 0. 0. 0. 0. 1.]\n",
            " [1. 0. 0. 0. 0. 0. 0. 0. 0. 1.]\n",
            " [1. 0. 0. 0. 0. 0. 0. 0. 0. 1.]\n",
            " [1. 0. 0. 0. 0. 0. 0. 0. 0. 1.]\n",
            " [1. 0. 0. 0. 0. 0. 0. 0. 0. 1.]\n",
            " [1. 1. 1. 1. 1. 1. 1. 1. 1. 1.]]\n"
          ]
        }
      ]
    },
    {
      "cell_type": "markdown",
      "source": [
        "###№3 Создание 3\n",
        "Создайте матрицу ```7x7``` с числами 11..17 на главной диагонали и с 0 в других местах. Выведите её."
      ],
      "metadata": {
        "id": "3roh5Zw5Tpg9"
      }
    },
    {
      "cell_type": "markdown",
      "source": [
        "###Пример решения"
      ],
      "metadata": {
        "id": "cLoVRTfvTtQU"
      }
    },
    {
      "cell_type": "code",
      "source": [
        "a = np.eye(7)\n",
        "a[a == 1] = np.arange(11,18)\n",
        "print(a)"
      ],
      "metadata": {
        "colab": {
          "base_uri": "https://localhost:8080/"
        },
        "id": "tRAEIeRETtQV",
        "outputId": "1fb5b924-b22a-46ef-daa3-d65bcc41b90b"
      },
      "execution_count": null,
      "outputs": [
        {
          "output_type": "stream",
          "name": "stdout",
          "text": [
            "[[11.  0.  0.  0.  0.  0.  0.]\n",
            " [ 0. 12.  0.  0.  0.  0.  0.]\n",
            " [ 0.  0. 13.  0.  0.  0.  0.]\n",
            " [ 0.  0.  0. 14.  0.  0.  0.]\n",
            " [ 0.  0.  0.  0. 15.  0.  0.]\n",
            " [ 0.  0.  0.  0.  0. 16.  0.]\n",
            " [ 0.  0.  0.  0.  0.  0. 17.]]\n"
          ]
        }
      ]
    },
    {
      "cell_type": "markdown",
      "source": [
        "###№4 Создание 4\n",
        "У матрицы из предыдущего задания замените нули выше и ниже диагонали на числа -1 .. -6."
      ],
      "metadata": {
        "id": "vs_6rXCGTpn0"
      }
    },
    {
      "cell_type": "markdown",
      "source": [
        "###Пример решения"
      ],
      "metadata": {
        "id": "uQQUDkTDTtsv"
      }
    },
    {
      "cell_type": "code",
      "source": [
        "a = np.eye(7)\n",
        "a[a == 1] = np.arange(11,18)\n",
        "a += np.eye(7,k = 1)\n",
        "a[ a == 1] = np.arange(-6,0)\n",
        "a += np.eye(7,k = -1)\n",
        "a[ a == 1] = np.arange(-6,0)\n",
        "print(a)"
      ],
      "metadata": {
        "colab": {
          "base_uri": "https://localhost:8080/"
        },
        "id": "AqicNALJTtsw",
        "outputId": "61ff3a75-5f9e-4f1e-bb24-f1ef61106ec4"
      },
      "execution_count": null,
      "outputs": [
        {
          "output_type": "stream",
          "name": "stdout",
          "text": [
            "[[11. -6.  0.  0.  0.  0.  0.]\n",
            " [-6. 12. -5.  0.  0.  0.  0.]\n",
            " [ 0. -5. 13. -4.  0.  0.  0.]\n",
            " [ 0.  0. -4. 14. -3.  0.  0.]\n",
            " [ 0.  0.  0. -3. 15. -2.  0.]\n",
            " [ 0.  0.  0.  0. -2. 16. -1.]\n",
            " [ 0.  0.  0.  0.  0. -1. 17.]]\n"
          ]
        }
      ]
    },
    {
      "cell_type": "markdown",
      "source": [
        "###№5 Замена\n",
        "Дана матрица ```10x10```\n",
        "\n",
        "```\n",
        "arr = np.array([[34, 10, 27, 32, 38, 21, 46, 17, 29, 48],\n",
        "                   [41, 35, 28, 12, 37, 46, 26, 20, 39,  5],\n",
        "                   [49, 50, 18, 20, 20,  9, 33, 47, 12, 50],\n",
        "                   [19, 50, 37, 27, 10, 15, 39, 27,  6, 33],\n",
        "                   [13, 31, 32, 27, 16,  1, 34, 13, 20, 22],\n",
        "                   [14, 15, 42,  7, 38,  5, 27, 50, 14, 20],\n",
        "                   [42,  8, 21, 48, 26, 28, 16, 22, 11, 28],\n",
        "                   [14, 30, 40, 38, 40, 33, 26, 19, 49, 48],\n",
        "                   [ 7, 36, 47, 36, 50, 11, 13, 28, 48, 47],\n",
        "                   [25, 48, 41,  1, 40, 34, 44, 50, 29, 28]],float)\n",
        "```\n",
        "Замените во всех чётных строках (0,2,4,6,8) числа, которые больше 7 и нацело деляться на 5 на нули."
      ],
      "metadata": {
        "id": "plZNwJXyTpts"
      }
    },
    {
      "cell_type": "markdown",
      "source": [
        "###Пример решения"
      ],
      "metadata": {
        "id": "hqJ5XVk8TuGS"
      }
    },
    {
      "cell_type": "code",
      "source": [
        "arr = np.array([[34, 10, 27, 32, 38, 21, 46, 17, 29, 48],\n",
        "                   [41, 35, 28, 12, 37, 46, 26, 20, 39,  5],\n",
        "                   [49, 50, 18, 20, 20,  9, 33, 47, 12, 50],\n",
        "                   [19, 50, 37, 27, 10, 15, 39, 27,  6, 33],\n",
        "                   [13, 31, 32, 27, 16,  1, 34, 13, 20, 22],\n",
        "                   [14, 15, 42,  7, 38,  5, 27, 50, 14, 20],\n",
        "                   [42,  8, 21, 48, 26, 28, 16, 22, 11, 28],\n",
        "                   [14, 30, 40, 38, 40, 33, 26, 19, 49, 48],\n",
        "                   [ 7, 36, 47, 36, 50, 11, 13, 28, 48, 47],\n",
        "                   [25, 48, 41,  1, 40, 34, 44, 50, 29, 28]],float)\n",
        "\n",
        "bool_matrix = np.logical_and(arr[::2,:] > 7, arr[::2,:] % 5 == 0 )\n",
        "\n",
        "arr[::2,:][bool_matrix] = 0\n",
        "print(arr)"
      ],
      "metadata": {
        "colab": {
          "base_uri": "https://localhost:8080/"
        },
        "id": "e1N3XAwhTuGS",
        "outputId": "4c832818-3d1c-4642-f6cf-901a80d62375"
      },
      "execution_count": 98,
      "outputs": [
        {
          "output_type": "stream",
          "name": "stdout",
          "text": [
            "[[34.  0. 27. 32. 38. 21. 46. 17. 29. 48.]\n",
            " [41. 35. 28. 12. 37. 46. 26. 20. 39.  5.]\n",
            " [49.  0. 18.  0.  0.  9. 33. 47. 12.  0.]\n",
            " [19. 50. 37. 27. 10. 15. 39. 27.  6. 33.]\n",
            " [13. 31. 32. 27. 16.  1. 34. 13.  0. 22.]\n",
            " [14. 15. 42.  7. 38.  5. 27. 50. 14. 20.]\n",
            " [42.  8. 21. 48. 26. 28. 16. 22. 11. 28.]\n",
            " [14. 30. 40. 38. 40. 33. 26. 19. 49. 48.]\n",
            " [ 7. 36. 47. 36.  0. 11. 13. 28. 48. 47.]\n",
            " [25. 48. 41.  1. 40. 34. 44. 50. 29. 28.]]\n"
          ]
        }
      ]
    },
    {
      "cell_type": "markdown",
      "source": [
        "###№6 Частота\n",
        "Дан одномерный массив.\n",
        "  ```\n",
        "  arr = np.array([ 9,  2,  8,  4,  6,  9,  1,  1,  3,  7, 10,  3,  7,  8,  4,  6,  7,  5, 10,  5,  2,  8, 10])\n",
        "  ```\n",
        "   Найти наиболее частое значение в массиве."
      ],
      "metadata": {
        "id": "kYKQtb8hTpyz"
      }
    },
    {
      "cell_type": "markdown",
      "source": [
        "###Пример решения"
      ],
      "metadata": {
        "id": "41hMJoH8TufL"
      }
    },
    {
      "cell_type": "code",
      "source": [
        "arr = np.array([ 9,  2,  8,  4,  6,  9,  1,  1,  3,  7, 10,  3,  7,  8,  4,  6,  7,  5, 10,  5,  2,  8, 10])\n",
        "\n",
        "unique_elements, counts = np.unique(arr, return_counts=True)\n",
        "\n",
        "# Находим индекс элемента с наибольшим количеством повторений\n",
        "most_common_index = np.argmax(counts)\n",
        "\n",
        "# Наиболее частое значение\n",
        "most_common_value = unique_elements[most_common_index]\n",
        "\n",
        "print(most_common_value)"
      ],
      "metadata": {
        "id": "VufYpo0zTufM",
        "colab": {
          "base_uri": "https://localhost:8080/"
        },
        "outputId": "5bc7c122-5290-465f-cbf6-750bba0e5529"
      },
      "execution_count": 106,
      "outputs": [
        {
          "output_type": "stream",
          "name": "stdout",
          "text": [
            "7\n"
          ]
        }
      ]
    },
    {
      "cell_type": "markdown",
      "source": [
        "###№7 Средний рост учеников\n",
        "В классе учатся 20 учеников. Мы имеемм данные о росте каждого из них.\n",
        "```\n",
        "st_len = np.array([152, 156, 160, 162, 165, 168, 170, 181, 180, 176, 178, 180, 182, 184, 186, 188, 190, 192, 194, 196])\n",
        "\n",
        "\n",
        "```\n",
        " Необходимо вычислить средний рост в классе, а также определить, сколько учеников выше среднего роста, а сколько ниже."
      ],
      "metadata": {
        "id": "_dRrhFdZTp3r"
      }
    },
    {
      "cell_type": "markdown",
      "source": [
        "###Пример решения"
      ],
      "metadata": {
        "id": "tIsgY5MbTu0u"
      }
    },
    {
      "cell_type": "code",
      "source": [
        "st_len = np.array([152, 156, 160, 162, 165, 168, 170, 181, 180, 176, 178, 180, 182, 184, 186, 188, 190, 192, 194, 196])\n",
        "\n",
        "average_height = np.mean(st_len)\n",
        "\n",
        "above_average = np.sum(st_len > average_height)\n",
        "below_average = np.sum(st_len < average_height)\n",
        "\n",
        "print(average_height)\n",
        "print(above_average)\n",
        "print(below_average)\n"
      ],
      "metadata": {
        "id": "uPgmZIM0Tu0v",
        "colab": {
          "base_uri": "https://localhost:8080/"
        },
        "outputId": "2508322d-68a9-4f94-b28a-51813cd31eed"
      },
      "execution_count": 109,
      "outputs": [
        {
          "output_type": "stream",
          "name": "stdout",
          "text": [
            "177.0\n",
            "12\n",
            "8\n"
          ]
        }
      ]
    },
    {
      "cell_type": "markdown",
      "source": [
        "###№8 Минимальный среди максимальных\n",
        "Дан массив ```10x10 ```\n",
        "\n",
        "```\n",
        "matrix = np.array([\n",
        "    [ 65,  53,  89,  58,  93,  94,  63,  64,  41,  43],\n",
        "    [ 39,  68,  97,  89,  91,  82,  90,  27,  97,  34],\n",
        "    [ 97,  94,  50,  78,  58,  26,  15,  36,  20,  38],\n",
        "    [ 95,  76,  35,  66,  77,  64,  68,  47,  74,  40],\n",
        "    [ 89,  63,  92,  21,  89,  88,  89,  63,  18,  13],\n",
        "    [  4,  46,  94,  17,  81,  75,  22,  71,  63,  29],\n",
        "    [ 90,  48,  19,  47,  26,  41,  68,  53,  34,  69],\n",
        "    [ 25,  50,  49,  25,  59,  77,  48,  19,  24,  17],\n",
        "    [ 47,  73,  90,  11,  52,  67,  36,  99,  21,  29],\n",
        "    [ 58,  34,  93,  89,  63,  79,  40,  94,  42,  55]\n",
        "])\n",
        "```\n",
        "Найдите минимальное значение максимальных значений столбцов, а также среднее значение минимальных значений строк."
      ],
      "metadata": {
        "id": "kFULqyXgTp-S"
      }
    },
    {
      "cell_type": "markdown",
      "source": [
        "###Пример решения"
      ],
      "metadata": {
        "id": "9ps3hlEwTvLy"
      }
    },
    {
      "cell_type": "code",
      "source": [
        "import numpy as np\n",
        "\n",
        "matrix = np.array([\n",
        "    [ 65,  53,  89,  58,  93,  94,  63,  64,  41,  43],\n",
        "    [ 39,  68,  97,  89,  91,  82,  90,  27,  97,  34],\n",
        "    [ 97,  94,  50,  78,  58,  26,  15,  36,  20,  38],\n",
        "    [ 95,  76,  35,  66,  77,  64,  68,  47,  74,  40],\n",
        "    [ 89,  63,  92,  21,  89,  88,  89,  63,  18,  13],\n",
        "    [  4,  46,  94,  17,  81,  75,  22,  71,  63,  29],\n",
        "    [ 90,  48,  19,  47,  26,  41,  68,  53,  34,  69],\n",
        "    [ 25,  50,  49,  25,  59,  77,  48,  19,  24,  17],\n",
        "    [ 47,  73,  90,  11,  52,  67,  36,  99,  21,  29],\n",
        "    [ 58,  34,  93,  89,  63,  79,  40,  94,  42,  55]\n",
        "])\n",
        "\n",
        "# Найдем максимальные значения для каждого столбца и затем найдем минимальное из них\n",
        "max_values = matrix.max(axis=0)\n",
        "min_of_max = max_values.min()\n",
        "\n",
        "# Найдем минимальные значения для каждой строки и затем найдем среднее из них\n",
        "min_values = matrix.min(axis=1)\n",
        "average_of_min = min_values.mean()\n",
        "\n",
        "print(min_of_max)\n",
        "print(average_of_min)\n"
      ],
      "metadata": {
        "id": "zqf58hleTvLz",
        "colab": {
          "base_uri": "https://localhost:8080/"
        },
        "outputId": "e5c2d12a-ae0f-41ef-bc2a-a3810d8aaa53"
      },
      "execution_count": 112,
      "outputs": [
        {
          "output_type": "stream",
          "name": "stdout",
          "text": [
            "69\n",
            "21.6\n"
          ]
        }
      ]
    },
    {
      "cell_type": "markdown",
      "source": [
        "###№9 N первых\n",
        "Дана матрица.\n",
        "```\n",
        "matrix = np.array([\n",
        "    [ 65,  53,  89,  58,  93,  94,  63,  64,  41,  43],\n",
        "    [ 39,  68,  97,  89,  91,  82,  90,  27,  97,  34],\n",
        "    [ 97,  94,  50,  78,  58,  26,  15,  36,  20,  38],\n",
        "    [ 95,  76,  35,  66,  77,  64,  68,  47,  74,  40],\n",
        "    [ 89,  63,  92,  21,  89,  88,  89,  63,  18,  13],\n",
        "    [  4,  46,  94,  17,  81,  75,  22,  71,  63,  29],\n",
        "    [ 90,  48,  19,  47,  26,  41,  68,  53,  34,  69],\n",
        "    [ 25,  50,  49,  25,  59,  77,  48,  19,  24,  17],\n",
        "    [ 47,  73,  90,  11,  52,  67,  36,  99,  21,  29],\n",
        "    [ 58,  34,  93,  89,  63,  79,  40,  94,  42,  55]\n",
        "])\n",
        "```\n",
        "Найти n наибольших значений в массиве. n вводится с клавиатуры.\n",
        "Выведите значения в порядке возрастания."
      ],
      "metadata": {
        "id": "Lsq8-0Lltqpc"
      }
    },
    {
      "cell_type": "markdown",
      "source": [
        "###Пример решения"
      ],
      "metadata": {
        "id": "RETk2PnPtr-V"
      }
    },
    {
      "cell_type": "code",
      "source": [
        "n = int(input())\n",
        "\n",
        "matrix = np.array([\n",
        "    [ 65,  53,  89,  58,  93,  94,  63,  64,  41,  43],\n",
        "    [ 39,  68,  97,  89,  91,  82,  90,  27,  97,  34],\n",
        "    [ 97,  94,  50,  78,  58,  26,  15,  36,  20,  38],\n",
        "    [ 95,  76,  35,  66,  77,  64,  68,  47,  74,  40],\n",
        "    [ 89,  63,  92,  21,  89,  88,  89,  63,  18,  13],\n",
        "    [  4,  46,  94,  17,  81,  75,  22,  71,  63,  29],\n",
        "    [ 90,  48,  19,  47,  26,  41,  68,  53,  34,  69],\n",
        "    [ 25,  50,  49,  25,  59,  77,  48,  19,  24,  17],\n",
        "    [ 47,  73,  90,  11,  52,  67,  36,  99,  21,  29],\n",
        "    [ 58,  34,  93,  89,  63,  79,  40,  94,  42,  55]\n",
        "])\n",
        "\n",
        "flat_matrix = matrix.flatten()\n",
        "\n",
        "# Сортируем плоский массив в порядке возрастания\n",
        "sorted_flat = np.sort(flat_matrix)\n",
        "\n",
        "# Получаем n наибольших значений\n",
        "top_n = sorted_flat[-n:]\n",
        "print(top_n)"
      ],
      "metadata": {
        "colab": {
          "base_uri": "https://localhost:8080/"
        },
        "id": "icVxhLC4tr-W",
        "outputId": "bb8efb3b-6e65-4f7a-bb96-465879898cfe"
      },
      "execution_count": 119,
      "outputs": [
        {
          "output_type": "stream",
          "name": "stdout",
          "text": [
            "5\n",
            "[95 97 97 97 99]\n"
          ]
        }
      ]
    }
  ]
}