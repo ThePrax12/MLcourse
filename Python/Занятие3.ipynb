{
  "nbformat": 4,
  "nbformat_minor": 0,
  "metadata": {
    "colab": {
      "provenance": [],
      "collapsed_sections": [
        "d6903ppla9jr",
        "YLJW3CnXnlqm",
        "hqbuuDgBnmEY",
        "R5x8BLn8nmY6"
      ],
      "authorship_tag": "ABX9TyOhWZ0nc+SqL96q5h0sETuv",
      "include_colab_link": true
    },
    "kernelspec": {
      "name": "python3",
      "display_name": "Python 3"
    },
    "language_info": {
      "name": "python"
    }
  },
  "cells": [
    {
      "cell_type": "markdown",
      "metadata": {
        "id": "view-in-github",
        "colab_type": "text"
      },
      "source": [
        "<a href=\"https://colab.research.google.com/github/ThePrax12/MLcourse/blob/main/%D0%97%D0%B0%D0%BD%D1%8F%D1%82%D0%B8%D0%B53.ipynb\" target=\"_parent\"><img src=\"https://colab.research.google.com/assets/colab-badge.svg\" alt=\"Open In Colab\"/></a>"
      ]
    },
    {
      "cell_type": "markdown",
      "source": [
        "#Функции в Python"
      ],
      "metadata": {
        "id": "P-PcoAw8ED-a"
      }
    },
    {
      "cell_type": "markdown",
      "source": [
        "**Функция** - это блок организованного, многократно используемоего кода, который используется для выполнения конкретного задания.  Функции в Python - объект, который принимает аргументы, производит обработку данных, возвращает значение. Функция может принимать произвольное количество аргументов.\n",
        "\n",
        "Они все обладают общим свойством: они могут принимать параметры (ноль, один или несколько), и они могут возвращать значение (хотя могут и не возвращать)."
      ],
      "metadata": {
        "id": "6IsuejxGEHtG"
      }
    },
    {
      "cell_type": "markdown",
      "source": [
        "##Встроенные функции"
      ],
      "metadata": {
        "id": "ZFaRixHyEULl"
      }
    },
    {
      "cell_type": "markdown",
      "source": [
        "С некоторыми встроенными функциями мы уже знакомы"
      ],
      "metadata": {
        "id": "_LeUEZe9F3gE"
      }
    },
    {
      "cell_type": "code",
      "execution_count": null,
      "metadata": {
        "colab": {
          "base_uri": "https://localhost:8080/"
        },
        "id": "opCwvDYYB42h",
        "outputId": "69788ee8-f1d3-4dc4-ed5b-4e74270f76ad"
      },
      "outputs": [
        {
          "output_type": "stream",
          "name": "stdout",
          "text": [
            "Введите строку123\n",
            "3\n",
            "None\n"
          ]
        }
      ],
      "source": [
        "my_str = input(\"Введите строку\")\n",
        "\n",
        "x = print(len(my_str))\n",
        "print(x)"
      ]
    },
    {
      "cell_type": "markdown",
      "source": [
        "Функции для преобразования типов"
      ],
      "metadata": {
        "id": "hM5wqlycHauD"
      }
    },
    {
      "cell_type": "code",
      "source": [
        "print(int('123'))\n",
        "print(float('123'))\n",
        "print(str(123))\n",
        "print(list('123'))\n",
        "print(tuple('123'))\n",
        "print(set('123'))\n",
        "print(dict([['one',1],['two',2],['three',3]]))"
      ],
      "metadata": {
        "colab": {
          "base_uri": "https://localhost:8080/"
        },
        "id": "UCJuQ7HyGumz",
        "outputId": "1b168f98-e89a-4664-af75-131be14d6eee"
      },
      "execution_count": null,
      "outputs": [
        {
          "output_type": "stream",
          "name": "stdout",
          "text": [
            "123\n",
            "123.0\n",
            "123\n",
            "['1', '2', '3']\n",
            "('1', '2', '3')\n",
            "{'1', '2', '3'}\n",
            "{'one': 1, 'two': 2, 'three': 3}\n"
          ]
        }
      ]
    },
    {
      "cell_type": "code",
      "source": [
        "print(bool(5))\n",
        "print(bool(-9999))\n",
        "print(bool(0))"
      ],
      "metadata": {
        "colab": {
          "base_uri": "https://localhost:8080/"
        },
        "id": "qCg6EAc6H6IG",
        "outputId": "873de8a1-39e6-4417-9bc9-3fa78655b105"
      },
      "execution_count": null,
      "outputs": [
        {
          "output_type": "stream",
          "name": "stdout",
          "text": [
            "True\n",
            "True\n",
            "False\n"
          ]
        }
      ]
    },
    {
      "cell_type": "markdown",
      "source": [
        "**max()** - функция используется для нахождения «максимального» значения в последовательности, итерируемом объекте и так далее. В параметрах можно менять способ вычисления максимального значения.(функция, которая применяется к каждому элементу последовательности перед сравнением)\n",
        "\n",
        "**min()** - функция используется для нахождения «минимального» значения в последовательности, итерируемом объекте и так далее. В параметрах можно менять способ вычисления минимального значения.(функция, которая применяется к каждому элементу последовательности перед сравнением)"
      ],
      "metadata": {
        "id": "hKjdTWYPIMIg"
      }
    },
    {
      "cell_type": "code",
      "source": [
        "numbers = [5, 3, 9, 1, 7]\n",
        "print(min(numbers))\n",
        "\n",
        "words = ['apple', 'banana', 'kiwi']\n",
        "print(max(words))\n",
        "print(max(words, key=len))"
      ],
      "metadata": {
        "colab": {
          "base_uri": "https://localhost:8080/"
        },
        "id": "IF9Ez-uuILd4",
        "outputId": "7dab1614-eb0b-4a2a-808a-6eb1afc3b846"
      },
      "execution_count": null,
      "outputs": [
        {
          "output_type": "stream",
          "name": "stdout",
          "text": [
            "1\n",
            "kiwi\n",
            "banana\n"
          ]
        }
      ]
    },
    {
      "cell_type": "markdown",
      "source": [
        "abs(): Эта функция возвращает абсолютное значение числа."
      ],
      "metadata": {
        "id": "Yyy33iTCJFe7"
      }
    },
    {
      "cell_type": "code",
      "source": [
        "print(abs(-5))"
      ],
      "metadata": {
        "colab": {
          "base_uri": "https://localhost:8080/"
        },
        "id": "wpcwRBkGJLbw",
        "outputId": "8a550ecf-f1c3-469f-9dc5-d24a939d8139"
      },
      "execution_count": null,
      "outputs": [
        {
          "output_type": "stream",
          "name": "stdout",
          "text": [
            "5\n"
          ]
        }
      ]
    },
    {
      "cell_type": "markdown",
      "source": [
        "**round()** - Эта функция используется для округления числа до указанного количества десятичных знаков."
      ],
      "metadata": {
        "id": "0qfpl1HgPVO6"
      }
    },
    {
      "cell_type": "code",
      "source": [
        "x = 3.14159\n",
        "print(round(x))\n",
        "print(round(x, 2))"
      ],
      "metadata": {
        "colab": {
          "base_uri": "https://localhost:8080/"
        },
        "id": "uVBPm3joPXPu",
        "outputId": "f3394d4a-6ff9-46bd-f0d7-2e16b4261289"
      },
      "execution_count": null,
      "outputs": [
        {
          "output_type": "stream",
          "name": "stdout",
          "text": [
            "3\n",
            "3.14\n"
          ]
        }
      ]
    },
    {
      "cell_type": "markdown",
      "source": [
        "**reversed()** - функция предоставляет простой и быстрый способ развернуть порядок элементов в последовательности. В качестве параметра она принимает валидную последовательность, например список, а возвращает итерируемый объект."
      ],
      "metadata": {
        "id": "aHyHNahNJJXN"
      }
    },
    {
      "cell_type": "code",
      "source": [
        "x = [3,4,5]\n",
        "b = reversed(x)\n",
        "print(b)\n",
        "print(tuple(b))\n",
        "print(list(b)) # итератор уже прошёлся по списку обратно, поэтому list(b) = []"
      ],
      "metadata": {
        "colab": {
          "base_uri": "https://localhost:8080/"
        },
        "id": "P7DfFQB_JZEY",
        "outputId": "e8bc7dfb-aa6c-431a-b785-3dddcff6809c"
      },
      "execution_count": null,
      "outputs": [
        {
          "output_type": "stream",
          "name": "stdout",
          "text": [
            "<list_reverseiterator object at 0x7c5acdd4f8e0>\n",
            "(5, 4, 3)\n",
            "[]\n"
          ]
        }
      ]
    },
    {
      "cell_type": "markdown",
      "source": [
        "**sorted()** -  в Python используется для сортировки элементов в последовательности и возвращает новый отсортированный список.\n",
        "```\n",
        "sorted(iterable, *, key=None, reverse=False)\n",
        "\n",
        "```"
      ],
      "metadata": {
        "id": "rGioXsKSJV8j"
      }
    },
    {
      "cell_type": "code",
      "source": [
        "numbers = (5, 2, 7, 1, 9)\n",
        "sorted_numbers = sorted(numbers)\n",
        "print(sorted_numbers)\n",
        "\n",
        "numbers_reverse = [5, 2, 7, 1, 9]\n",
        "sorted_numbers_reverse = sorted(numbers_reverse, reverse=True)\n",
        "print(sorted_numbers_reverse)\n"
      ],
      "metadata": {
        "colab": {
          "base_uri": "https://localhost:8080/"
        },
        "id": "YXNxVL6fLM3G",
        "outputId": "3dd5cec1-e495-4038-943d-6ccc28858755"
      },
      "execution_count": null,
      "outputs": [
        {
          "output_type": "stream",
          "name": "stdout",
          "text": [
            "[1, 2, 5, 7, 9]\n",
            "[9, 7, 5, 2, 1]\n"
          ]
        }
      ]
    },
    {
      "cell_type": "code",
      "source": [
        "words = ('apple', 'Banana', 'cherry', 'date')\n",
        "sorted_words = sorted(words, key=len)\n",
        "print(sorted_words)"
      ],
      "metadata": {
        "colab": {
          "base_uri": "https://localhost:8080/"
        },
        "id": "oAuHjirfLpLs",
        "outputId": "539f6d33-2421-4ff0-e6a2-d7f1a4c62fc4"
      },
      "execution_count": null,
      "outputs": [
        {
          "output_type": "stream",
          "name": "stdout",
          "text": [
            "['date', 'apple', 'Banana', 'cherry']\n"
          ]
        }
      ]
    },
    {
      "cell_type": "markdown",
      "source": [
        "**map()** - в Python применяет заданную функцию к каждому элементу итерируемого объекта (например, списка) и возвращает итератор, содержащий результаты применения этой функции к каждому элементу. Она позволяет применить одну и ту же функцию к нескольким элементам одновременно, что делает код более компактным и читаемым.\n",
        "```\n",
        "map(function, iterable)\n",
        "\n",
        "```"
      ],
      "metadata": {
        "id": "e1BkUCYwL0dT"
      }
    },
    {
      "cell_type": "code",
      "source": [
        "# Преобразование строк в верхний регистр\n",
        "words = ['hello', 'world', 'python']\n",
        "uppercased = map(str.upper, words)\n",
        "print(list(uppercased))\n",
        "\n",
        "#Преобразование списка чисел в строки\n",
        "numbers = (1, 2, 3, 4, 5)\n",
        "str_numbers = map(str, numbers)\n",
        "print(list(str_numbers))"
      ],
      "metadata": {
        "colab": {
          "base_uri": "https://localhost:8080/"
        },
        "id": "DNTsGoLmLrfN",
        "outputId": "c925ecc8-df47-4768-c872-89626e391da0"
      },
      "execution_count": null,
      "outputs": [
        {
          "output_type": "stream",
          "name": "stdout",
          "text": [
            "['HELLO', 'WORLD', 'PYTHON']\n",
            "['1', '2', '3', '4', '5']\n"
          ]
        }
      ]
    },
    {
      "cell_type": "markdown",
      "source": [
        "Как компактно считать список:"
      ],
      "metadata": {
        "id": "8jUc-SqoNBO0"
      }
    },
    {
      "cell_type": "code",
      "source": [
        "numbers = [int(c) for c in input().split()]\n",
        "print(numbers)"
      ],
      "metadata": {
        "colab": {
          "base_uri": "https://localhost:8080/"
        },
        "id": "mySC7lswNW4R",
        "outputId": "53db7db6-0b04-464f-fa35-58a951885800"
      },
      "execution_count": null,
      "outputs": [
        {
          "output_type": "stream",
          "name": "stdout",
          "text": [
            "1 2 3 4 5\n",
            "[1, 2, 3, 4, 5]\n"
          ]
        }
      ]
    },
    {
      "cell_type": "code",
      "source": [
        "numbers = input().split()\n",
        "numbers = list(map(int, numbers))\n",
        "print(numbers)"
      ],
      "metadata": {
        "colab": {
          "base_uri": "https://localhost:8080/"
        },
        "id": "ezqDQ-c9NAyt",
        "outputId": "9dd4cf17-3c1c-4d64-d54f-d79313515958"
      },
      "execution_count": null,
      "outputs": [
        {
          "output_type": "stream",
          "name": "stdout",
          "text": [
            "1 2 3 4 5\n",
            "[1, 2, 3, 4, 5]\n"
          ]
        }
      ]
    },
    {
      "cell_type": "markdown",
      "source": [
        "**enumerate()** - В качестве параметра эта функция принимает последовательность. После этого она перебирает каждый элемент и возвращает его вместе со счетчиком в виде перечисляемого объекта. Основная особенность таких объектов — возможность размещать их в цикле для перебора.\n"
      ],
      "metadata": {
        "id": "UX9EDSnHLMJb"
      }
    },
    {
      "cell_type": "code",
      "source": [
        "x = \"Строка\"\n",
        "print(list(enumerate(x)))"
      ],
      "metadata": {
        "colab": {
          "base_uri": "https://localhost:8080/"
        },
        "id": "fsLfb3R6NzNJ",
        "outputId": "a1b118d4-b78c-4862-c0b2-e740a955ca94"
      },
      "execution_count": null,
      "outputs": [
        {
          "output_type": "stream",
          "name": "stdout",
          "text": [
            "[(0, 'С'), (1, 'т'), (2, 'р'), (3, 'о'), (4, 'к'), (5, 'а')]\n"
          ]
        }
      ]
    },
    {
      "cell_type": "code",
      "source": [
        "my_list = ['a', 'b', 'c', 'd', 'e']\n",
        "\n",
        "for index, value in enumerate(my_list):\n",
        "    print(f\"Индекс: {index}, Значение: {value}\")\n"
      ],
      "metadata": {
        "colab": {
          "base_uri": "https://localhost:8080/"
        },
        "id": "NFGRDCJiN-fq",
        "outputId": "73f4c1b7-8f62-48f3-9109-7253452d3cf9"
      },
      "execution_count": null,
      "outputs": [
        {
          "output_type": "stream",
          "name": "stdout",
          "text": [
            "Индекс: 0, Значение: a\n",
            "Индекс: 1, Значение: b\n",
            "Индекс: 2, Значение: c\n",
            "Индекс: 3, Значение: d\n",
            "Индекс: 4, Значение: e\n"
          ]
        }
      ]
    },
    {
      "cell_type": "markdown",
      "source": [
        "**filter()** используется для фильтрации элементов из последовательности (например, списков, кортежей, множеств) на основе заданного условия. Она возвращает новую последовательность, содержащую только те элементы исходной последовательности, для которых функция-условие вернула True."
      ],
      "metadata": {
        "id": "7_RoTZSjW_hF"
      }
    },
    {
      "cell_type": "code",
      "source": [
        "numbers = [1, 2, 3, 4, 5, 6, 7, 8, 9, 10]\n",
        "\n",
        "# Функция, проверяющая, является ли число четным\n",
        "def is_even(n):\n",
        "    return n % 2 == 0\n",
        "\n",
        "# Фильтрация только четных чисел из списка\n",
        "even_numbers = list(filter(is_even, numbers))\n",
        "print(even_numbers)"
      ],
      "metadata": {
        "colab": {
          "base_uri": "https://localhost:8080/"
        },
        "id": "2t9apRWXXFUr",
        "outputId": "6894cae3-cc76-453a-b506-4cd4aa0abefd"
      },
      "execution_count": null,
      "outputs": [
        {
          "output_type": "stream",
          "name": "stdout",
          "text": [
            "[2, 4, 6, 8, 10]\n"
          ]
        }
      ]
    },
    {
      "cell_type": "markdown",
      "source": [
        "##Собственные функции в Python"
      ],
      "metadata": {
        "id": "1_QERYdjQob8"
      }
    },
    {
      "cell_type": "markdown",
      "source": [
        "Также в Python можно определить свою функцию.\n",
        "Функция определяется с помощью инструкции **def**.\n",
        "\n",
        "Существуют некоторые правила для создания функций в Python.\n",
        "\n",
        "- Блок функции начинается с ключевого слова def, после которого следуют название функции и круглые скобки ().\n",
        "- Любые аргументы, которые принимает функция должны находиться внутри этих скобок.\n",
        "- После скобок идет двоеточие ( : ) и с новой строки с отступом начинается тело функции.\n",
        "\n",
        "Выражение **return** прекращает выполнение функции и возвращает указанное после выражения значение. Выражение return без аргументов это то же самое, что и выражение return None.\n",
        "```\n",
        "def <Название функции>(параметр1, параметр2, ...):\n",
        "    --код--\n",
        "    return <полученный результат>\n",
        "```"
      ],
      "metadata": {
        "id": "N0o5cnOaQ5Dh"
      }
    },
    {
      "cell_type": "code",
      "source": [
        "# x, y - это параметры функции\n",
        "def summa(x, y):\n",
        "    s = x + y\n",
        "    return s\n",
        "\n",
        "a = 5\n",
        "b = 3\n",
        "print(summa(a,b)) #a, b - аргументы функции"
      ],
      "metadata": {
        "colab": {
          "base_uri": "https://localhost:8080/"
        },
        "id": "EhYbnjtoRKL9",
        "outputId": "898b3edb-4111-4958-b4aa-223f5393184d"
      },
      "execution_count": null,
      "outputs": [
        {
          "output_type": "stream",
          "name": "stdout",
          "text": [
            "8\n"
          ]
        }
      ]
    },
    {
      "cell_type": "markdown",
      "source": [
        "- аргумент (фактический параметр): фактическая переменная передается в функцию;\n",
        "- параметр (формальный параметр): принимающая переменная, которая используется в функции."
      ],
      "metadata": {
        "id": "iIzpsbjQRSzD"
      }
    },
    {
      "cell_type": "code",
      "source": [
        "def print_summa(x, y):\n",
        "    s = x + y\n",
        "    print(s)\n",
        "\n",
        "x = 5\n",
        "y = 3\n",
        "test = print_summa(x,y)\n",
        "print(test)"
      ],
      "metadata": {
        "colab": {
          "base_uri": "https://localhost:8080/"
        },
        "id": "ARo2KVTCR63H",
        "outputId": "e13c50b3-8ca4-434a-b3d0-5687fc860ff9"
      },
      "execution_count": null,
      "outputs": [
        {
          "output_type": "stream",
          "name": "stdout",
          "text": [
            "8\n",
            "None\n"
          ]
        }
      ]
    },
    {
      "cell_type": "code",
      "source": [
        "print_summa(1,3)"
      ],
      "metadata": {
        "colab": {
          "base_uri": "https://localhost:8080/"
        },
        "id": "xTySGzvkSYYH",
        "outputId": "19f77ea1-6535-48d4-ef11-7cf563337b45"
      },
      "execution_count": null,
      "outputs": [
        {
          "output_type": "stream",
          "name": "stdout",
          "text": [
            "4\n"
          ]
        }
      ]
    },
    {
      "cell_type": "markdown",
      "source": [
        "в функцию можно передавать не только числа"
      ],
      "metadata": {
        "id": "JeaHYqjHTIdi"
      }
    },
    {
      "cell_type": "markdown",
      "source": [
        "Среднее значение"
      ],
      "metadata": {
        "id": "m6MzdqngTz_q"
      }
    },
    {
      "cell_type": "code",
      "source": [
        "def calculate_average(numbers):\n",
        "    total = sum(numbers)\n",
        "    return total / len(numbers)\n",
        "\n",
        "# Пример вызова функции\n",
        "my_numbers = [1, 2, 3, 4, 5]\n",
        "average = calculate_average(my_numbers)\n",
        "print(\"Среднее значение:\", average)"
      ],
      "metadata": {
        "colab": {
          "base_uri": "https://localhost:8080/"
        },
        "id": "-LHPmWYxTPPL",
        "outputId": "320b1c0a-3126-4dfb-ad60-875fe2383bb6"
      },
      "execution_count": null,
      "outputs": [
        {
          "output_type": "stream",
          "name": "stdout",
          "text": [
            "Среднее значение: 3.0\n"
          ]
        }
      ]
    },
    {
      "cell_type": "markdown",
      "source": [
        " Функция для подсчета количества повторяющихся элементов в списке"
      ],
      "metadata": {
        "id": "Uf6ct_lKT6j0"
      }
    },
    {
      "cell_type": "code",
      "source": [
        "def count_occurrences(lst):\n",
        "    counts = {}\n",
        "    for item in lst:\n",
        "        if item in counts:\n",
        "            counts[item] += 1\n",
        "        else:\n",
        "            counts[item] = 1\n",
        "    return counts\n",
        "\n",
        "# Пример вызова функции\n",
        "my_list = [1, 2, 3, 2, 3, 4, 5, 2]\n",
        "occurrences = count_occurrences(my_list)\n",
        "print(\"Количество повторяющихся элементов:\", occurrences)"
      ],
      "metadata": {
        "colab": {
          "base_uri": "https://localhost:8080/"
        },
        "id": "6okJguloTxGB",
        "outputId": "60c9245f-24a8-4182-9e99-739baf2ae7d1"
      },
      "execution_count": null,
      "outputs": [
        {
          "output_type": "stream",
          "name": "stdout",
          "text": [
            "Количество повторяющихся элементов: {1: 1, 2: 3, 3: 2, 4: 1, 5: 1}\n"
          ]
        }
      ]
    },
    {
      "cell_type": "markdown",
      "source": [
        "Функция может вызывать себя или другие функции. Самовызов - рекурсия."
      ],
      "metadata": {
        "id": "bHiWTLiEUC60"
      }
    },
    {
      "cell_type": "markdown",
      "source": [
        "Факториал числа: $n! = n \\cdot (n-1) \\cdot (n-2) …  \\cdot 2  \\cdot 1$"
      ],
      "metadata": {
        "id": "Cg7FO1u5UP0P"
      }
    },
    {
      "cell_type": "code",
      "source": [
        "def factorial(n):\n",
        "    if n == 0:\n",
        "        return 1\n",
        "    else:\n",
        "        return n * factorial(n - 1)\n",
        "\n",
        "print(factorial(5))"
      ],
      "metadata": {
        "colab": {
          "base_uri": "https://localhost:8080/"
        },
        "id": "9di-k1KyUMW8",
        "outputId": "f77bc647-dcec-4f6b-febf-c753ca6c6ca9"
      },
      "execution_count": null,
      "outputs": [
        {
          "output_type": "stream",
          "name": "stdout",
          "text": [
            "120\n"
          ]
        }
      ]
    },
    {
      "cell_type": "markdown",
      "source": [
        "### Лямбда функции"
      ],
      "metadata": {
        "id": "q7XXhgrqVyTC"
      }
    },
    {
      "cell_type": "markdown",
      "source": [
        "Лямбда-функции в Python представляют собой анонимные функции, которые могут содержать только одно выражение. Они являются компактным способом определения функции, которая используется один раз или в качестве аргумента для другой функции. Лямбда-функции обычно используются в ситуациях, когда необходимо создать небольшую функцию «на лету» без явного определения имени функции.\n",
        "```\n",
        "lambda <аргументы>:<выражение>\n",
        "\n",
        "```"
      ],
      "metadata": {
        "id": "zyvHAfdPV13_"
      }
    },
    {
      "cell_type": "markdown",
      "source": [
        "Сумма чисел"
      ],
      "metadata": {
        "id": "nz2mGo1oWpFJ"
      }
    },
    {
      "cell_type": "code",
      "source": [
        "add = lambda x, y: x + y\n",
        "print(add(3, 5))"
      ],
      "metadata": {
        "colab": {
          "base_uri": "https://localhost:8080/"
        },
        "id": "p2-Er-KMVtZ2",
        "outputId": "32ab27a9-2070-4f5f-f790-19be993a590a"
      },
      "execution_count": null,
      "outputs": [
        {
          "output_type": "stream",
          "name": "stdout",
          "text": [
            "8\n"
          ]
        }
      ]
    },
    {
      "cell_type": "markdown",
      "source": [
        "Возведение в квадрат"
      ],
      "metadata": {
        "id": "GC_QrQXPWvAA"
      }
    },
    {
      "cell_type": "code",
      "source": [
        "square = lambda x: x**2\n",
        "print(square(4))"
      ],
      "metadata": {
        "colab": {
          "base_uri": "https://localhost:8080/"
        },
        "id": "Uc_2aDx4WNgg",
        "outputId": "51e8bb87-9a87-464d-ccfe-5ff8abbc8065"
      },
      "execution_count": null,
      "outputs": [
        {
          "output_type": "stream",
          "name": "stdout",
          "text": [
            "16\n"
          ]
        }
      ]
    },
    {
      "cell_type": "markdown",
      "source": [
        "Лямбда-функция как аргумент для функции map():"
      ],
      "metadata": {
        "id": "1q9X-s-nWws-"
      }
    },
    {
      "cell_type": "code",
      "source": [
        "numbers = [1, 2, 3, 4, 5]\n",
        "squared_numbers = list(map(lambda x: x**2, numbers))\n",
        "print(squared_numbers)"
      ],
      "metadata": {
        "colab": {
          "base_uri": "https://localhost:8080/"
        },
        "id": "BIimlGOqWY5v",
        "outputId": "733e36d3-c9c1-4819-c127-4b7fb87d4ec4"
      },
      "execution_count": null,
      "outputs": [
        {
          "output_type": "stream",
          "name": "stdout",
          "text": [
            "[1, 4, 9, 16, 25]\n"
          ]
        }
      ]
    },
    {
      "cell_type": "markdown",
      "source": [
        "Лямбда-функция внутри условия filter() для фильтрации списка:"
      ],
      "metadata": {
        "id": "EJH6r8r_W22N"
      }
    },
    {
      "cell_type": "code",
      "source": [
        "numbers = [1, 2, 3, 4, 5, 6, 7, 8, 9, 10]\n",
        "even_numbers = list(filter(lambda x: x % 2 == 0, numbers))\n",
        "print(even_numbers)"
      ],
      "metadata": {
        "colab": {
          "base_uri": "https://localhost:8080/"
        },
        "id": "X0XOUIxvW2Ne",
        "outputId": "8079ef97-b8da-4a93-c243-bb9958e9db36"
      },
      "execution_count": null,
      "outputs": [
        {
          "output_type": "stream",
          "name": "stdout",
          "text": [
            "[2, 4, 6, 8, 10]\n"
          ]
        }
      ]
    },
    {
      "cell_type": "markdown",
      "source": [
        "###Область видимости"
      ],
      "metadata": {
        "id": "KOFUSGmvX02O"
      }
    },
    {
      "cell_type": "markdown",
      "source": [
        "Некоторые переменные программы могут быть недоступны некоторым областям данной программы. Все зависит от того, где вы объявили эти переменные.\n",
        "\n",
        "В Python две базовых области видимости переменных:\n",
        "- Глобальные переменные\n",
        "- Локальные переменные\n",
        "\n",
        "Переменные объявленные внутри тела функции имеют локальную область видимости, те что объявлены вне какой-либо функции имеют глобальную область видимости.\n",
        "\n",
        "Это означает, что доступ к локальным переменным имеют только те функции, в которых они были объявлены, в то время как доступ к глобальным переменным можно получить по всей программе в любой функции."
      ],
      "metadata": {
        "id": "S1r5PSFQYljN"
      }
    },
    {
      "cell_type": "code",
      "source": [
        "def my_function():\n",
        "    x_1 = 10  # Локальная переменная\n",
        "    print(\"Значение x_1 внутри функции:\", x_1)\n",
        "\n",
        "x_1 = 'test'  # глобольная переменная\n",
        "my_function()\n",
        "\n",
        "print(\"Значение x_1 вне функции:\", x_1)"
      ],
      "metadata": {
        "colab": {
          "base_uri": "https://localhost:8080/"
        },
        "id": "5j6aGpreYxmV",
        "outputId": "5d3271e7-cb59-4e7f-fecd-f483a16b4565"
      },
      "execution_count": null,
      "outputs": [
        {
          "output_type": "stream",
          "name": "stdout",
          "text": [
            "Значение x_1 внутри функции: 10\n",
            "Значение x_1 вне функции: test\n"
          ]
        }
      ]
    },
    {
      "cell_type": "code",
      "source": [
        "y = 20  # Глобальная переменная\n",
        "\n",
        "def my_function():\n",
        "    print(\"Значение y внутри функции:\", y)\n",
        "\n",
        "my_function()\n",
        "print(\"Значение y вне функции:\", y)\n"
      ],
      "metadata": {
        "colab": {
          "base_uri": "https://localhost:8080/"
        },
        "id": "svftZulkZLt8",
        "outputId": "1a342f2a-2506-41d6-8cf9-1f1e7e5d29f1"
      },
      "execution_count": null,
      "outputs": [
        {
          "output_type": "stream",
          "name": "stdout",
          "text": [
            "Значение y внутри функции: 20\n",
            "Значение y вне функции: 20\n"
          ]
        }
      ]
    },
    {
      "cell_type": "markdown",
      "source": [
        "Важно помнить, что для того чтобы получить доступ к глобальной переменной, достаточно лишь указать ее имя. Однако, если перед нами стоит задача изменить глобальную переменную внутри функции - необходимо использовать ключевое слово **global**."
      ],
      "metadata": {
        "id": "sk13ygJdZnZG"
      }
    },
    {
      "cell_type": "code",
      "source": [
        "z = 30  # Глобальная переменная\n",
        "\n",
        "def my_function():\n",
        "    global z\n",
        "    z = 40  # Изменение значения глобальной переменной\n",
        "    print(\"Значение z внутри функции:\", z)\n",
        "\n",
        "my_function()\n",
        "print(\"Значение z вне функции:\", z)  # Значение z изменено внутри функции\n"
      ],
      "metadata": {
        "colab": {
          "base_uri": "https://localhost:8080/"
        },
        "id": "tBD_nJJNZuvs",
        "outputId": "74ed6a89-6fc4-4c27-c1e0-ed8da906ea73"
      },
      "execution_count": null,
      "outputs": [
        {
          "output_type": "stream",
          "name": "stdout",
          "text": [
            "Значение z внутри функции: 40\n",
            "Значение z вне функции: 30\n"
          ]
        }
      ]
    },
    {
      "cell_type": "markdown",
      "source": [
        "#Задания на функции"
      ],
      "metadata": {
        "id": "NIN4cdIrahBt"
      }
    },
    {
      "cell_type": "markdown",
      "source": [
        "##№1 Расстрояние между двумя точками\n",
        "\n",
        "Даны четыре действительных числа: x1, y1, x2, y2. Напишите функцию distance(x1, y1, x2, y2), вычисляющая расстояние между точкой (x1,y1) и (x2,y2).\n",
        "\n",
        "На вход подаётся 4 числа через пробел x1, y1, x2, y2, на выхоже получаем расстояние."
      ],
      "metadata": {
        "id": "kLtOpCIoamL5"
      }
    },
    {
      "cell_type": "markdown",
      "source": [
        "## Пример решения"
      ],
      "metadata": {
        "id": "Z-PSMokbao0D"
      }
    },
    {
      "cell_type": "code",
      "source": [
        "def distance(x1, y1, x2, y2):\n",
        "    return ((x2 - x1)**2 + (y2 - y1)**2) ** 0.5\n",
        "\n",
        "x1, y1, x2, y2 = list(map(float, input().split()))\n",
        "print(distance(x1, y1, x2, y2))"
      ],
      "metadata": {
        "colab": {
          "base_uri": "https://localhost:8080/"
        },
        "id": "XCG3FkgzaoPI",
        "outputId": "56487b95-41fe-4083-b736-3dc3ac1073e1"
      },
      "execution_count": null,
      "outputs": [
        {
          "output_type": "stream",
          "name": "stdout",
          "text": [
            "1 2 4 6\n",
            "5.0\n"
          ]
        }
      ]
    },
    {
      "cell_type": "markdown",
      "source": [
        "##№2 Список всех делителей числа\n",
        "Напишите функцию get_factors(num), принимающую в качестве аргумента натуральное число и возвращающую список всех делителей данного числа.\n",
        "На вход подаётся одно число int."
      ],
      "metadata": {
        "id": "vQU2JfMUa7O9"
      }
    },
    {
      "cell_type": "markdown",
      "source": [
        "## Пример решения"
      ],
      "metadata": {
        "id": "UYlsIvKWa9Oi"
      }
    },
    {
      "cell_type": "code",
      "source": [
        "# объявление функции\n",
        "def get_factors(num):\n",
        "    s = [i for i in range(1, num // 2 + 1) if num % i == 0] + [num]\n",
        "    return s\n",
        "\n",
        "# считываем данные\n",
        "n = int(input())\n",
        "\n",
        "# вызываем функцию\n",
        "print(get_factors(n))"
      ],
      "metadata": {
        "id": "8rSCx7FRa9Oi"
      },
      "execution_count": null,
      "outputs": []
    },
    {
      "cell_type": "markdown",
      "source": [
        "##№3 Обработка листа.\n",
        "На вход подаётся список целых чисел (через пробел), и мы хотим найти все числа, которые делятся на 3 без остатка, затем увеличить каждое такое число на 1 и вернуть список результатов.\n",
        "Напишите функцию new_list(old_list) которая возвращает новый список.\n",
        "Постарайтесь в решении использовать  map() и filter()."
      ],
      "metadata": {
        "id": "O0TOQYC7a7Yc"
      }
    },
    {
      "cell_type": "markdown",
      "source": [
        "## Пример решения"
      ],
      "metadata": {
        "id": "d6903ppla9jr"
      }
    },
    {
      "cell_type": "code",
      "source": [
        "def new_list(old_list):\n",
        "  new_list = filter(lambda x: x % 3 == 0, old_list)\n",
        "  new_list = list(map(lambda x: x+1, new_list))\n",
        "  return new_list\n",
        "\n",
        "old_list = list(map(int, input().split()))\n",
        "print(new_list(old_list))"
      ],
      "metadata": {
        "colab": {
          "base_uri": "https://localhost:8080/"
        },
        "id": "33bHDaVAa9js",
        "outputId": "cbe707eb-caae-48b1-b1a6-52ea8ae95dfd"
      },
      "execution_count": null,
      "outputs": [
        {
          "output_type": "stream",
          "name": "stdout",
          "text": [
            "1 2 3 4 4 5 6 7 8 9 10\n",
            "[4, 7, 10]\n"
          ]
        }
      ]
    },
    {
      "cell_type": "markdown",
      "source": [
        "#Модули и библиотеки Python"
      ],
      "metadata": {
        "id": "M0m3DnbcfyPf"
      }
    },
    {
      "cell_type": "markdown",
      "source": [
        "Модуль — это файл, содержащий определения функций, классов и переменных, а также исполняемый код. Модули в Python обычно имеют расширение .py. Они позволяют структурировать код и делить его на мелкие, легко управляемые части.\n",
        "\n",
        "Библиотека — это набор связанных модулей, объединенных вместе для решения определенной задачи или предоставления определенного функционала. Библиотеки можно представить как расширение базового функционала Python, которое помогает решать различные задачи без необходимости писать все с нуля."
      ],
      "metadata": {
        "id": "Iqp4X9NvgQD7"
      }
    },
    {
      "cell_type": "markdown",
      "source": [
        "## Модуль math"
      ],
      "metadata": {
        "id": "qEOdsRnHhn7x"
      }
    },
    {
      "cell_type": "markdown",
      "source": [
        "Представляет собой математические функции"
      ],
      "metadata": {
        "id": "Em-TgOjaiMgs"
      }
    },
    {
      "cell_type": "code",
      "source": [
        "import math"
      ],
      "metadata": {
        "id": "IKCslSs8iPM6"
      },
      "execution_count": null,
      "outputs": []
    },
    {
      "cell_type": "markdown",
      "source": [
        "Наиболее часто встречающиеся функции:\n",
        "\n",
        "**math.sqrt(x)**: Возвращает квадратный корень числа x.\n",
        "\n",
        "**math.pow(x, y)**: Возвращает x в степени y.\n",
        "\n",
        "**math.exp(x)**: Возвращает экспоненту числа x.\n",
        "\n",
        "**math.log(x, [base])**: Возвращает натуральный (или указанный базисом) логарифм числа x.\n",
        "\n",
        "**math.factorial(x)**: Возвращает факториал числа x.\n",
        "Тригонометрические функции:\n",
        "\n",
        "**math.sin(x)**, **math.cos(x)**, **math.tan(x)**: Синус, косинус и тангенс угла x (в радианах).\n",
        "\n",
        "**math.radians(x)**: Преобразует угол из градусов в радианы.\n",
        "\n",
        "**math.degrees(x)**: Преобразует угол из радианов в градусы.\n",
        "Константы:\n",
        "\n",
        "**math.pi**: Значение числа π (пи).\n",
        "\n",
        "**math.e**: Значение числа e (основание натурального логарифма)."
      ],
      "metadata": {
        "id": "UP__yMz2ih4_"
      }
    },
    {
      "cell_type": "code",
      "source": [
        "import math\n",
        "\n",
        "# Вычисление квадратного корня\n",
        "print(math.sqrt(25), end = '\\n\\n')\n",
        "\n",
        "# Возведение числа в степень\n",
        "print(math.pow(2, 3), end = '\\n\\n')\n",
        "\n",
        "# Вычисление синуса и косинуса\n",
        "print(math.sin(math.radians(30)), end = '\\n\\n')\n",
        "print(math.cos(math.pi), end = '\\n\\n')\n",
        "\n",
        "# Факториал числа\n",
        "print(math.factorial(5), end = '\\n\\n')\n",
        "\n",
        "# логарифм по основанию 2\n",
        "print(math.log(22, 2), end = '\\n\\n')\n",
        "\n",
        "# Использование констант\n",
        "print(math.pi, end = '\\n\\n')\n",
        "print(math.e, end = '\\n\\n')\n"
      ],
      "metadata": {
        "colab": {
          "base_uri": "https://localhost:8080/"
        },
        "id": "ajRjM_QFi4db",
        "outputId": "7f3b96ea-3717-4c84-c4e4-0c0a956483b3"
      },
      "execution_count": null,
      "outputs": [
        {
          "output_type": "stream",
          "name": "stdout",
          "text": [
            "5.0\n",
            "\n",
            "8.0\n",
            "\n",
            "0.49999999999999994\n",
            "\n",
            "-1.0\n",
            "\n",
            "120\n",
            "\n",
            "4.459431618637297\n",
            "\n",
            "3.141592653589793\n",
            "\n",
            "2.718281828459045\n",
            "\n"
          ]
        }
      ]
    },
    {
      "cell_type": "markdown",
      "source": [
        "Если не хотим писать math."
      ],
      "metadata": {
        "id": "XhWyICP4jfzz"
      }
    },
    {
      "cell_type": "code",
      "source": [
        "from math import *\n",
        "\n",
        "num1 = sqrt(2)\n",
        "num2 = ceil(3.8)   # округление числа вверх\n",
        "num3 = floor(3.8)  # округление числа вниз\n",
        "\n",
        "print(num1)\n",
        "print(num2)\n",
        "print(num3)"
      ],
      "metadata": {
        "colab": {
          "base_uri": "https://localhost:8080/"
        },
        "id": "lUrEofa7j0ke",
        "outputId": "acd32658-874c-4b6d-c0ee-106da5fa8515"
      },
      "execution_count": null,
      "outputs": [
        {
          "output_type": "stream",
          "name": "stdout",
          "text": [
            "1.4142135623730951\n",
            "4\n",
            "3\n"
          ]
        }
      ]
    },
    {
      "cell_type": "markdown",
      "source": [
        "Или можем импортировать определённые функции"
      ],
      "metadata": {
        "id": "XCqkgkzbj5c8"
      }
    },
    {
      "cell_type": "code",
      "source": [
        "from math import sqrt, ceil\n",
        "\n",
        "print(sqrt(25))\n",
        "print(ceil(34.7))"
      ],
      "metadata": {
        "colab": {
          "base_uri": "https://localhost:8080/"
        },
        "id": "4g1yM6B9kBp_",
        "outputId": "bc4ee0c7-25e4-4079-d820-483661953d0b"
      },
      "execution_count": null,
      "outputs": [
        {
          "output_type": "stream",
          "name": "stdout",
          "text": [
            "5.0\n",
            "35\n"
          ]
        }
      ]
    },
    {
      "cell_type": "markdown",
      "source": [
        "## Модуль random"
      ],
      "metadata": {
        "id": "fiCxs7r4k_FR"
      }
    },
    {
      "cell_type": "markdown",
      "source": [
        "Модуль **random** в Python предоставляет функции для генерации случайных чисел. Этот модуль может использоваться для различных задач, таких как генерация случайных чисел для игр, моделирования, тестирования и других задач, где требуется случайное поведение."
      ],
      "metadata": {
        "id": "a-bB7-RGluEK"
      }
    },
    {
      "cell_type": "code",
      "source": [
        "import random"
      ],
      "metadata": {
        "id": "IxaUjYuZl-H_"
      },
      "execution_count": null,
      "outputs": []
    },
    {
      "cell_type": "markdown",
      "source": [
        "**random.random()**: Эта функция возвращает случайное число с плавающей запятой в диапазоне от 0.0 до 1.0."
      ],
      "metadata": {
        "id": "mxRSDzm5l60s"
      }
    },
    {
      "cell_type": "code",
      "source": [
        "# Генерация случайного числа с плавающей запятой\n",
        "random_number = random.random()\n",
        "print(random_number)\n"
      ],
      "metadata": {
        "colab": {
          "base_uri": "https://localhost:8080/"
        },
        "id": "BUj1tIEql7l3",
        "outputId": "b903bfed-8766-485e-9d9c-233d8d007d8c"
      },
      "execution_count": null,
      "outputs": [
        {
          "output_type": "stream",
          "name": "stdout",
          "text": [
            "0.23063120227353784\n"
          ]
        }
      ]
    },
    {
      "cell_type": "markdown",
      "source": [
        "**random.randint(a, b)**: Возвращает случайное целое число N, где a <= N <= b."
      ],
      "metadata": {
        "id": "oppe9IbBmIyK"
      }
    },
    {
      "cell_type": "code",
      "source": [
        "# Генерация случайного целого числа в диапазоне от 1 до 10\n",
        "random_integer = random.randint(1, 10)\n",
        "print(random_integer)"
      ],
      "metadata": {
        "colab": {
          "base_uri": "https://localhost:8080/"
        },
        "id": "JcYwAdbzmKvN",
        "outputId": "540a6cd2-5bc2-4b1e-b07c-4cd296b297be"
      },
      "execution_count": null,
      "outputs": [
        {
          "output_type": "stream",
          "name": "stdout",
          "text": [
            "10\n"
          ]
        }
      ]
    },
    {
      "cell_type": "markdown",
      "source": [
        "**randrange()**: возвращает случайное число из определенного набора чисел"
      ],
      "metadata": {
        "id": "G9lM9orRmkh6"
      }
    },
    {
      "cell_type": "code",
      "source": [
        "number = random.randrange(10)  # значение от 0 до 10 не включая\n",
        "print(number)\n",
        "number = random.randrange(2, 10)  # значение в диапазоне 2, 3, 4, 5, 6, 7, 8, 9\n",
        "print(number)\n",
        "number = random.randrange(2, 10, 2)  # значение в диапазоне 2, 4, 6, 8\n",
        "print(number)"
      ],
      "metadata": {
        "colab": {
          "base_uri": "https://localhost:8080/"
        },
        "id": "UwQ2Oxzxmmqa",
        "outputId": "2c9ddbcf-043b-45db-f296-f3b46073d6fa"
      },
      "execution_count": null,
      "outputs": [
        {
          "output_type": "stream",
          "name": "stdout",
          "text": [
            "3\n",
            "9\n",
            "4\n"
          ]
        }
      ]
    },
    {
      "cell_type": "markdown",
      "source": [
        "**random.choice(seq)**: Возвращает случайный элемент из непустой последовательности seq."
      ],
      "metadata": {
        "id": "KU0bwA7gmOUp"
      }
    },
    {
      "cell_type": "code",
      "source": [
        "# Выбор случайного элемента из списка\n",
        "my_list = ['apple', 'banana', 'orange', 'grape']\n",
        "random_fruit = random.choice(my_list)\n",
        "print(random_fruit)\n"
      ],
      "metadata": {
        "colab": {
          "base_uri": "https://localhost:8080/"
        },
        "id": "itpFivh7mN8W",
        "outputId": "2dcdf70c-5e57-4d7d-e469-c6238899c3eb"
      },
      "execution_count": null,
      "outputs": [
        {
          "output_type": "stream",
          "name": "stdout",
          "text": [
            "banana\n"
          ]
        }
      ]
    },
    {
      "cell_type": "markdown",
      "source": [
        "**random.shuffle(seq)**: Случайно перемешивает элементы в последовательности seq."
      ],
      "metadata": {
        "id": "MWbnJ75vmYaz"
      }
    },
    {
      "cell_type": "code",
      "source": [
        "# Перемешивание списка\n",
        "my_list = ['apple', 'banana', 'orange', 'grape']\n",
        "random.shuffle(my_list)\n",
        "print(my_list)\n"
      ],
      "metadata": {
        "colab": {
          "base_uri": "https://localhost:8080/"
        },
        "id": "vSGbMLiCmdyO",
        "outputId": "d2be58a5-7bbd-46ed-8ebc-2a9f2988c68d"
      },
      "execution_count": null,
      "outputs": [
        {
          "output_type": "stream",
          "name": "stdout",
          "text": [
            "['apple', 'grape', 'banana', 'orange']\n"
          ]
        }
      ]
    },
    {
      "cell_type": "markdown",
      "source": [
        "#Решение задач"
      ],
      "metadata": {
        "id": "vGyHppxInZF4"
      }
    },
    {
      "cell_type": "markdown",
      "source": [
        "##№1 Третья сторона треугольника.\n",
        "На вход подаются три числа через пробел: две стороны треугольника и угол между ними в градусах. Написать функцию calculate(leg1, leg2, angle_degrees), которая рассчитывает [третью сторну треугольника](https://ru.wikipedia.org/wiki/%D0%A2%D0%B5%D0%BE%D1%80%D0%B5%D0%BC%D0%B0_%D0%BA%D0%BE%D1%81%D0%B8%D0%BD%D1%83%D1%81%D0%BE%D0%B2#:~:text=%D0%9A%D0%B2%D0%B0%D0%B4%D1%80%D0%B0%D1%82%20%D1%81%D1%82%D0%BE%D1%80%D0%BE%D0%BD%D1%8B%20%D1%82%D1%80%D0%B5%D1%83%D0%B3%D0%BE%D0%BB%D1%8C%D0%BD%D0%B8%D0%BA%D0%B0%20%D1%80%D0%B0%D0%B2%D0%B5%D0%BD%20%D1%81%D1%83%D0%BC%D0%BC%D0%B5,%D0%BD%D0%B0%20%D0%BA%D0%BE%D1%81%D0%B8%D0%BD%D1%83%D1%81%20%D1%83%D0%B3%D0%BB%D0%B0%20%D0%BC%D0%B5%D0%B6%D0%B4%D1%83%20%D0%BD%D0%B8%D0%BC%D0%B8) и его площадь. Вывести ответ в виде списка."
      ],
      "metadata": {
        "id": "XZ9aM64pnbRs"
      }
    },
    {
      "cell_type": "markdown",
      "source": [
        "##Пример решения"
      ],
      "metadata": {
        "id": "iwLn97JWniXp"
      }
    },
    {
      "cell_type": "code",
      "source": [
        "from math import *\n",
        "\n",
        "def calculate(leg1, leg2, angle_degrees):\n",
        "    # Преобразование угла из градусов в радианы\n",
        "    angle_radians = math.radians(angle_degrees)\n",
        "\n",
        "    # Вычисление стороны\n",
        "    leg3 = math.sqrt(leg1**2 + leg2**2 - 2 * leg1 * leg2 * math.cos(angle_radians))\n",
        "\n",
        "    # Вычисление площади треугольника\n",
        "    area = 0.5 * leg1 * leg2 * math.sin(angle_radians)\n",
        "\n",
        "    return [leg3, area]\n",
        "\n",
        "leg1, leg2, angle_degrees = list(map(float,input().split()))\n",
        "print(calculate(leg1, leg2, angle_degrees))"
      ],
      "metadata": {
        "colab": {
          "base_uri": "https://localhost:8080/"
        },
        "id": "MnePE8B6nknU",
        "outputId": "6dc25755-8ec6-4302-c0ab-17a8e8fc3843"
      },
      "execution_count": null,
      "outputs": [
        {
          "output_type": "stream",
          "name": "stdout",
          "text": [
            "3 4 90\n",
            "[5.0, 6.0]\n"
          ]
        }
      ]
    },
    {
      "cell_type": "markdown",
      "source": [
        "##№2 Степень двойки.\n",
        "Проверьте, что введённное число(int) является степерью двойки. Выводите True или False. Используйте math.log(x,2)"
      ],
      "metadata": {
        "id": "G9M8w1s-nfsD"
      }
    },
    {
      "cell_type": "markdown",
      "source": [
        "##Пример решения"
      ],
      "metadata": {
        "id": "YLJW3CnXnlqm"
      }
    },
    {
      "cell_type": "code",
      "source": [
        "from math import *\n",
        "x = int(input())\n",
        "ans = ( log(x,2) == int(log(x,2)))\n",
        "print(ans)"
      ],
      "metadata": {
        "colab": {
          "base_uri": "https://localhost:8080/"
        },
        "id": "JWtx6bGCnlqq",
        "outputId": "de567f33-57b5-4a2d-b7d4-590b0f5387af"
      },
      "execution_count": null,
      "outputs": [
        {
          "output_type": "stream",
          "name": "stdout",
          "text": [
            "1023\n",
            "False\n"
          ]
        }
      ]
    },
    {
      "cell_type": "markdown",
      "source": [
        "##№3 Угадай число\n",
        " Напишите функцию guess_number(), которая генерирует случайное число от 1 до 10, а затем просит пользователя угадать это число. Программа должна давать подсказки (\"Слишком мало\", \"Слишком много\") и завершаться, когда пользователь угадывает число.(выводить \"Вы угадали\")"
      ],
      "metadata": {
        "id": "WE9gMKxJnf3j"
      }
    },
    {
      "cell_type": "markdown",
      "source": [
        "##Пример решения"
      ],
      "metadata": {
        "id": "hqbuuDgBnmEY"
      }
    },
    {
      "cell_type": "code",
      "source": [
        "import random\n",
        "\n",
        "def guess_number():\n",
        "    number_to_guess = random.randint(1, 10)\n",
        "    while True:\n",
        "        guess = int(input())\n",
        "        if guess < number_to_guess:\n",
        "            print(\"Слишком мало\")\n",
        "        elif guess > number_to_guess:\n",
        "            print(\"Слишком много\")\n",
        "        else:\n",
        "            print(\"Вы угадали\")\n",
        "            break\n",
        "guess_number()"
      ],
      "metadata": {
        "colab": {
          "base_uri": "https://localhost:8080/"
        },
        "id": "4SmN-MMmnmEY",
        "outputId": "b2d835e7-7ee4-4cd0-90bc-1cbfbc000a0c"
      },
      "execution_count": null,
      "outputs": [
        {
          "output_type": "stream",
          "name": "stdout",
          "text": [
            "1\n",
            "Слишком мало\n",
            "3\n",
            "Слишком мало\n",
            "5\n",
            "Слишком мало\n",
            "7\n",
            "Слишком мало\n",
            "9\n",
            "Вы угадали\n"
          ]
        }
      ]
    },
    {
      "cell_type": "markdown",
      "source": [
        "##№4 Проверка рандома кубика\n",
        "Сгенерируйте 100000 случайных чисел от 1 до 6 (бросание кубика) и посмотрите какие значения сколько раз выпадают. Выведите на экран словарь ```{значение:количество}```. А также минимальное и максимальное значения."
      ],
      "metadata": {
        "id": "n1q8dTiTnf-m"
      }
    },
    {
      "cell_type": "markdown",
      "source": [
        "##Пример решения"
      ],
      "metadata": {
        "id": "R5x8BLn8nmY6"
      }
    },
    {
      "cell_type": "code",
      "source": [
        "import random\n",
        "\n",
        "ans = {}\n",
        "\n",
        "for _ in range(100000):\n",
        "  x = random.randint(1,6)\n",
        "  ans[x] = ans.get(x,0) + 1\n",
        "print(ans)\n",
        "print(max(ans.values()), min(ans.values()))"
      ],
      "metadata": {
        "colab": {
          "base_uri": "https://localhost:8080/"
        },
        "id": "r_4El9gJnmY6",
        "outputId": "97329115-7f00-4599-b017-18dc00ffbd6c"
      },
      "execution_count": 9,
      "outputs": [
        {
          "output_type": "stream",
          "name": "stdout",
          "text": [
            "{5: 16629, 6: 16764, 3: 16526, 4: 16667, 2: 16825, 1: 16589}\n",
            "16825 16526\n"
          ]
        }
      ]
    },
    {
      "cell_type": "markdown",
      "source": [
        "##№5 Квадратное уравнение\n",
        "Напишите функцию solve(a, b, c), которая принимает в качестве аргументов три целых числа a, b, c – коэффициенты квадратного уравнения $ax^2+bx+c = 0$ (через пробел) и возвращает его корни в порядке возрастания(через прообел)."
      ],
      "metadata": {
        "id": "IDCGVlkdngT7"
      }
    },
    {
      "cell_type": "markdown",
      "source": [
        "##Пример решения"
      ],
      "metadata": {
        "id": "Iyv1S2Bqnmpc"
      }
    },
    {
      "cell_type": "code",
      "source": [
        "def solve(a, b, c):\n",
        "    x1 , x2 = (-b + (b ** 2 - 4 * a * c) ** 0.5)/(2 * a), (-b - (b ** 2 - 4 * a * c) ** 0.5)/(2 * a)\n",
        "    return min(x1,x2), max(x1,x2)\n",
        "a, b, c =  list(map(int,input().split()))\n",
        "\n",
        "x1, x2 = solve(a, b, c)\n",
        "print(x1, x2)"
      ],
      "metadata": {
        "colab": {
          "base_uri": "https://localhost:8080/"
        },
        "id": "XlwMK5jEnmpd",
        "outputId": "ef85ec5f-493a-4fac-bd8f-8899ff95f6a3"
      },
      "execution_count": null,
      "outputs": [
        {
          "output_type": "stream",
          "name": "stdout",
          "text": [
            "1 -6 9\n",
            "3.0 3.0\n"
          ]
        }
      ]
    },
    {
      "cell_type": "markdown",
      "source": [
        "##№6 Простое число\n",
        "Напишите функцию is_prime(num), которая проверяет, является введённое число (int) простым. Функция должна возвращать True или False."
      ],
      "metadata": {
        "id": "leM9QFcOngaa"
      }
    },
    {
      "cell_type": "markdown",
      "source": [
        "##Пример решения"
      ],
      "metadata": {
        "id": "kyJOyKN9nm5z"
      }
    },
    {
      "cell_type": "code",
      "source": [
        "def is_prime(num):\n",
        "    if num == 1:\n",
        "        return False\n",
        "    else:\n",
        "        for i in range(2, round(num ** 0.5) + 1):\n",
        "            if num % i == 0:\n",
        "                return False\n",
        "        return True\n",
        "print(is_prime(int(input())))"
      ],
      "metadata": {
        "id": "amIje07mnm5z",
        "colab": {
          "base_uri": "https://localhost:8080/"
        },
        "outputId": "633d0821-fb1d-403f-e07e-1b23c4d0dc31"
      },
      "execution_count": 4,
      "outputs": [
        {
          "output_type": "stream",
          "name": "stdout",
          "text": [
            "97\n",
            "True\n"
          ]
        }
      ]
    },
    {
      "cell_type": "markdown",
      "source": [
        "##№7 Числа фиббоначи.\n",
        "Напишите функцию fib(n), которая рассчитывает n-ое [число фибоначчи](https://ru.wikipedia.org/wiki/%D0%A7%D0%B8%D1%81%D0%BB%D0%B0_%D0%A4%D0%B8%D0%B1%D0%BE%D0%BD%D0%B0%D1%87%D1%87%D0%B8#:~:text=0%2C%201%2C%201%2C%202,%D1%80%D0%B0%D0%B2%D0%BD%D0%BE%20%D1%81%D1%83%D0%BC%D0%BC%D0%B5%20%D0%B4%D0%B2%D1%83%D1%85%20%D0%BF%D1%80%D0%B5%D0%B4%D1%8B%D0%B4%D1%83%D1%89%D0%B8%D1%85%20%D1%87%D0%B8%D1%81%D0%B5%D0%BB.). На вход подаётся натуральное число n."
      ],
      "metadata": {
        "id": "eGuNyhDfngwG"
      }
    },
    {
      "cell_type": "markdown",
      "source": [
        "##Пример решения"
      ],
      "metadata": {
        "id": "HPaUi8YdnnQA"
      }
    },
    {
      "cell_type": "code",
      "source": [
        "def fib(n):\n",
        "    if n == 1:\n",
        "        return 0\n",
        "    elif n == 2:\n",
        "        return 1\n",
        "    else:\n",
        "        return fib(n-1) + fib(n-2)\n",
        "print(fib(int(input())))"
      ],
      "metadata": {
        "id": "PBP8HmF0nnQA",
        "colab": {
          "base_uri": "https://localhost:8080/"
        },
        "outputId": "421361ee-57aa-47ce-f5f6-e7447796ad6d"
      },
      "execution_count": 8,
      "outputs": [
        {
          "output_type": "stream",
          "name": "stdout",
          "text": [
            "12\n",
            "89\n"
          ]
        }
      ]
    }
  ]
}
