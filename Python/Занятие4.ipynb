{
  "nbformat": 4,
  "nbformat_minor": 0,
  "metadata": {
    "colab": {
      "provenance": [],
      "authorship_tag": "ABX9TyNPetTkX57QCCCLEWE5CWHj",
      "include_colab_link": true
    },
    "kernelspec": {
      "name": "python3",
      "display_name": "Python 3"
    },
    "language_info": {
      "name": "python"
    }
  },
  "cells": [
    {
      "cell_type": "markdown",
      "metadata": {
        "id": "view-in-github",
        "colab_type": "text"
      },
      "source": [
        "<a href=\"https://colab.research.google.com/github/ThePrax12/MLcourse/blob/main/%D0%97%D0%B0%D0%BD%D1%8F%D1%82%D0%B8%D0%B54.ipynb\" target=\"_parent\"><img src=\"https://colab.research.google.com/assets/colab-badge.svg\" alt=\"Open In Colab\"/></a>"
      ]
    },
    {
      "cell_type": "markdown",
      "source": [
        "#Интересные и полезные модули"
      ],
      "metadata": {
        "id": "_dF4wR-cGRgA"
      }
    },
    {
      "cell_type": "markdown",
      "source": [
        "#datetime"
      ],
      "metadata": {
        "id": "m45YXzufyO0M"
      }
    },
    {
      "cell_type": "markdown",
      "source": [
        "Модуль **datetime** предоставляет классы для работы с датами и временем. Он позволяет создавать, изменять, форматировать и выполнять операции с датами и временем."
      ],
      "metadata": {
        "id": "JcBAuEKJylh8"
      }
    },
    {
      "cell_type": "markdown",
      "source": [
        "**datetime**: Этот класс используется для работы с датой и временем вместе. Он имеет атрибуты, такие как год, месяц, день, час, минута, секунда и микросекунда."
      ],
      "metadata": {
        "id": "LHHIN0HSzC0H"
      }
    },
    {
      "cell_type": "code",
      "execution_count": null,
      "metadata": {
        "id": "yooo39u9xuc3"
      },
      "outputs": [],
      "source": [
        "import datetime\n",
        "\n",
        "now = datetime.datetime.now()\n",
        "print(now)"
      ]
    },
    {
      "cell_type": "markdown",
      "source": [
        "**date**: Этот класс представляет только дату, без времени."
      ],
      "metadata": {
        "id": "HtyHYf5bzUVu"
      }
    },
    {
      "cell_type": "code",
      "source": [
        "import datetime\n",
        "\n",
        "today = datetime.date.today()\n",
        "print(today)"
      ],
      "metadata": {
        "id": "P7Vl3QuLzWLO"
      },
      "execution_count": null,
      "outputs": []
    },
    {
      "cell_type": "markdown",
      "source": [
        "**time**: Этот класс представляет только время, без даты."
      ],
      "metadata": {
        "id": "yPQleKZzza9q"
      }
    },
    {
      "cell_type": "code",
      "source": [
        "import datetime\n",
        "\n",
        "current_time = datetime.time(hour=12, minute=30, second=45)\n",
        "print(current_time)"
      ],
      "metadata": {
        "id": "jqoB8AiEzaxA"
      },
      "execution_count": null,
      "outputs": []
    },
    {
      "cell_type": "markdown",
      "source": [
        "**timedelta**: Этот класс представляет разницу между двумя моментами времени."
      ],
      "metadata": {
        "id": "fgoRj1SHzV5x"
      }
    },
    {
      "cell_type": "code",
      "source": [
        "import datetime\n",
        "\n",
        "delta = datetime.timedelta(days=7)\n",
        "next_week = datetime.datetime.now() + delta\n",
        "print(next_week)"
      ],
      "metadata": {
        "id": "dVeDFmiizyQA"
      },
      "execution_count": null,
      "outputs": []
    },
    {
      "cell_type": "markdown",
      "source": [
        "#tqdm"
      ],
      "metadata": {
        "id": "m3_f14yn1Bdl"
      }
    },
    {
      "cell_type": "markdown",
      "source": [
        "Модуль **tqdm** представляет собой инструмент для добавления полосы прогресса к вашим итерациям в Python. Он позволяет вам легко отслеживать прогресс выполнения циклов и операций, что особенно полезно при обработке больших объемов данных."
      ],
      "metadata": {
        "id": "Hj-ppTiJ1C4d"
      }
    },
    {
      "cell_type": "code",
      "source": [
        "from tqdm import tqdm\n",
        "\n",
        "sum = 0\n",
        "for i in tqdm(range(3 * 10 ** 7)):\n",
        "  if i % 10 ** 4 == 0:\n",
        "    sum+=i\n",
        "print(sum)\n",
        "\n"
      ],
      "metadata": {
        "colab": {
          "base_uri": "https://localhost:8080/"
        },
        "id": "8Q-jImP81H6C",
        "outputId": "4ed1a353-9fc8-4276-9bf6-198540eb6661"
      },
      "execution_count": null,
      "outputs": [
        {
          "output_type": "stream",
          "name": "stderr",
          "text": [
            "100%|██████████| 30000000/30000000 [00:12<00:00, 2413768.42it/s]"
          ]
        },
        {
          "output_type": "stream",
          "name": "stdout",
          "text": [
            "44985000000\n"
          ]
        },
        {
          "output_type": "stream",
          "name": "stderr",
          "text": [
            "\n"
          ]
        }
      ]
    },
    {
      "cell_type": "markdown",
      "source": [
        "tqdm поддерживает различные параметры для настройки внешнего вида и поведения прогресс-бара. Например, вы можете настроить ширину прогресс-бара, стиль итд."
      ],
      "metadata": {
        "id": "tQiUtbl510Ky"
      }
    },
    {
      "cell_type": "code",
      "source": [
        "from tqdm import tqdm\n",
        "import time\n",
        "\n",
        "\n",
        "sum = 0\n",
        "data = range(1000)\n",
        "processed_data = []\n",
        "\n",
        "for item in tqdm(range(3 * 10 ** 7), desc=\"Processing\", ncols = 100, colour=\"green\"):\n",
        "     if i % 10 ** 4 == 0:\n",
        "      sum+=i\n",
        "print(sum)\n",
        "\n"
      ],
      "metadata": {
        "colab": {
          "base_uri": "https://localhost:8080/"
        },
        "id": "_fmTNvJt13pR",
        "outputId": "d726158c-6ca1-433f-9220-cd87636ba92a"
      },
      "execution_count": null,
      "outputs": [
        {
          "output_type": "stream",
          "name": "stderr",
          "text": [
            "Processing: 100%|\u001b[32m██████████████████████████████████\u001b[0m| 30000000/30000000 [00:09<00:00, 3128684.02it/s]\u001b[0m"
          ]
        },
        {
          "output_type": "stream",
          "name": "stdout",
          "text": [
            "0\n"
          ]
        },
        {
          "output_type": "stream",
          "name": "stderr",
          "text": [
            "\n"
          ]
        }
      ]
    },
    {
      "cell_type": "markdown",
      "source": [
        "#Дополнительный полезный материал"
      ],
      "metadata": {
        "id": "OxVGSGDZ2Y4X"
      }
    },
    {
      "cell_type": "markdown",
      "source": [
        "##Работа с вложенными списками"
      ],
      "metadata": {
        "id": "n4utmFJb4njP"
      }
    },
    {
      "cell_type": "markdown",
      "source": [
        "Часто удобно представлять данные в виде матриц (частный случай влоденных списков). Подробнее с математической стороны они будут рассмотрены на следующих занятиях, а пока посмотрим на работу с ними."
      ],
      "metadata": {
        "id": "WjSRrVtk66Dg"
      }
    },
    {
      "cell_type": "code",
      "source": [
        "matrix = [\n",
        "    [1, 2, 3],\n",
        "    [4, 5, 6],\n",
        "    [7, 8, 9]\n",
        "]"
      ],
      "metadata": {
        "id": "5IEIU1AU7YDr"
      },
      "execution_count": null,
      "outputs": []
    },
    {
      "cell_type": "code",
      "source": [
        "print(matrix[0])\n",
        "print(matrix[1][1])"
      ],
      "metadata": {
        "colab": {
          "base_uri": "https://localhost:8080/"
        },
        "id": "8m1Pz7wK7lgh",
        "outputId": "5db09371-d83e-4b76-8695-bc02e4285398"
      },
      "execution_count": null,
      "outputs": [
        {
          "output_type": "stream",
          "name": "stdout",
          "text": [
            "[1, 2, 3]\n",
            "5\n"
          ]
        }
      ]
    },
    {
      "cell_type": "markdown",
      "source": [
        "Считывание матрицы:"
      ],
      "metadata": {
        "id": "sZmm8ghR7wd8"
      }
    },
    {
      "cell_type": "code",
      "source": [
        "n = 4                                         # количество строк (элементов)\n",
        "my_list = []\n",
        "\n",
        "for _ in range(n):\n",
        "    elem = [int(i) for i in input().split()]  # создаем список из элементов строки\n",
        "    my_list.append(elem)"
      ],
      "metadata": {
        "colab": {
          "base_uri": "https://localhost:8080/"
        },
        "id": "TGWl-4fT-fM-",
        "outputId": "430231f8-200e-43d2-dbc6-9eab86b3480d"
      },
      "execution_count": null,
      "outputs": [
        {
          "name": "stdout",
          "output_type": "stream",
          "text": [
            "1 2 3 4\n",
            "1 2 3 4\n",
            "1 2 3 4\n",
            "1 2 3 4\n"
          ]
        }
      ]
    },
    {
      "cell_type": "markdown",
      "source": [
        "Или"
      ],
      "metadata": {
        "id": "_Jux0H9C9S7K"
      }
    },
    {
      "cell_type": "code",
      "source": [
        "n = int(input()) #количество строк\n",
        "matrix = [[int(c) for c in input().split()] for _ in range(n) ]"
      ],
      "metadata": {
        "colab": {
          "base_uri": "https://localhost:8080/"
        },
        "id": "gq1R2G5v9Sn5",
        "outputId": "9409b5b7-da80-4a08-813a-f6bfb3c63041"
      },
      "execution_count": null,
      "outputs": [
        {
          "name": "stdout",
          "output_type": "stream",
          "text": [
            "3\n",
            "1 2 3\n",
            "1 2 3\n",
            "1 2 3\n"
          ]
        }
      ]
    },
    {
      "cell_type": "code",
      "source": [
        "print(matrix)"
      ],
      "metadata": {
        "colab": {
          "base_uri": "https://localhost:8080/"
        },
        "id": "SItdjhcm8md5",
        "outputId": "0f69d3de-cd08-4b8f-df27-047b355bb4ad"
      },
      "execution_count": null,
      "outputs": [
        {
          "output_type": "stream",
          "name": "stdout",
          "text": [
            "[[1, 2, 3], [1, 2, 3], [1, 2, 3]]\n"
          ]
        }
      ]
    },
    {
      "cell_type": "markdown",
      "source": [
        "Такой вывод красивее"
      ],
      "metadata": {
        "id": "jvmTtKGd8yVJ"
      }
    },
    {
      "cell_type": "code",
      "source": [
        "for row in matrix:\n",
        "    for element in row:\n",
        "        print(element, end=' ')\n",
        "    print()"
      ],
      "metadata": {
        "colab": {
          "base_uri": "https://localhost:8080/"
        },
        "id": "DtLRJ_-b8onc",
        "outputId": "29afbef4-c9c0-450c-9e77-6bf819d9d31d"
      },
      "execution_count": null,
      "outputs": [
        {
          "output_type": "stream",
          "name": "stdout",
          "text": [
            "1 2 3 \n",
            "1 2 3 \n",
            "1 2 3 \n"
          ]
        }
      ]
    },
    {
      "cell_type": "markdown",
      "source": [
        "Конечно же не все двумерные списки являются матрицами (если количество элементов в разных строках отличается) , но мы всё равно можем с ними работать так, как хочется"
      ],
      "metadata": {
        "id": "KyYHIIja96WU"
      }
    },
    {
      "cell_type": "code",
      "source": [
        "my_list = [[1, 9, 8, 7, 4],\n",
        "           [7, 3, 4],\n",
        "           [2, 1]\n",
        "           ]\n",
        "\n",
        "for row in my_list:\n",
        "    for element in row:\n",
        "        print(element, end=' ')\n",
        "    print()\n"
      ],
      "metadata": {
        "colab": {
          "base_uri": "https://localhost:8080/"
        },
        "id": "z2cLS0hd-GGR",
        "outputId": "42d0daaa-494d-447c-c3a1-f4846692e766"
      },
      "execution_count": null,
      "outputs": [
        {
          "output_type": "stream",
          "name": "stdout",
          "text": [
            "1 9 8 7 4 \n",
            "7 3 4 \n",
            "2 1 \n"
          ]
        }
      ]
    },
    {
      "cell_type": "markdown",
      "source": [
        "Проходимся и считаем сумму всех элементов."
      ],
      "metadata": {
        "id": "cSPE5Qbx-WYt"
      }
    },
    {
      "cell_type": "code",
      "source": [
        "my_list = [[1, 9, 8, 7, 4],\n",
        "           [7, 3, 4],\n",
        "           [2, 1]\n",
        "           ]\n",
        "\n",
        "total = 0\n",
        "for i in range(len(my_list)):\n",
        "    for j in range(len(my_list[i])):\n",
        "        total += my_list[i][j]\n",
        "\n",
        "print(total)"
      ],
      "metadata": {
        "colab": {
          "base_uri": "https://localhost:8080/"
        },
        "id": "8lliS7zW-TNQ",
        "outputId": "0f6f28e3-432b-431f-caa4-55d9cf549b15"
      },
      "execution_count": null,
      "outputs": [
        {
          "output_type": "stream",
          "name": "stdout",
          "text": [
            "46\n"
          ]
        }
      ]
    },
    {
      "cell_type": "markdown",
      "source": [
        "Квадратные матрицы используются чаще всего (n == m)"
      ],
      "metadata": {
        "id": "1yYViB5X_ve4"
      }
    },
    {
      "cell_type": "code",
      "source": [
        "my_list = [\n",
        "    [1, 2, 3],\n",
        "    [4, 5, 6],\n",
        "    [7, 8, 9]\n",
        "]\n",
        "\n",
        "total = 0\n",
        "for i in range(len(my_list)):\n",
        "    for j in range(len(my_list[i])):\n",
        "        total += my_list[i][j]\n",
        "\n",
        "print(total)"
      ],
      "metadata": {
        "colab": {
          "base_uri": "https://localhost:8080/"
        },
        "id": "jHsWJqJh_7_x",
        "outputId": "9fc3459f-201c-4729-b1e8-42d68ad2cca3"
      },
      "execution_count": null,
      "outputs": [
        {
          "output_type": "stream",
          "name": "stdout",
          "text": [
            "45\n"
          ]
        }
      ]
    },
    {
      "cell_type": "markdown",
      "source": [
        "Возведём все элементы в квадрат"
      ],
      "metadata": {
        "id": "l0lKb-VnADSY"
      }
    },
    {
      "cell_type": "code",
      "source": [
        "matrix = [\n",
        "    [1, 2, 3],\n",
        "    [4, 5, 6],\n",
        "    [7, 8, 9]\n",
        "]\n",
        "\n",
        "for i in range(len( matrix)):\n",
        "    for j in range(len( matrix[i])):\n",
        "        matrix[i][j] **= 2\n",
        "\n",
        "for row in matrix:\n",
        "    for element in row:\n",
        "        print(element, end=' ')\n",
        "    print()"
      ],
      "metadata": {
        "colab": {
          "base_uri": "https://localhost:8080/"
        },
        "id": "Cl7qoBwNADDC",
        "outputId": "acc64199-03a3-45d7-ebe6-6ff7ae0708ba"
      },
      "execution_count": null,
      "outputs": [
        {
          "output_type": "stream",
          "name": "stdout",
          "text": [
            "1 4 9 \n",
            "16 25 36 \n",
            "49 64 81 \n"
          ]
        }
      ]
    },
    {
      "cell_type": "markdown",
      "source": [
        "## Операции над множествами"
      ],
      "metadata": {
        "id": "XsgUOIzfAn6F"
      }
    },
    {
      "cell_type": "markdown",
      "source": [
        "Вспомним множества:\n",
        "\n",
        "\n",
        "*   Все элементы множества различны (уникальны), два элемента не могут иметь одинаковое значение;\n",
        "*   Множества неупорядочены, то есть элементы не хранятся в каком-то определенном порядке;\n",
        "*   Элементы множества должны относиться к неизменяемым типам данных;\n",
        "*   Хранящиеся в множестве элементы могут иметь разные типы данных."
      ],
      "metadata": {
        "id": "cPXZ_O2QAqn3"
      }
    },
    {
      "cell_type": "code",
      "source": [
        "my_list = [123,123,'hello','hi','hi','123']\n",
        "my_set = set(my_list)\n",
        "print(my_set)"
      ],
      "metadata": {
        "colab": {
          "base_uri": "https://localhost:8080/"
        },
        "id": "s4Mmqv4GBTri",
        "outputId": "fa1d1496-da9a-4583-c00d-a08078b20176"
      },
      "execution_count": null,
      "outputs": [
        {
          "output_type": "stream",
          "name": "stdout",
          "text": [
            "{'hello', '123', 123, 'hi'}\n"
          ]
        }
      ]
    },
    {
      "cell_type": "markdown",
      "source": [
        "Основные операции над множествами:\n",
        "\n",
        "*   объединение множеств;\n",
        "*   пересечение множеств;\n",
        "*   разность множеств;\n",
        "*   симметрическая разность множеств.\n",
        "![x_Методы_множеств.png](data:image/png;base64,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)\n",
        "\n",
        "\n",
        "\n",
        "\n",
        "\n",
        "\n",
        "\n",
        "\n"
      ],
      "metadata": {
        "id": "hDwW4MvACIis"
      }
    },
    {
      "cell_type": "markdown",
      "source": [
        "Объединение множеств:\n",
        "\n",
        "Объединение двух множеств возвращает новое множество, содержащее все уникальные элементы из обоих исходных множеств."
      ],
      "metadata": {
        "id": "4R_l6Dl2DfjZ"
      }
    },
    {
      "cell_type": "code",
      "source": [
        "set1 = {1, 2, 3}\n",
        "set2 = {3, 4, 5}\n",
        "\n",
        "union_set = set1.union(set2)\n",
        "# или с использованием оператора |\n",
        "# union_set = set1 | set2\n",
        "\n",
        "print(union_set)\n"
      ],
      "metadata": {
        "colab": {
          "base_uri": "https://localhost:8080/"
        },
        "id": "oXJyJA8ODgkH",
        "outputId": "b72e8256-7a03-4419-9325-fca04aea4d02"
      },
      "execution_count": null,
      "outputs": [
        {
          "output_type": "stream",
          "name": "stdout",
          "text": [
            "{1, 2, 3, 4, 5}\n"
          ]
        }
      ]
    },
    {
      "cell_type": "markdown",
      "source": [
        "Пересечение множеств:\n",
        "\n",
        "Пересечение двух множеств возвращает новое множество, содержащее только те элементы, которые присутствуют в обоих исходных множествах."
      ],
      "metadata": {
        "id": "3LaGHSfDDuTU"
      }
    },
    {
      "cell_type": "code",
      "source": [
        "set1 = {1, 2, 3, 4}\n",
        "set2 = {3, 4, 5, 6}\n",
        "\n",
        "intersection_set = set1.intersection(set2)\n",
        "# или с использованием оператора &\n",
        "# intersection_set = set1 & set2\n",
        "\n",
        "print(intersection_set)"
      ],
      "metadata": {
        "colab": {
          "base_uri": "https://localhost:8080/"
        },
        "id": "Nxv0hdzHDu1G",
        "outputId": "f14855f0-bb88-4032-e48a-1958c6adf637"
      },
      "execution_count": null,
      "outputs": [
        {
          "output_type": "stream",
          "name": "stdout",
          "text": [
            "{3, 4}\n"
          ]
        }
      ]
    },
    {
      "cell_type": "code",
      "source": [
        "set1 = {1, 2}\n",
        "set2 = {3, 4, 5, 6}\n",
        "\n",
        "intersection_set = set1.intersection(set2) # пустое множество\n",
        "\n",
        "print(intersection_set)"
      ],
      "metadata": {
        "colab": {
          "base_uri": "https://localhost:8080/"
        },
        "id": "9ozKs4WlD4ny",
        "outputId": "8253dff5-f0f9-47a9-f64d-8144ce41a5e2"
      },
      "execution_count": null,
      "outputs": [
        {
          "output_type": "stream",
          "name": "stdout",
          "text": [
            "set()\n"
          ]
        }
      ]
    },
    {
      "cell_type": "markdown",
      "source": [
        "Разность множеств:\n",
        "\n",
        "Разность двух множеств возвращает новое множество, содержащее элементы из первого множества, которые отсутствуют во втором."
      ],
      "metadata": {
        "id": "idq2qAbTD9cI"
      }
    },
    {
      "cell_type": "code",
      "source": [
        "set1 = {1, 2, 3}\n",
        "set2 = {3, 4, 5}\n",
        "\n",
        "difference_set = set1.difference(set2)\n",
        "# или с использованием оператора -\n",
        "# difference_set = set1 - set2\n",
        "\n",
        "print(difference_set)\n"
      ],
      "metadata": {
        "colab": {
          "base_uri": "https://localhost:8080/"
        },
        "id": "NB6A5L9WEAz-",
        "outputId": "fc55fcc2-2a17-43bc-80a4-892b34d1bed6"
      },
      "execution_count": null,
      "outputs": [
        {
          "output_type": "stream",
          "name": "stdout",
          "text": [
            "{1, 2}\n"
          ]
        }
      ]
    },
    {
      "cell_type": "markdown",
      "source": [
        "Симметрическая разность множеств:\n",
        "\n",
        "Симметрическая разность двух множеств возвращает новое множество, содержащее элементы, которые присутствуют только в одном из множеств."
      ],
      "metadata": {
        "id": "F2wZ_DoNEay_"
      }
    },
    {
      "cell_type": "code",
      "source": [
        "set1 = {1, 2, 3}\n",
        "set2 = {3, 4, 5}\n",
        "\n",
        "symmetric_difference_set = set1.symmetric_difference(set2)\n",
        "# или с использованием оператора ^\n",
        "# symmetric_difference_set = set1 ^ set2\n",
        "\n",
        "print(symmetric_difference_set)\n"
      ],
      "metadata": {
        "colab": {
          "base_uri": "https://localhost:8080/"
        },
        "id": "iuzLG1d8EZ9T",
        "outputId": "fc50cf42-99ca-4019-b127-bc96527ec89d"
      },
      "execution_count": null,
      "outputs": [
        {
          "output_type": "stream",
          "name": "stdout",
          "text": [
            "{1, 2, 4, 5}\n"
          ]
        }
      ]
    },
    {
      "cell_type": "markdown",
      "source": [
        "##Задачи на пройденные темы."
      ],
      "metadata": {
        "id": "LaEuNw0cGgH-"
      }
    },
    {
      "cell_type": "markdown",
      "source": [
        "### №1 Заполнение змейкой\n",
        "На вход программе подаются два натуральных числа\n",
        "n и m (через пробел). Напишите программу, которая создает матрицу размером  $n×m$, заполнив её \"змейкой\". Пример:\n",
        "```\n",
        "n = 3\n",
        "m = 5\n",
        "\n",
        "1 2 3 4 5\n",
        "10 9 8 7 6\n",
        "11 12 13 14 15\n",
        "\n",
        "\n",
        "n = 3\n",
        "m = 3\n",
        "\n",
        "1 2 3\n",
        "6 5 4\n",
        "7 8 9\n",
        "```\n"
      ],
      "metadata": {
        "id": "uxh-SblGGmMD"
      }
    },
    {
      "cell_type": "markdown",
      "source": [
        "### Пример решения"
      ],
      "metadata": {
        "id": "yWqngmhRHy32"
      }
    },
    {
      "cell_type": "code",
      "source": [
        "n,m = [int(c) for c in input().split()]\n",
        "\n",
        "s = [[1 + j +i*m for j in range(m)] if i % 2 == 0 else [1 + j +i*m for j in range(m)][::-1] for i in range(n)]\n",
        "\n",
        "for i in range(n):\n",
        "    for j in range(m):\n",
        "        print(str(s[i][j]),end = ' ')\n",
        "    print()"
      ],
      "metadata": {
        "colab": {
          "base_uri": "https://localhost:8080/"
        },
        "id": "oGwS9o4JH1KI",
        "outputId": "a6cd6f29-6122-4d8c-e4c4-26de32214da3"
      },
      "execution_count": null,
      "outputs": [
        {
          "output_type": "stream",
          "name": "stdout",
          "text": [
            "3 3\n",
            "1 2 3 \n",
            "6 5 4 \n",
            "7 8 9 \n"
          ]
        }
      ]
    },
    {
      "cell_type": "markdown",
      "source": [],
      "metadata": {
        "id": "5YAXT2uxIPME"
      }
    },
    {
      "cell_type": "markdown",
      "source": [
        "### №2 Общие числа строк\n",
        "На вход программе подаются две строки, содержащие числа. Напишите программу, которая выводит все числа в порядке возрастания, которые есть как в первой строке, так и во второй.\n"
      ],
      "metadata": {
        "id": "6qaKwGh7IRRc"
      }
    },
    {
      "cell_type": "markdown",
      "source": [
        "###Пример решения"
      ],
      "metadata": {
        "id": "x-_rn04LIliQ"
      }
    },
    {
      "cell_type": "code",
      "source": [
        "s1, s2 = set([int(c) for c in input().split()]), set([int(c) for c in input().split()])\n",
        "ans = sorted(list(s1 & s2))\n",
        "print(*ans)"
      ],
      "metadata": {
        "colab": {
          "base_uri": "https://localhost:8080/"
        },
        "id": "X1NiTx6VIoSa",
        "outputId": "8d5dd677-c7a6-402b-8eb8-9db2b3921e4a"
      },
      "execution_count": null,
      "outputs": [
        {
          "output_type": "stream",
          "name": "stdout",
          "text": [
            "1 2 3\n",
            "1 2 4\n",
            "1 2\n"
          ]
        }
      ]
    },
    {
      "cell_type": "markdown",
      "source": [
        "# Итоговое задание на весь пройденный материал"
      ],
      "metadata": {
        "id": "57iQEL7GI6FF"
      }
    },
    {
      "cell_type": "markdown",
      "source": [
        "## №1 Выражение\n",
        "Вычислите значение выражения:\n",
        "$f(x, y) = \\frac{x^2 + y^2}{\\sqrt{x} + \\sqrt{y}} + \\sqrt{123}⋅ x^\\sqrt{321}\n",
        "$.\n",
        "На вход через пробел подаются два числа. Делайте проверку на ввод, и, если он неверный, выводите ERROR."
      ],
      "metadata": {
        "id": "z6IZB4jOLdJL"
      }
    },
    {
      "cell_type": "markdown",
      "source": [
        "###Пример решения"
      ],
      "metadata": {
        "id": "GQhv6KHoLpd3"
      }
    },
    {
      "cell_type": "code",
      "source": [
        "x,y = map(float,input().split())\n",
        "if x> 0 and y > 0:\n",
        "  result = (x**2 + y**2) / (x**0.5 + y**0.5) + 123 ** 0.5 * x ** (321**0.5)\n",
        "  print(result)\n",
        "else:\n",
        "  print(\"ERROR\")"
      ],
      "metadata": {
        "colab": {
          "base_uri": "https://localhost:8080/"
        },
        "outputId": "0aa8abd6-ca5d-4090-996a-d3743f194da6",
        "id": "4Sz19tgsLpd8"
      },
      "execution_count": 36,
      "outputs": [
        {
          "output_type": "stream",
          "name": "stdout",
          "text": [
            "0 1\n",
            "ERROR\n"
          ]
        }
      ]
    },
    {
      "cell_type": "markdown",
      "source": [
        "## №2 Гласные и согласные\n",
        "Подсчитайте количество гласных и согласных(русских) в введённой строке.\n",
        "На вход подаётся одна строка. На выходе два числа через пробел.\n",
        "\n"
      ],
      "metadata": {
        "id": "-S9qAMLsLda-"
      }
    },
    {
      "cell_type": "markdown",
      "source": [
        "###Пример решения"
      ],
      "metadata": {
        "id": "NF7-Drzg2zgx"
      }
    },
    {
      "cell_type": "code",
      "source": [
        "string = input()\n",
        "gl = 0\n",
        "sgl = 0\n",
        "for char in string:\n",
        "    if char.lower() in \"аоэеиыуёюя\":\n",
        "        gl += 1\n",
        "    elif char.isalpha():\n",
        "        sgl += 1\n",
        "print(gl,sgl,sep = ' ')\n"
      ],
      "metadata": {
        "colab": {
          "base_uri": "https://localhost:8080/"
        },
        "outputId": "780f24fc-cebb-4cff-ed3b-4c622077e254",
        "id": "xD1g0A_n2zg2"
      },
      "execution_count": 6,
      "outputs": [
        {
          "output_type": "stream",
          "name": "stdout",
          "text": [
            "Привет мир!\n",
            "3 6\n"
          ]
        }
      ]
    },
    {
      "cell_type": "markdown",
      "source": [
        "## №3 Интересное число\n",
        "Найдите все числа - палиндромы от 10 до $10^7$, которые делятся на 137 и второй цифрой (десятки) является 9. Выведите через пробел на экран.\n"
      ],
      "metadata": {
        "id": "MfwTp_KdLc2k"
      }
    },
    {
      "cell_type": "markdown",
      "source": [
        "###Пример решения"
      ],
      "metadata": {
        "id": "4InvF2urLozv"
      }
    },
    {
      "cell_type": "code",
      "source": [
        "for i in range(10,10**7 + 1):\n",
        "  if i % 137 == 0 and str(i) == str(i)[::-1] and str(i)[-2] == '9':\n",
        "    print(i, end = ' ')"
      ],
      "metadata": {
        "colab": {
          "base_uri": "https://localhost:8080/"
        },
        "outputId": "2d9cc38d-2cc9-4609-dc8d-e26a61d30a94",
        "id": "f2Z52RyKLoz0"
      },
      "execution_count": null,
      "outputs": [
        {
          "output_type": "stream",
          "name": "stdout",
          "text": [
            "19591 29592 39593 49594 59595 69596 79597 89598 99599 990099 1910191 2920292 3930393 4940494 5950595 6960696 7970797 8980898 9990999 "
          ]
        }
      ]
    },
    {
      "cell_type": "markdown",
      "source": [
        "## №4 Unicode\n",
        "Посчитайте сумму значений Unicode для русских маленьких букв (ord('a') + ord('б') + ...), и то же самое для английских маленьких букв. Выведите остаток от деления первого на второе.\n"
      ],
      "metadata": {
        "id": "PwS9fpUPLdiG"
      }
    },
    {
      "cell_type": "markdown",
      "source": [
        "###Пример решения"
      ],
      "metadata": {
        "id": "4ggdDV1rLqk1"
      }
    },
    {
      "cell_type": "code",
      "source": [
        "russian = sum(chr_code for chr_code in range(ord('а'), ord('я')+1))\n",
        "english = sum(chr_code for chr_code in range(ord('a'), ord('z')+1))\n",
        "remainder = russian % english\n",
        "print(remainder)\n"
      ],
      "metadata": {
        "colab": {
          "base_uri": "https://localhost:8080/"
        },
        "outputId": "23bb97c0-9db0-4145-fc38-bcafdfa6cadd",
        "id": "4WgiCUm3Lqk1"
      },
      "execution_count": 12,
      "outputs": [
        {
          "output_type": "stream",
          "name": "stdout",
          "text": [
            "636\n"
          ]
        }
      ]
    },
    {
      "cell_type": "markdown",
      "source": [
        "## №5 Счётчик слов\n",
        "Напишите программу, которая принимает на вход текст и выводит на экран количество вхождений каждого слова в этот текст (словарём). При этом, программа должна игнорировать знаки препинания и учитывать только слова.\n",
        "Знаки препинания:\n",
        "```\n",
        "'''!()-[]{};:'\"\\,<>./?@#$%^&*_~'''\n",
        "```"
      ],
      "metadata": {
        "id": "ZhXpU21tLdo4"
      }
    },
    {
      "cell_type": "markdown",
      "source": [
        "###Пример решения"
      ],
      "metadata": {
        "id": "zsbvUlT8LrPp"
      }
    },
    {
      "cell_type": "code",
      "source": [
        "def count_words(text):\n",
        "    punctuation = '''!()-[]{};:'\"\\,<>./?@#$%^&*_~'''\n",
        "\n",
        "    text_cleaned = \"\"\n",
        "    for char in text:\n",
        "        if char not in punctuation:\n",
        "            text_cleaned += char\n",
        "\n",
        "    words = text_cleaned.lower().split()\n",
        "\n",
        "    word_count = {}\n",
        "\n",
        "    for word in words:\n",
        "        if word in word_count:\n",
        "            word_count[word] += 1\n",
        "        else:\n",
        "            word_count[word] = 1\n",
        "\n",
        "    print(word_count)\n",
        "\n",
        "\n",
        "count_words(input())\n"
      ],
      "metadata": {
        "colab": {
          "base_uri": "https://localhost:8080/"
        },
        "outputId": "70e232af-a322-4fd9-da9f-101c9cdadd5b",
        "id": "Oiv0RXamLrPp"
      },
      "execution_count": 26,
      "outputs": [
        {
          "output_type": "stream",
          "name": "stdout",
          "text": [
            "Привет, мир, приВет, мир раз два три п п п \n",
            "{'привет': 2, 'мир': 2, 'раз': 1, 'два': 1, 'три': 1, 'п': 3}\n"
          ]
        }
      ]
    },
    {
      "cell_type": "markdown",
      "source": [
        "## №6 Простые числа.\n",
        "Напишие функцию, которая находит все простые числа от 2 до n включительно. (n - подаётся на вход). Вывести эти числа через пробел.\n",
        "P.s. воспользуйтесь функцией из 3 занятия.\n",
        ".\n"
      ],
      "metadata": {
        "id": "5NbMNgO7Ldvi"
      }
    },
    {
      "cell_type": "markdown",
      "source": [
        "###Пример решения"
      ],
      "metadata": {
        "id": "JbJE66CPLr0g"
      }
    },
    {
      "cell_type": "code",
      "source": [
        "n = int(input())\n",
        "\n",
        "def is_prime(num):\n",
        "    if num == 1:\n",
        "        return False\n",
        "    else:\n",
        "        for i in range(2, round(num ** 0.5) + 1):\n",
        "            if num % i == 0:\n",
        "                return False\n",
        "        return True\n",
        "\n",
        "def n_prime(n):\n",
        "  ans = []\n",
        "  for i in range(2,n+1):\n",
        "    if is_prime(i):\n",
        "      ans.append(i)\n",
        "  return ans\n",
        "\n",
        "print(*n_prime(n))\n"
      ],
      "metadata": {
        "colab": {
          "base_uri": "https://localhost:8080/"
        },
        "outputId": "ade8b12c-f222-42a4-81fe-94d1b731e5e6",
        "id": "seubQsHDLr0h"
      },
      "execution_count": 37,
      "outputs": [
        {
          "output_type": "stream",
          "name": "stdout",
          "text": [
            "1000\n",
            "2 3 5 7 11 13 17 19 23 29 31 37 41 43 47 53 59 61 67 71 73 79 83 89 97 101 103 107 109 113 127 131 137 139 149 151 157 163 167 173 179 181 191 193 197 199 211 223 227 229 233 239 241 251 257 263 269 271 277 281 283 293 307 311 313 317 331 337 347 349 353 359 367 373 379 383 389 397 401 409 419 421 431 433 439 443 449 457 461 463 467 479 487 491 499 503 509 521 523 541 547 557 563 569 571 577 587 593 599 601 607 613 617 619 631 641 643 647 653 659 661 673 677 683 691 701 709 719 727 733 739 743 751 757 761 769 773 787 797 809 811 821 823 827 829 839 853 857 859 863 877 881 883 887 907 911 919 929 937 941 947 953 967 971 977 983 991 997\n"
          ]
        }
      ]
    },
    {
      "cell_type": "markdown",
      "source": [
        "## №7 Интересная сортировка\n",
        " На вход подаётся список слов (русские слова через пробел) отсортируйте список по убыванию количества гласных букв в словах.\n",
        "\n"
      ],
      "metadata": {
        "id": "iI0Td_bJLd2Z"
      }
    },
    {
      "cell_type": "markdown",
      "source": [
        "###Пример решения"
      ],
      "metadata": {
        "id": "I43x-sOaLsN3"
      }
    },
    {
      "cell_type": "code",
      "source": [
        "words = input().split()\n",
        "\n",
        "def gl_counts(string):\n",
        "  gl = 0\n",
        "  for char in string:\n",
        "    if char.lower() in \"аоэеиыуёюя\":\n",
        "        gl +=1\n",
        "  return gl\n",
        "ans = sorted(words, key = gl_counts, reverse = True)\n",
        "print(ans)"
      ],
      "metadata": {
        "colab": {
          "base_uri": "https://localhost:8080/"
        },
        "outputId": "e8b8aa9a-2651-402c-9e86-5cf04f3029cc",
        "id": "QdMK7_TYLsN4"
      },
      "execution_count": 19,
      "outputs": [
        {
          "output_type": "stream",
          "name": "stdout",
          "text": [
            "ааа аааа ееее фыв б\n",
            "['аааа', 'ееее', 'ааа', 'фыв', 'б']\n"
          ]
        }
      ]
    },
    {
      "cell_type": "markdown",
      "source": [
        "## №8 Правильный многоугольник\n",
        "Вычислите площадь правильного многоугольника. На вход подаются два числа: n, a. Каждое на новой строке. Ответ округлите до 6 знаков после запятой.\n",
        "\n",
        "P.s. Площадь правильного многоугольника с длиной стороны a и количеством сторон n вычисляется по формуле: $S = \\dfrac{n \\cdot a^2}{4 \\cdot \\tan\\left(\\frac{\\pi}{n}\\right)}\n",
        "$\n",
        "\n"
      ],
      "metadata": {
        "id": "cFrUwXavLd9R"
      }
    },
    {
      "cell_type": "markdown",
      "source": [
        "###Пример решения"
      ],
      "metadata": {
        "id": "wEdRzh4dLsqD"
      }
    },
    {
      "cell_type": "code",
      "source": [
        "from math import *\n",
        "n, a = int(input()), float(input())\n",
        "print(round(n * a ** 2 / (4 * tan(pi / n)),6))\n",
        "\n"
      ],
      "metadata": {
        "colab": {
          "base_uri": "https://localhost:8080/"
        },
        "outputId": "0bcd061d-ef24-445c-9950-86bda61c937d",
        "id": "fn-zEIuYLsqD"
      },
      "execution_count": 32,
      "outputs": [
        {
          "output_type": "stream",
          "name": "stdout",
          "text": [
            "3\n",
            "2\n",
            "1.732051\n"
          ]
        }
      ]
    },
    {
      "cell_type": "markdown",
      "source": [
        "## №9 Перемешивание матрицы.\n",
        "Напишите программу, которая с помощью модуля random перемешивает случайным образом содержимое матрицы (двумерного списка).\n",
        "```\n",
        "matrix = [[1, 2, 3],\n",
        "          [4, 5, 6],\n",
        "          [7, 8, 9]]\n",
        "\n",
        "```\n",
        "\n",
        "\n"
      ],
      "metadata": {
        "id": "AQG3hZ_0LeDR"
      }
    },
    {
      "cell_type": "markdown",
      "source": [
        "###Пример решения"
      ],
      "metadata": {
        "id": "3Btd0zBULtJ8"
      }
    },
    {
      "cell_type": "code",
      "source": [
        "import random\n",
        "\n",
        "def shuffle_matrix(matrix):\n",
        "    # Получаем количество строк и столбцов матрицы\n",
        "    rows = len(matrix)\n",
        "    cols = len(matrix[0])\n",
        "\n",
        "    # Создаем плоский список из элементов матрицы\n",
        "    flat_matrix = [matrix[i][j] for i in range(rows) for j in range(cols)]\n",
        "\n",
        "    # Перемешиваем элементы списка\n",
        "    random.shuffle(flat_matrix)\n",
        "\n",
        "    # Создаем новую матрицу и заполняем ее перемешанными элементами\n",
        "    shuffled_matrix = [[flat_matrix[i * cols + j] for j in range(cols)] for i in range(rows)]\n",
        "\n",
        "    return shuffled_matrix\n",
        "\n",
        "matrix = [[1, 2, 3],\n",
        "          [4, 5, 6],\n",
        "          [7, 8, 9]]\n",
        "\n",
        "shuffled_matrix = shuffle_matrix(matrix)\n",
        "\n",
        "# Выводим исходную и перемешанную матрицы\n",
        "print(\"Исходная матрица:\")\n",
        "for row in matrix:\n",
        "    print(row)\n",
        "\n",
        "print(\"\\nПеремешанная матрица:\")\n",
        "for row in shuffled_matrix:\n",
        "    print(row)\n"
      ],
      "metadata": {
        "colab": {
          "base_uri": "https://localhost:8080/"
        },
        "outputId": "41c0847b-c8c7-46a9-81ee-46f939021ec3",
        "id": "ZRuk8p4ULtJ8"
      },
      "execution_count": 35,
      "outputs": [
        {
          "output_type": "stream",
          "name": "stdout",
          "text": [
            "Исходная матрица:\n",
            "[1, 2, 3]\n",
            "[4, 5, 6]\n",
            "[7, 8, 9]\n",
            "\n",
            "Перемешанная матрица:\n",
            "[6, 1, 4]\n",
            "[3, 2, 8]\n",
            "[5, 7, 9]\n"
          ]
        }
      ]
    }
  ]
}
